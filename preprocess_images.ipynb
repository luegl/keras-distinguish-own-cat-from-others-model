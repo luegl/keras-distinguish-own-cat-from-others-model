{
  "nbformat": 4,
  "nbformat_minor": 0,
  "metadata": {
    "colab": {
      "provenance": [],
      "authorship_tag": "ABX9TyNyT5BiX4q36W5LAhZwRXSw",
      "include_colab_link": true
    },
    "kernelspec": {
      "name": "python3",
      "display_name": "Python 3"
    },
    "language_info": {
      "name": "python"
    }
  },
  "cells": [
    {
      "cell_type": "markdown",
      "metadata": {
        "id": "view-in-github",
        "colab_type": "text"
      },
      "source": [
        "<a href=\"https://colab.research.google.com/github/luegl/keras-distinguish-own-cat-from-others-model/blob/main/preprocess_images.ipynb\" target=\"_parent\"><img src=\"https://colab.research.google.com/assets/colab-badge.svg\" alt=\"Open In Colab\"/></a>"
      ]
    },
    {
      "cell_type": "markdown",
      "source": [
        "Install the library with pip"
      ],
      "metadata": {
        "id": "5XV_dBZEWTxF"
      }
    },
    {
      "cell_type": "code",
      "source": [
        "!pip install ultralytics"
      ],
      "metadata": {
        "colab": {
          "base_uri": "https://localhost:8080/"
        },
        "collapsed": true,
        "id": "4WRFaLnaWRC1",
        "outputId": "213f01ac-0eb7-4cc1-b30d-68e4dc1da0c2"
      },
      "execution_count": null,
      "outputs": [
        {
          "output_type": "stream",
          "name": "stdout",
          "text": [
            "Collecting ultralytics\n",
            "  Downloading ultralytics-8.3.85-py3-none-any.whl.metadata (35 kB)\n",
            "Requirement already satisfied: numpy<=2.1.1,>=1.23.0 in /usr/local/lib/python3.11/dist-packages (from ultralytics) (1.26.4)\n",
            "Requirement already satisfied: matplotlib>=3.3.0 in /usr/local/lib/python3.11/dist-packages (from ultralytics) (3.10.0)\n",
            "Requirement already satisfied: opencv-python>=4.6.0 in /usr/local/lib/python3.11/dist-packages (from ultralytics) (4.11.0.86)\n",
            "Requirement already satisfied: pillow>=7.1.2 in /usr/local/lib/python3.11/dist-packages (from ultralytics) (11.1.0)\n",
            "Requirement already satisfied: pyyaml>=5.3.1 in /usr/local/lib/python3.11/dist-packages (from ultralytics) (6.0.2)\n",
            "Requirement already satisfied: requests>=2.23.0 in /usr/local/lib/python3.11/dist-packages (from ultralytics) (2.32.3)\n",
            "Requirement already satisfied: scipy>=1.4.1 in /usr/local/lib/python3.11/dist-packages (from ultralytics) (1.13.1)\n",
            "Requirement already satisfied: torch>=1.8.0 in /usr/local/lib/python3.11/dist-packages (from ultralytics) (2.5.1+cu124)\n",
            "Requirement already satisfied: torchvision>=0.9.0 in /usr/local/lib/python3.11/dist-packages (from ultralytics) (0.20.1+cu124)\n",
            "Requirement already satisfied: tqdm>=4.64.0 in /usr/local/lib/python3.11/dist-packages (from ultralytics) (4.67.1)\n",
            "Requirement already satisfied: psutil in /usr/local/lib/python3.11/dist-packages (from ultralytics) (5.9.5)\n",
            "Requirement already satisfied: py-cpuinfo in /usr/local/lib/python3.11/dist-packages (from ultralytics) (9.0.0)\n",
            "Requirement already satisfied: pandas>=1.1.4 in /usr/local/lib/python3.11/dist-packages (from ultralytics) (2.2.2)\n",
            "Requirement already satisfied: seaborn>=0.11.0 in /usr/local/lib/python3.11/dist-packages (from ultralytics) (0.13.2)\n",
            "Collecting ultralytics-thop>=2.0.0 (from ultralytics)\n",
            "  Downloading ultralytics_thop-2.0.14-py3-none-any.whl.metadata (9.4 kB)\n",
            "Requirement already satisfied: contourpy>=1.0.1 in /usr/local/lib/python3.11/dist-packages (from matplotlib>=3.3.0->ultralytics) (1.3.1)\n",
            "Requirement already satisfied: cycler>=0.10 in /usr/local/lib/python3.11/dist-packages (from matplotlib>=3.3.0->ultralytics) (0.12.1)\n",
            "Requirement already satisfied: fonttools>=4.22.0 in /usr/local/lib/python3.11/dist-packages (from matplotlib>=3.3.0->ultralytics) (4.56.0)\n",
            "Requirement already satisfied: kiwisolver>=1.3.1 in /usr/local/lib/python3.11/dist-packages (from matplotlib>=3.3.0->ultralytics) (1.4.8)\n",
            "Requirement already satisfied: packaging>=20.0 in /usr/local/lib/python3.11/dist-packages (from matplotlib>=3.3.0->ultralytics) (24.2)\n",
            "Requirement already satisfied: pyparsing>=2.3.1 in /usr/local/lib/python3.11/dist-packages (from matplotlib>=3.3.0->ultralytics) (3.2.1)\n",
            "Requirement already satisfied: python-dateutil>=2.7 in /usr/local/lib/python3.11/dist-packages (from matplotlib>=3.3.0->ultralytics) (2.8.2)\n",
            "Requirement already satisfied: pytz>=2020.1 in /usr/local/lib/python3.11/dist-packages (from pandas>=1.1.4->ultralytics) (2025.1)\n",
            "Requirement already satisfied: tzdata>=2022.7 in /usr/local/lib/python3.11/dist-packages (from pandas>=1.1.4->ultralytics) (2025.1)\n",
            "Requirement already satisfied: charset-normalizer<4,>=2 in /usr/local/lib/python3.11/dist-packages (from requests>=2.23.0->ultralytics) (3.4.1)\n",
            "Requirement already satisfied: idna<4,>=2.5 in /usr/local/lib/python3.11/dist-packages (from requests>=2.23.0->ultralytics) (3.10)\n",
            "Requirement already satisfied: urllib3<3,>=1.21.1 in /usr/local/lib/python3.11/dist-packages (from requests>=2.23.0->ultralytics) (2.3.0)\n",
            "Requirement already satisfied: certifi>=2017.4.17 in /usr/local/lib/python3.11/dist-packages (from requests>=2.23.0->ultralytics) (2025.1.31)\n",
            "Requirement already satisfied: filelock in /usr/local/lib/python3.11/dist-packages (from torch>=1.8.0->ultralytics) (3.17.0)\n",
            "Requirement already satisfied: typing-extensions>=4.8.0 in /usr/local/lib/python3.11/dist-packages (from torch>=1.8.0->ultralytics) (4.12.2)\n",
            "Requirement already satisfied: networkx in /usr/local/lib/python3.11/dist-packages (from torch>=1.8.0->ultralytics) (3.4.2)\n",
            "Requirement already satisfied: jinja2 in /usr/local/lib/python3.11/dist-packages (from torch>=1.8.0->ultralytics) (3.1.5)\n",
            "Requirement already satisfied: fsspec in /usr/local/lib/python3.11/dist-packages (from torch>=1.8.0->ultralytics) (2024.10.0)\n",
            "Collecting nvidia-cuda-nvrtc-cu12==12.4.127 (from torch>=1.8.0->ultralytics)\n",
            "  Downloading nvidia_cuda_nvrtc_cu12-12.4.127-py3-none-manylinux2014_x86_64.whl.metadata (1.5 kB)\n",
            "Collecting nvidia-cuda-runtime-cu12==12.4.127 (from torch>=1.8.0->ultralytics)\n",
            "  Downloading nvidia_cuda_runtime_cu12-12.4.127-py3-none-manylinux2014_x86_64.whl.metadata (1.5 kB)\n",
            "Collecting nvidia-cuda-cupti-cu12==12.4.127 (from torch>=1.8.0->ultralytics)\n",
            "  Downloading nvidia_cuda_cupti_cu12-12.4.127-py3-none-manylinux2014_x86_64.whl.metadata (1.6 kB)\n",
            "Collecting nvidia-cudnn-cu12==9.1.0.70 (from torch>=1.8.0->ultralytics)\n",
            "  Downloading nvidia_cudnn_cu12-9.1.0.70-py3-none-manylinux2014_x86_64.whl.metadata (1.6 kB)\n",
            "Collecting nvidia-cublas-cu12==12.4.5.8 (from torch>=1.8.0->ultralytics)\n",
            "  Downloading nvidia_cublas_cu12-12.4.5.8-py3-none-manylinux2014_x86_64.whl.metadata (1.5 kB)\n",
            "Collecting nvidia-cufft-cu12==11.2.1.3 (from torch>=1.8.0->ultralytics)\n",
            "  Downloading nvidia_cufft_cu12-11.2.1.3-py3-none-manylinux2014_x86_64.whl.metadata (1.5 kB)\n",
            "Collecting nvidia-curand-cu12==10.3.5.147 (from torch>=1.8.0->ultralytics)\n",
            "  Downloading nvidia_curand_cu12-10.3.5.147-py3-none-manylinux2014_x86_64.whl.metadata (1.5 kB)\n",
            "Collecting nvidia-cusolver-cu12==11.6.1.9 (from torch>=1.8.0->ultralytics)\n",
            "  Downloading nvidia_cusolver_cu12-11.6.1.9-py3-none-manylinux2014_x86_64.whl.metadata (1.6 kB)\n",
            "Collecting nvidia-cusparse-cu12==12.3.1.170 (from torch>=1.8.0->ultralytics)\n",
            "  Downloading nvidia_cusparse_cu12-12.3.1.170-py3-none-manylinux2014_x86_64.whl.metadata (1.6 kB)\n",
            "Requirement already satisfied: nvidia-nccl-cu12==2.21.5 in /usr/local/lib/python3.11/dist-packages (from torch>=1.8.0->ultralytics) (2.21.5)\n",
            "Requirement already satisfied: nvidia-nvtx-cu12==12.4.127 in /usr/local/lib/python3.11/dist-packages (from torch>=1.8.0->ultralytics) (12.4.127)\n",
            "Collecting nvidia-nvjitlink-cu12==12.4.127 (from torch>=1.8.0->ultralytics)\n",
            "  Downloading nvidia_nvjitlink_cu12-12.4.127-py3-none-manylinux2014_x86_64.whl.metadata (1.5 kB)\n",
            "Requirement already satisfied: triton==3.1.0 in /usr/local/lib/python3.11/dist-packages (from torch>=1.8.0->ultralytics) (3.1.0)\n",
            "Requirement already satisfied: sympy==1.13.1 in /usr/local/lib/python3.11/dist-packages (from torch>=1.8.0->ultralytics) (1.13.1)\n",
            "Requirement already satisfied: mpmath<1.4,>=1.1.0 in /usr/local/lib/python3.11/dist-packages (from sympy==1.13.1->torch>=1.8.0->ultralytics) (1.3.0)\n",
            "Requirement already satisfied: six>=1.5 in /usr/local/lib/python3.11/dist-packages (from python-dateutil>=2.7->matplotlib>=3.3.0->ultralytics) (1.17.0)\n",
            "Requirement already satisfied: MarkupSafe>=2.0 in /usr/local/lib/python3.11/dist-packages (from jinja2->torch>=1.8.0->ultralytics) (3.0.2)\n",
            "Downloading ultralytics-8.3.85-py3-none-any.whl (922 kB)\n",
            "\u001b[2K   \u001b[90m━━━━━━━━━━━━━━━━━━━━━━━━━━━━━━━━━━━━━━━━\u001b[0m \u001b[32m922.2/922.2 kB\u001b[0m \u001b[31m37.0 MB/s\u001b[0m eta \u001b[36m0:00:00\u001b[0m\n",
            "\u001b[?25hDownloading nvidia_cublas_cu12-12.4.5.8-py3-none-manylinux2014_x86_64.whl (363.4 MB)\n",
            "\u001b[2K   \u001b[90m━━━━━━━━━━━━━━━━━━━━━━━━━━━━━━━━━━━━━━━━\u001b[0m \u001b[32m363.4/363.4 MB\u001b[0m \u001b[31m4.0 MB/s\u001b[0m eta \u001b[36m0:00:00\u001b[0m\n",
            "\u001b[?25hDownloading nvidia_cuda_cupti_cu12-12.4.127-py3-none-manylinux2014_x86_64.whl (13.8 MB)\n",
            "\u001b[2K   \u001b[90m━━━━━━━━━━━━━━━━━━━━━━━━━━━━━━━━━━━━━━━━\u001b[0m \u001b[32m13.8/13.8 MB\u001b[0m \u001b[31m90.7 MB/s\u001b[0m eta \u001b[36m0:00:00\u001b[0m\n",
            "\u001b[?25hDownloading nvidia_cuda_nvrtc_cu12-12.4.127-py3-none-manylinux2014_x86_64.whl (24.6 MB)\n",
            "\u001b[2K   \u001b[90m━━━━━━━━━━━━━━━━━━━━━━━━━━━━━━━━━━━━━━━━\u001b[0m \u001b[32m24.6/24.6 MB\u001b[0m \u001b[31m72.9 MB/s\u001b[0m eta \u001b[36m0:00:00\u001b[0m\n",
            "\u001b[?25hDownloading nvidia_cuda_runtime_cu12-12.4.127-py3-none-manylinux2014_x86_64.whl (883 kB)\n",
            "\u001b[2K   \u001b[90m━━━━━━━━━━━━━━━━━━━━━━━━━━━━━━━━━━━━━━━━\u001b[0m \u001b[32m883.7/883.7 kB\u001b[0m \u001b[31m39.2 MB/s\u001b[0m eta \u001b[36m0:00:00\u001b[0m\n",
            "\u001b[?25hDownloading nvidia_cudnn_cu12-9.1.0.70-py3-none-manylinux2014_x86_64.whl (664.8 MB)\n",
            "\u001b[2K   \u001b[90m━━━━━━━━━━━━━━━━━━━━━━━━━━━━━━━━━━━━━━━━\u001b[0m \u001b[32m664.8/664.8 MB\u001b[0m \u001b[31m2.9 MB/s\u001b[0m eta \u001b[36m0:00:00\u001b[0m\n",
            "\u001b[?25hDownloading nvidia_cufft_cu12-11.2.1.3-py3-none-manylinux2014_x86_64.whl (211.5 MB)\n",
            "\u001b[2K   \u001b[90m━━━━━━━━━━━━━━━━━━━━━━━━━━━━━━━━━━━━━━━━\u001b[0m \u001b[32m211.5/211.5 MB\u001b[0m \u001b[31m5.9 MB/s\u001b[0m eta \u001b[36m0:00:00\u001b[0m\n",
            "\u001b[?25hDownloading nvidia_curand_cu12-10.3.5.147-py3-none-manylinux2014_x86_64.whl (56.3 MB)\n",
            "\u001b[2K   \u001b[90m━━━━━━━━━━━━━━━━━━━━━━━━━━━━━━━━━━━━━━━━\u001b[0m \u001b[32m56.3/56.3 MB\u001b[0m \u001b[31m11.4 MB/s\u001b[0m eta \u001b[36m0:00:00\u001b[0m\n",
            "\u001b[?25hDownloading nvidia_cusolver_cu12-11.6.1.9-py3-none-manylinux2014_x86_64.whl (127.9 MB)\n",
            "\u001b[2K   \u001b[90m━━━━━━━━━━━━━━━━━━━━━━━━━━━━━━━━━━━━━━━━\u001b[0m \u001b[32m127.9/127.9 MB\u001b[0m \u001b[31m7.3 MB/s\u001b[0m eta \u001b[36m0:00:00\u001b[0m\n",
            "\u001b[?25hDownloading nvidia_cusparse_cu12-12.3.1.170-py3-none-manylinux2014_x86_64.whl (207.5 MB)\n",
            "\u001b[2K   \u001b[90m━━━━━━━━━━━━━━━━━━━━━━━━━━━━━━━━━━━━━━━━\u001b[0m \u001b[32m207.5/207.5 MB\u001b[0m \u001b[31m5.4 MB/s\u001b[0m eta \u001b[36m0:00:00\u001b[0m\n",
            "\u001b[?25hDownloading nvidia_nvjitlink_cu12-12.4.127-py3-none-manylinux2014_x86_64.whl (21.1 MB)\n",
            "\u001b[2K   \u001b[90m━━━━━━━━━━━━━━━━━━━━━━━━━━━━━━━━━━━━━━━━\u001b[0m \u001b[32m21.1/21.1 MB\u001b[0m \u001b[31m57.2 MB/s\u001b[0m eta \u001b[36m0:00:00\u001b[0m\n",
            "\u001b[?25hDownloading ultralytics_thop-2.0.14-py3-none-any.whl (26 kB)\n",
            "Installing collected packages: nvidia-nvjitlink-cu12, nvidia-curand-cu12, nvidia-cufft-cu12, nvidia-cuda-runtime-cu12, nvidia-cuda-nvrtc-cu12, nvidia-cuda-cupti-cu12, nvidia-cublas-cu12, nvidia-cusparse-cu12, nvidia-cudnn-cu12, nvidia-cusolver-cu12, ultralytics-thop, ultralytics\n",
            "  Attempting uninstall: nvidia-nvjitlink-cu12\n",
            "    Found existing installation: nvidia-nvjitlink-cu12 12.5.82\n",
            "    Uninstalling nvidia-nvjitlink-cu12-12.5.82:\n",
            "      Successfully uninstalled nvidia-nvjitlink-cu12-12.5.82\n",
            "  Attempting uninstall: nvidia-curand-cu12\n",
            "    Found existing installation: nvidia-curand-cu12 10.3.6.82\n",
            "    Uninstalling nvidia-curand-cu12-10.3.6.82:\n",
            "      Successfully uninstalled nvidia-curand-cu12-10.3.6.82\n",
            "  Attempting uninstall: nvidia-cufft-cu12\n",
            "    Found existing installation: nvidia-cufft-cu12 11.2.3.61\n",
            "    Uninstalling nvidia-cufft-cu12-11.2.3.61:\n",
            "      Successfully uninstalled nvidia-cufft-cu12-11.2.3.61\n",
            "  Attempting uninstall: nvidia-cuda-runtime-cu12\n",
            "    Found existing installation: nvidia-cuda-runtime-cu12 12.5.82\n",
            "    Uninstalling nvidia-cuda-runtime-cu12-12.5.82:\n",
            "      Successfully uninstalled nvidia-cuda-runtime-cu12-12.5.82\n",
            "  Attempting uninstall: nvidia-cuda-nvrtc-cu12\n",
            "    Found existing installation: nvidia-cuda-nvrtc-cu12 12.5.82\n",
            "    Uninstalling nvidia-cuda-nvrtc-cu12-12.5.82:\n",
            "      Successfully uninstalled nvidia-cuda-nvrtc-cu12-12.5.82\n",
            "  Attempting uninstall: nvidia-cuda-cupti-cu12\n",
            "    Found existing installation: nvidia-cuda-cupti-cu12 12.5.82\n",
            "    Uninstalling nvidia-cuda-cupti-cu12-12.5.82:\n",
            "      Successfully uninstalled nvidia-cuda-cupti-cu12-12.5.82\n",
            "  Attempting uninstall: nvidia-cublas-cu12\n",
            "    Found existing installation: nvidia-cublas-cu12 12.5.3.2\n",
            "    Uninstalling nvidia-cublas-cu12-12.5.3.2:\n",
            "      Successfully uninstalled nvidia-cublas-cu12-12.5.3.2\n",
            "  Attempting uninstall: nvidia-cusparse-cu12\n",
            "    Found existing installation: nvidia-cusparse-cu12 12.5.1.3\n",
            "    Uninstalling nvidia-cusparse-cu12-12.5.1.3:\n",
            "      Successfully uninstalled nvidia-cusparse-cu12-12.5.1.3\n",
            "  Attempting uninstall: nvidia-cudnn-cu12\n",
            "    Found existing installation: nvidia-cudnn-cu12 9.3.0.75\n",
            "    Uninstalling nvidia-cudnn-cu12-9.3.0.75:\n",
            "      Successfully uninstalled nvidia-cudnn-cu12-9.3.0.75\n",
            "  Attempting uninstall: nvidia-cusolver-cu12\n",
            "    Found existing installation: nvidia-cusolver-cu12 11.6.3.83\n",
            "    Uninstalling nvidia-cusolver-cu12-11.6.3.83:\n",
            "      Successfully uninstalled nvidia-cusolver-cu12-11.6.3.83\n",
            "Successfully installed nvidia-cublas-cu12-12.4.5.8 nvidia-cuda-cupti-cu12-12.4.127 nvidia-cuda-nvrtc-cu12-12.4.127 nvidia-cuda-runtime-cu12-12.4.127 nvidia-cudnn-cu12-9.1.0.70 nvidia-cufft-cu12-11.2.1.3 nvidia-curand-cu12-10.3.5.147 nvidia-cusolver-cu12-11.6.1.9 nvidia-cusparse-cu12-12.3.1.170 nvidia-nvjitlink-cu12-12.4.127 ultralytics-8.3.85 ultralytics-thop-2.0.14\n"
          ]
        }
      ]
    },
    {
      "cell_type": "markdown",
      "source": [
        "Mount drive"
      ],
      "metadata": {
        "id": "v4jM-LLOWPJu"
      }
    },
    {
      "cell_type": "code",
      "source": [
        "from google.colab import drive\n",
        "drive.mount('/content/drive')"
      ],
      "metadata": {
        "colab": {
          "base_uri": "https://localhost:8080/"
        },
        "id": "DphZnsXfWNay",
        "outputId": "12d1bd5f-0924-4974-a579-ae9993c3774b"
      },
      "execution_count": null,
      "outputs": [
        {
          "output_type": "stream",
          "name": "stdout",
          "text": [
            "Drive already mounted at /content/drive; to attempt to forcibly remount, call drive.mount(\"/content/drive\", force_remount=True).\n"
          ]
        }
      ]
    },
    {
      "cell_type": "markdown",
      "source": [
        "Import libraries"
      ],
      "metadata": {
        "id": "OSmeCbc_W5Gf"
      }
    },
    {
      "cell_type": "code",
      "source": [
        "import os\n",
        "import cv2\n",
        "import random\n",
        "from ultralytics import YOLO\n",
        "from tqdm import tqdm\n",
        "import shutil"
      ],
      "metadata": {
        "colab": {
          "base_uri": "https://localhost:8080/"
        },
        "id": "JnKaw10PW6VP",
        "outputId": "bf42b24b-ef5b-414d-c406-26a38539c54e"
      },
      "execution_count": null,
      "outputs": [
        {
          "output_type": "stream",
          "name": "stdout",
          "text": [
            "Creating new Ultralytics Settings v0.0.6 file ✅ \n",
            "View Ultralytics Settings with 'yolo settings' or at '/root/.config/Ultralytics/settings.json'\n",
            "Update Settings with 'yolo settings key=value', i.e. 'yolo settings runs_dir=path/to/dir'. For help see https://docs.ultralytics.com/quickstart/#ultralytics-settings.\n"
          ]
        }
      ]
    },
    {
      "cell_type": "markdown",
      "source": [
        "This script uses YOLOv8 to detect and crop cat images, saving them in categorized folders"
      ],
      "metadata": {
        "id": "_meTyjiMWFmJ"
      }
    },
    {
      "cell_type": "code",
      "execution_count": null,
      "metadata": {
        "colab": {
          "base_uri": "https://localhost:8080/"
        },
        "id": "RHu5n_M0VA0G",
        "outputId": "fc466dfe-069b-495a-b9b2-20d99003a812"
      },
      "outputs": [
        {
          "output_type": "stream",
          "name": "stdout",
          "text": [
            "Processing images in category: flaekli\n"
          ]
        },
        {
          "output_type": "stream",
          "name": "stderr",
          "text": [
            "\rProcessing: flaekli:   0%|                                                  | 0/178 [00:00<?, ?it/s]"
          ]
        },
        {
          "output_type": "stream",
          "name": "stdout",
          "text": [
            "\n",
            "0: 640x480 1 cat, 172.3ms\n",
            "Speed: 6.7ms preprocess, 172.3ms inference, 1.3ms postprocess per image at shape (1, 3, 640, 480)\n"
          ]
        },
        {
          "output_type": "stream",
          "name": "stderr",
          "text": [
            "\rProcessing: flaekli:   1%|▏                                         | 1/178 [00:00<01:02,  2.83it/s]"
          ]
        },
        {
          "output_type": "stream",
          "name": "stdout",
          "text": [
            "\n",
            "0: 640x640 1 cat, 228.4ms\n",
            "Speed: 7.6ms preprocess, 228.4ms inference, 1.4ms postprocess per image at shape (1, 3, 640, 640)\n"
          ]
        },
        {
          "output_type": "stream",
          "name": "stderr",
          "text": [
            "\rProcessing: flaekli:   1%|▍                                         | 2/178 [00:00<00:52,  3.33it/s]"
          ]
        },
        {
          "output_type": "stream",
          "name": "stdout",
          "text": [
            "\n",
            "0: 640x640 1 cat, 231.4ms\n",
            "Speed: 7.1ms preprocess, 231.4ms inference, 1.4ms postprocess per image at shape (1, 3, 640, 640)\n"
          ]
        },
        {
          "output_type": "stream",
          "name": "stderr",
          "text": [
            "\rProcessing: flaekli:   2%|▋                                         | 3/178 [00:00<00:49,  3.52it/s]"
          ]
        },
        {
          "output_type": "stream",
          "name": "stdout",
          "text": [
            "\n",
            "0: 640x640 1 cat, 265.6ms\n",
            "Speed: 6.6ms preprocess, 265.6ms inference, 1.3ms postprocess per image at shape (1, 3, 640, 640)\n"
          ]
        },
        {
          "output_type": "stream",
          "name": "stderr",
          "text": [
            "\rProcessing: flaekli:   2%|▉                                         | 4/178 [00:01<00:50,  3.46it/s]"
          ]
        },
        {
          "output_type": "stream",
          "name": "stdout",
          "text": [
            "\n",
            "0: 640x640 1 cat, 250.3ms\n",
            "Speed: 6.8ms preprocess, 250.3ms inference, 1.3ms postprocess per image at shape (1, 3, 640, 640)\n"
          ]
        },
        {
          "output_type": "stream",
          "name": "stderr",
          "text": [
            "\rProcessing: flaekli:   3%|█▏                                        | 5/178 [00:01<00:49,  3.48it/s]"
          ]
        },
        {
          "output_type": "stream",
          "name": "stdout",
          "text": [
            "\n",
            "0: 640x640 1 cat, 261.6ms\n",
            "Speed: 6.9ms preprocess, 261.6ms inference, 1.4ms postprocess per image at shape (1, 3, 640, 640)\n"
          ]
        },
        {
          "output_type": "stream",
          "name": "stderr",
          "text": [
            "\rProcessing: flaekli:   3%|█▍                                        | 6/178 [00:01<00:49,  3.46it/s]"
          ]
        },
        {
          "output_type": "stream",
          "name": "stdout",
          "text": [
            "\n",
            "0: 640x640 1 cat, 239.4ms\n",
            "Speed: 4.9ms preprocess, 239.4ms inference, 1.2ms postprocess per image at shape (1, 3, 640, 640)\n"
          ]
        },
        {
          "output_type": "stream",
          "name": "stderr",
          "text": [
            "\rProcessing: flaekli:   4%|█▋                                        | 7/178 [00:02<00:48,  3.54it/s]"
          ]
        },
        {
          "output_type": "stream",
          "name": "stdout",
          "text": [
            "\n",
            "0: 640x640 1 cat, 246.5ms\n",
            "Speed: 7.1ms preprocess, 246.5ms inference, 1.3ms postprocess per image at shape (1, 3, 640, 640)\n"
          ]
        },
        {
          "output_type": "stream",
          "name": "stderr",
          "text": [
            "\rProcessing: flaekli:   4%|█▉                                        | 8/178 [00:02<00:47,  3.56it/s]"
          ]
        },
        {
          "output_type": "stream",
          "name": "stdout",
          "text": [
            "\n",
            "0: 640x640 1 cat, 238.6ms\n",
            "Speed: 7.2ms preprocess, 238.6ms inference, 1.4ms postprocess per image at shape (1, 3, 640, 640)\n"
          ]
        },
        {
          "output_type": "stream",
          "name": "stderr",
          "text": [
            "\rProcessing: flaekli:   5%|██                                        | 9/178 [00:02<00:47,  3.59it/s]"
          ]
        },
        {
          "output_type": "stream",
          "name": "stdout",
          "text": [
            "\n",
            "0: 640x640 1 cat, 252.3ms\n",
            "Speed: 7.4ms preprocess, 252.3ms inference, 1.3ms postprocess per image at shape (1, 3, 640, 640)\n"
          ]
        },
        {
          "output_type": "stream",
          "name": "stderr",
          "text": [
            "\rProcessing: flaekli:   6%|██▎                                      | 10/178 [00:02<00:47,  3.57it/s]"
          ]
        },
        {
          "output_type": "stream",
          "name": "stdout",
          "text": [
            "\n",
            "0: 640x640 1 cat, 236.2ms\n",
            "Speed: 6.8ms preprocess, 236.2ms inference, 1.4ms postprocess per image at shape (1, 3, 640, 640)\n"
          ]
        },
        {
          "output_type": "stream",
          "name": "stderr",
          "text": [
            "\rProcessing: flaekli:   6%|██▌                                      | 11/178 [00:03<00:47,  3.55it/s]"
          ]
        },
        {
          "output_type": "stream",
          "name": "stdout",
          "text": [
            "\n",
            "0: 640x480 1 cat, 186.1ms\n",
            "Speed: 4.8ms preprocess, 186.1ms inference, 1.7ms postprocess per image at shape (1, 3, 640, 480)\n"
          ]
        },
        {
          "output_type": "stream",
          "name": "stderr",
          "text": [
            "\rProcessing: flaekli:   7%|██▊                                      | 12/178 [00:03<00:45,  3.66it/s]"
          ]
        },
        {
          "output_type": "stream",
          "name": "stdout",
          "text": [
            "\n",
            "0: 640x640 1 cat, 349.0ms\n",
            "Speed: 5.5ms preprocess, 349.0ms inference, 1.7ms postprocess per image at shape (1, 3, 640, 640)\n"
          ]
        },
        {
          "output_type": "stream",
          "name": "stderr",
          "text": [
            "\rProcessing: flaekli:   7%|██▉                                      | 13/178 [00:03<00:50,  3.24it/s]"
          ]
        },
        {
          "output_type": "stream",
          "name": "stdout",
          "text": [
            "\n",
            "0: 640x640 1 cat, 358.4ms\n",
            "Speed: 6.1ms preprocess, 358.4ms inference, 4.7ms postprocess per image at shape (1, 3, 640, 640)\n"
          ]
        },
        {
          "output_type": "stream",
          "name": "stderr",
          "text": [
            "\rProcessing: flaekli:   8%|███▏                                     | 14/178 [00:04<00:55,  2.96it/s]"
          ]
        },
        {
          "output_type": "stream",
          "name": "stdout",
          "text": [
            "\n",
            "0: 640x640 1 cat, 368.8ms\n",
            "Speed: 11.8ms preprocess, 368.8ms inference, 2.0ms postprocess per image at shape (1, 3, 640, 640)\n"
          ]
        },
        {
          "output_type": "stream",
          "name": "stderr",
          "text": [
            "\rProcessing: flaekli:   8%|███▍                                     | 15/178 [00:04<00:59,  2.76it/s]"
          ]
        },
        {
          "output_type": "stream",
          "name": "stdout",
          "text": [
            "\n",
            "0: 640x640 1 cat, 390.3ms\n",
            "Speed: 10.2ms preprocess, 390.3ms inference, 1.8ms postprocess per image at shape (1, 3, 640, 640)\n"
          ]
        },
        {
          "output_type": "stream",
          "name": "stderr",
          "text": [
            "\rProcessing: flaekli:   9%|███▋                                     | 16/178 [00:05<01:01,  2.62it/s]"
          ]
        },
        {
          "output_type": "stream",
          "name": "stdout",
          "text": [
            "\n",
            "0: 640x640 1 cat, 368.0ms\n",
            "Speed: 11.2ms preprocess, 368.0ms inference, 1.7ms postprocess per image at shape (1, 3, 640, 640)\n"
          ]
        },
        {
          "output_type": "stream",
          "name": "stderr",
          "text": [
            "\rProcessing: flaekli:  10%|███▉                                     | 17/178 [00:05<01:03,  2.55it/s]"
          ]
        },
        {
          "output_type": "stream",
          "name": "stdout",
          "text": [
            "\n",
            "0: 640x640 1 cat, 382.9ms\n",
            "Speed: 10.0ms preprocess, 382.9ms inference, 1.8ms postprocess per image at shape (1, 3, 640, 640)\n"
          ]
        },
        {
          "output_type": "stream",
          "name": "stderr",
          "text": [
            "\rProcessing: flaekli:  10%|████▏                                    | 18/178 [00:05<01:04,  2.48it/s]"
          ]
        },
        {
          "output_type": "stream",
          "name": "stdout",
          "text": [
            "\n",
            "0: 640x640 1 cat, 359.5ms\n",
            "Speed: 10.6ms preprocess, 359.5ms inference, 1.8ms postprocess per image at shape (1, 3, 640, 640)\n"
          ]
        },
        {
          "output_type": "stream",
          "name": "stderr",
          "text": [
            "\rProcessing: flaekli:  11%|████▍                                    | 19/178 [00:06<01:03,  2.49it/s]"
          ]
        },
        {
          "output_type": "stream",
          "name": "stdout",
          "text": [
            "\n",
            "0: 640x640 1 cat, 376.3ms\n",
            "Speed: 10.4ms preprocess, 376.3ms inference, 2.1ms postprocess per image at shape (1, 3, 640, 640)\n"
          ]
        },
        {
          "output_type": "stream",
          "name": "stderr",
          "text": [
            "\rProcessing: flaekli:  11%|████▌                                    | 20/178 [00:06<01:04,  2.46it/s]"
          ]
        },
        {
          "output_type": "stream",
          "name": "stdout",
          "text": [
            "\n",
            "0: 640x640 (no detections), 388.5ms\n",
            "Speed: 10.5ms preprocess, 388.5ms inference, 1.6ms postprocess per image at shape (1, 3, 640, 640)\n"
          ]
        },
        {
          "output_type": "stream",
          "name": "stderr",
          "text": [
            "\rProcessing: flaekli:  12%|████▊                                    | 21/178 [00:07<01:05,  2.41it/s]"
          ]
        },
        {
          "output_type": "stream",
          "name": "stdout",
          "text": [
            "No object detected, deleting /content/drive/MyDrive/datasets/dataset_fla_other/images/flaekli/flaekli_158.jpg\n",
            "\n",
            "0: 640x640 1 cat, 383.7ms\n",
            "Speed: 10.5ms preprocess, 383.7ms inference, 1.9ms postprocess per image at shape (1, 3, 640, 640)\n"
          ]
        },
        {
          "output_type": "stream",
          "name": "stderr",
          "text": [
            "\rProcessing: flaekli:  12%|█████                                    | 22/178 [00:07<01:05,  2.39it/s]"
          ]
        },
        {
          "output_type": "stream",
          "name": "stdout",
          "text": [
            "\n",
            "0: 640x640 1 cat, 266.1ms\n",
            "Speed: 10.2ms preprocess, 266.1ms inference, 1.3ms postprocess per image at shape (1, 3, 640, 640)\n"
          ]
        },
        {
          "output_type": "stream",
          "name": "stderr",
          "text": [
            "\rProcessing: flaekli:  13%|█████▎                                   | 23/178 [00:07<00:59,  2.59it/s]"
          ]
        },
        {
          "output_type": "stream",
          "name": "stdout",
          "text": [
            "\n",
            "0: 640x640 1 cat, 236.2ms\n",
            "Speed: 7.8ms preprocess, 236.2ms inference, 1.3ms postprocess per image at shape (1, 3, 640, 640)\n"
          ]
        },
        {
          "output_type": "stream",
          "name": "stderr",
          "text": [
            "\rProcessing: flaekli:  13%|█████▌                                   | 24/178 [00:08<00:54,  2.85it/s]"
          ]
        },
        {
          "output_type": "stream",
          "name": "stdout",
          "text": [
            "\n",
            "0: 640x640 1 cat, 239.1ms\n",
            "Speed: 8.2ms preprocess, 239.1ms inference, 1.9ms postprocess per image at shape (1, 3, 640, 640)\n"
          ]
        },
        {
          "output_type": "stream",
          "name": "stderr",
          "text": [
            "\rProcessing: flaekli:  14%|█████▊                                   | 25/178 [00:08<00:50,  3.02it/s]"
          ]
        },
        {
          "output_type": "stream",
          "name": "stdout",
          "text": [
            "\n",
            "0: 640x640 1 cat, 244.8ms\n",
            "Speed: 7.4ms preprocess, 244.8ms inference, 1.3ms postprocess per image at shape (1, 3, 640, 640)\n"
          ]
        },
        {
          "output_type": "stream",
          "name": "stderr",
          "text": [
            "\rProcessing: flaekli:  15%|█████▉                                   | 26/178 [00:08<00:47,  3.17it/s]"
          ]
        },
        {
          "output_type": "stream",
          "name": "stdout",
          "text": [
            "\n",
            "0: 640x640 1 cat, 238.1ms\n",
            "Speed: 8.1ms preprocess, 238.1ms inference, 1.3ms postprocess per image at shape (1, 3, 640, 640)\n"
          ]
        },
        {
          "output_type": "stream",
          "name": "stderr",
          "text": [
            "\rProcessing: flaekli:  15%|██████▏                                  | 27/178 [00:08<00:45,  3.31it/s]"
          ]
        },
        {
          "output_type": "stream",
          "name": "stdout",
          "text": [
            "\n",
            "0: 640x640 1 cat, 236.5ms\n",
            "Speed: 8.3ms preprocess, 236.5ms inference, 1.3ms postprocess per image at shape (1, 3, 640, 640)\n"
          ]
        },
        {
          "output_type": "stream",
          "name": "stderr",
          "text": [
            "\rProcessing: flaekli:  16%|██████▍                                  | 28/178 [00:09<00:43,  3.42it/s]"
          ]
        },
        {
          "output_type": "stream",
          "name": "stdout",
          "text": [
            "\n",
            "0: 640x640 1 cat, 260.5ms\n",
            "Speed: 8.6ms preprocess, 260.5ms inference, 1.3ms postprocess per image at shape (1, 3, 640, 640)\n"
          ]
        },
        {
          "output_type": "stream",
          "name": "stderr",
          "text": [
            "\rProcessing: flaekli:  16%|██████▋                                  | 29/178 [00:09<00:43,  3.42it/s]"
          ]
        },
        {
          "output_type": "stream",
          "name": "stdout",
          "text": [
            "\n",
            "0: 640x640 1 cat, 249.7ms\n",
            "Speed: 8.3ms preprocess, 249.7ms inference, 1.3ms postprocess per image at shape (1, 3, 640, 640)\n"
          ]
        },
        {
          "output_type": "stream",
          "name": "stderr",
          "text": [
            "\rProcessing: flaekli:  17%|██████▉                                  | 30/178 [00:09<00:43,  3.44it/s]"
          ]
        },
        {
          "output_type": "stream",
          "name": "stdout",
          "text": [
            "\n",
            "0: 640x640 1 cat, 238.4ms\n",
            "Speed: 8.3ms preprocess, 238.4ms inference, 1.7ms postprocess per image at shape (1, 3, 640, 640)\n"
          ]
        },
        {
          "output_type": "stream",
          "name": "stderr",
          "text": [
            "\rProcessing: flaekli:  17%|███████▏                                 | 31/178 [00:10<00:42,  3.45it/s]"
          ]
        },
        {
          "output_type": "stream",
          "name": "stdout",
          "text": [
            "\n",
            "0: 640x640 1 cat, 237.2ms\n",
            "Speed: 8.9ms preprocess, 237.2ms inference, 1.4ms postprocess per image at shape (1, 3, 640, 640)\n"
          ]
        },
        {
          "output_type": "stream",
          "name": "stderr",
          "text": [
            "\rProcessing: flaekli:  18%|███████▎                                 | 32/178 [00:10<00:41,  3.51it/s]"
          ]
        },
        {
          "output_type": "stream",
          "name": "stdout",
          "text": [
            "\n",
            "0: 640x640 1 cat, 249.2ms\n",
            "Speed: 8.4ms preprocess, 249.2ms inference, 1.7ms postprocess per image at shape (1, 3, 640, 640)\n"
          ]
        },
        {
          "output_type": "stream",
          "name": "stderr",
          "text": [
            "\rProcessing: flaekli:  19%|███████▌                                 | 33/178 [00:10<00:41,  3.50it/s]"
          ]
        },
        {
          "output_type": "stream",
          "name": "stdout",
          "text": [
            "\n",
            "0: 640x640 1 cat, 235.0ms\n",
            "Speed: 8.4ms preprocess, 235.0ms inference, 1.3ms postprocess per image at shape (1, 3, 640, 640)\n"
          ]
        },
        {
          "output_type": "stream",
          "name": "stderr",
          "text": [
            "\rProcessing: flaekli:  19%|███████▊                                 | 34/178 [00:10<00:40,  3.55it/s]"
          ]
        },
        {
          "output_type": "stream",
          "name": "stdout",
          "text": [
            "\n",
            "0: 640x640 1 cat, 242.7ms\n",
            "Speed: 7.7ms preprocess, 242.7ms inference, 1.3ms postprocess per image at shape (1, 3, 640, 640)\n"
          ]
        },
        {
          "output_type": "stream",
          "name": "stderr",
          "text": [
            "\rProcessing: flaekli:  20%|████████                                 | 35/178 [00:11<00:40,  3.56it/s]"
          ]
        },
        {
          "output_type": "stream",
          "name": "stdout",
          "text": [
            "\n",
            "0: 640x640 1 cat, 241.0ms\n",
            "Speed: 7.5ms preprocess, 241.0ms inference, 1.9ms postprocess per image at shape (1, 3, 640, 640)\n"
          ]
        },
        {
          "output_type": "stream",
          "name": "stderr",
          "text": [
            "\rProcessing: flaekli:  20%|████████▎                                | 36/178 [00:11<00:39,  3.56it/s]"
          ]
        },
        {
          "output_type": "stream",
          "name": "stdout",
          "text": [
            "\n",
            "0: 640x640 1 cat, 239.2ms\n",
            "Speed: 8.0ms preprocess, 239.2ms inference, 1.3ms postprocess per image at shape (1, 3, 640, 640)\n"
          ]
        },
        {
          "output_type": "stream",
          "name": "stderr",
          "text": [
            "\rProcessing: flaekli:  21%|████████▌                                | 37/178 [00:11<00:39,  3.59it/s]"
          ]
        },
        {
          "output_type": "stream",
          "name": "stdout",
          "text": [
            "\n",
            "0: 640x640 1 cat, 241.7ms\n",
            "Speed: 8.3ms preprocess, 241.7ms inference, 1.3ms postprocess per image at shape (1, 3, 640, 640)\n"
          ]
        },
        {
          "output_type": "stream",
          "name": "stderr",
          "text": [
            "\rProcessing: flaekli:  21%|████████▊                                | 38/178 [00:12<00:38,  3.60it/s]"
          ]
        },
        {
          "output_type": "stream",
          "name": "stdout",
          "text": [
            "\n",
            "0: 640x640 1 cat, 232.8ms\n",
            "Speed: 9.8ms preprocess, 232.8ms inference, 1.3ms postprocess per image at shape (1, 3, 640, 640)\n"
          ]
        },
        {
          "output_type": "stream",
          "name": "stderr",
          "text": [
            "\rProcessing: flaekli:  22%|████████▉                                | 39/178 [00:12<00:38,  3.63it/s]"
          ]
        },
        {
          "output_type": "stream",
          "name": "stdout",
          "text": [
            "\n",
            "0: 640x640 1 cat, 252.8ms\n",
            "Speed: 8.5ms preprocess, 252.8ms inference, 1.3ms postprocess per image at shape (1, 3, 640, 640)\n"
          ]
        },
        {
          "output_type": "stream",
          "name": "stderr",
          "text": [
            "\rProcessing: flaekli:  22%|█████████▏                               | 40/178 [00:12<00:38,  3.59it/s]"
          ]
        },
        {
          "output_type": "stream",
          "name": "stdout",
          "text": [
            "\n",
            "0: 640x640 (no detections), 242.2ms\n",
            "Speed: 9.9ms preprocess, 242.2ms inference, 0.9ms postprocess per image at shape (1, 3, 640, 640)\n"
          ]
        },
        {
          "output_type": "stream",
          "name": "stderr",
          "text": [
            "\rProcessing: flaekli:  23%|█████████▍                               | 41/178 [00:12<00:38,  3.54it/s]"
          ]
        },
        {
          "output_type": "stream",
          "name": "stdout",
          "text": [
            "No object detected, deleting /content/drive/MyDrive/datasets/dataset_fla_other/images/flaekli/flaekli_204.jpg\n",
            "\n",
            "0: 640x640 (no detections), 243.9ms\n",
            "Speed: 8.4ms preprocess, 243.9ms inference, 0.9ms postprocess per image at shape (1, 3, 640, 640)\n"
          ]
        },
        {
          "output_type": "stream",
          "name": "stderr",
          "text": [
            "\rProcessing: flaekli:  24%|█████████▋                               | 42/178 [00:13<00:38,  3.57it/s]"
          ]
        },
        {
          "output_type": "stream",
          "name": "stdout",
          "text": [
            "No object detected, deleting /content/drive/MyDrive/datasets/dataset_fla_other/images/flaekli/flaekli_178.jpg\n",
            "\n",
            "0: 640x640 1 cat, 246.0ms\n",
            "Speed: 8.7ms preprocess, 246.0ms inference, 1.7ms postprocess per image at shape (1, 3, 640, 640)\n"
          ]
        },
        {
          "output_type": "stream",
          "name": "stderr",
          "text": [
            "\rProcessing: flaekli:  24%|█████████▉                               | 43/178 [00:13<00:37,  3.57it/s]"
          ]
        },
        {
          "output_type": "stream",
          "name": "stdout",
          "text": [
            "\n",
            "0: 640x640 1 cat, 263.7ms\n",
            "Speed: 8.7ms preprocess, 263.7ms inference, 1.2ms postprocess per image at shape (1, 3, 640, 640)\n"
          ]
        },
        {
          "output_type": "stream",
          "name": "stderr",
          "text": [
            "\rProcessing: flaekli:  25%|██████████▏                              | 44/178 [00:13<00:38,  3.49it/s]"
          ]
        },
        {
          "output_type": "stream",
          "name": "stdout",
          "text": [
            "\n",
            "0: 640x640 1 cat, 234.8ms\n",
            "Speed: 7.3ms preprocess, 234.8ms inference, 1.3ms postprocess per image at shape (1, 3, 640, 640)\n"
          ]
        },
        {
          "output_type": "stream",
          "name": "stderr",
          "text": [
            "\rProcessing: flaekli:  25%|██████████▎                              | 45/178 [00:14<00:37,  3.56it/s]"
          ]
        },
        {
          "output_type": "stream",
          "name": "stdout",
          "text": [
            "\n",
            "0: 640x640 (no detections), 235.4ms\n",
            "Speed: 10.1ms preprocess, 235.4ms inference, 1.1ms postprocess per image at shape (1, 3, 640, 640)\n"
          ]
        },
        {
          "output_type": "stream",
          "name": "stderr",
          "text": [
            "\rProcessing: flaekli:  26%|██████████▌                              | 46/178 [00:14<00:36,  3.61it/s]"
          ]
        },
        {
          "output_type": "stream",
          "name": "stdout",
          "text": [
            "No object detected, deleting /content/drive/MyDrive/datasets/dataset_fla_other/images/flaekli/flaekli_176.jpg\n",
            "\n",
            "0: 640x640 1 cat, 230.9ms\n",
            "Speed: 8.2ms preprocess, 230.9ms inference, 1.3ms postprocess per image at shape (1, 3, 640, 640)\n"
          ]
        },
        {
          "output_type": "stream",
          "name": "stderr",
          "text": [
            "\rProcessing: flaekli:  26%|██████████▊                              | 47/178 [00:14<00:35,  3.66it/s]"
          ]
        },
        {
          "output_type": "stream",
          "name": "stdout",
          "text": [
            "\n",
            "0: 640x640 (no detections), 258.2ms\n",
            "Speed: 7.8ms preprocess, 258.2ms inference, 0.9ms postprocess per image at shape (1, 3, 640, 640)\n"
          ]
        },
        {
          "output_type": "stream",
          "name": "stderr",
          "text": [
            "\rProcessing: flaekli:  27%|███████████                              | 48/178 [00:14<00:36,  3.61it/s]"
          ]
        },
        {
          "output_type": "stream",
          "name": "stdout",
          "text": [
            "No object detected, deleting /content/drive/MyDrive/datasets/dataset_fla_other/images/flaekli/flaekli_200.jpg\n",
            "\n",
            "0: 640x640 1 cat, 243.3ms\n",
            "Speed: 8.6ms preprocess, 243.3ms inference, 1.3ms postprocess per image at shape (1, 3, 640, 640)\n"
          ]
        },
        {
          "output_type": "stream",
          "name": "stderr",
          "text": [
            "\rProcessing: flaekli:  28%|███████████▎                             | 49/178 [00:15<00:35,  3.61it/s]"
          ]
        },
        {
          "output_type": "stream",
          "name": "stdout",
          "text": [
            "\n",
            "0: 640x640 1 cat, 236.6ms\n",
            "Speed: 8.6ms preprocess, 236.6ms inference, 1.3ms postprocess per image at shape (1, 3, 640, 640)\n"
          ]
        },
        {
          "output_type": "stream",
          "name": "stderr",
          "text": [
            "\rProcessing: flaekli:  28%|███████████▌                             | 50/178 [00:15<00:35,  3.63it/s]"
          ]
        },
        {
          "output_type": "stream",
          "name": "stdout",
          "text": [
            "\n",
            "0: 640x640 1 cat, 270.4ms\n",
            "Speed: 8.7ms preprocess, 270.4ms inference, 1.3ms postprocess per image at shape (1, 3, 640, 640)\n"
          ]
        },
        {
          "output_type": "stream",
          "name": "stderr",
          "text": [
            "\rProcessing: flaekli:  29%|███████████▋                             | 51/178 [00:15<00:36,  3.51it/s]"
          ]
        },
        {
          "output_type": "stream",
          "name": "stdout",
          "text": [
            "\n",
            "0: 640x640 (no detections), 242.6ms\n",
            "Speed: 7.9ms preprocess, 242.6ms inference, 1.4ms postprocess per image at shape (1, 3, 640, 640)\n"
          ]
        },
        {
          "output_type": "stream",
          "name": "stderr",
          "text": [
            "\rProcessing: flaekli:  29%|███████████▉                             | 52/178 [00:15<00:35,  3.56it/s]"
          ]
        },
        {
          "output_type": "stream",
          "name": "stdout",
          "text": [
            "No object detected, deleting /content/drive/MyDrive/datasets/dataset_fla_other/images/flaekli/flaekli_188.jpg\n",
            "\n",
            "0: 640x640 1 cat, 240.2ms\n",
            "Speed: 8.6ms preprocess, 240.2ms inference, 1.3ms postprocess per image at shape (1, 3, 640, 640)\n"
          ]
        },
        {
          "output_type": "stream",
          "name": "stderr",
          "text": [
            "\rProcessing: flaekli:  30%|████████████▏                            | 53/178 [00:16<00:35,  3.51it/s]"
          ]
        },
        {
          "output_type": "stream",
          "name": "stdout",
          "text": [
            "\n",
            "0: 640x640 1 cat, 236.0ms\n",
            "Speed: 8.6ms preprocess, 236.0ms inference, 1.2ms postprocess per image at shape (1, 3, 640, 640)\n"
          ]
        },
        {
          "output_type": "stream",
          "name": "stderr",
          "text": [
            "\rProcessing: flaekli:  30%|████████████▍                            | 54/178 [00:16<00:34,  3.56it/s]"
          ]
        },
        {
          "output_type": "stream",
          "name": "stdout",
          "text": [
            "\n",
            "0: 640x640 (no detections), 259.1ms\n",
            "Speed: 8.4ms preprocess, 259.1ms inference, 0.9ms postprocess per image at shape (1, 3, 640, 640)\n"
          ]
        },
        {
          "output_type": "stream",
          "name": "stderr",
          "text": [
            "\rProcessing: flaekli:  31%|████████████▋                            | 55/178 [00:16<00:34,  3.53it/s]"
          ]
        },
        {
          "output_type": "stream",
          "name": "stdout",
          "text": [
            "No object detected, deleting /content/drive/MyDrive/datasets/dataset_fla_other/images/flaekli/flaekli_180.jpg\n",
            "\n",
            "0: 640x640 1 cat, 235.9ms\n",
            "Speed: 9.9ms preprocess, 235.9ms inference, 1.3ms postprocess per image at shape (1, 3, 640, 640)\n"
          ]
        },
        {
          "output_type": "stream",
          "name": "stderr",
          "text": [
            "\rProcessing: flaekli:  31%|████████████▉                            | 56/178 [00:17<00:34,  3.58it/s]"
          ]
        },
        {
          "output_type": "stream",
          "name": "stdout",
          "text": [
            "\n",
            "0: 640x640 1 cat, 247.0ms\n",
            "Speed: 8.5ms preprocess, 247.0ms inference, 1.4ms postprocess per image at shape (1, 3, 640, 640)\n"
          ]
        },
        {
          "output_type": "stream",
          "name": "stderr",
          "text": [
            "\rProcessing: flaekli:  32%|█████████████▏                           | 57/178 [00:17<00:33,  3.57it/s]"
          ]
        },
        {
          "output_type": "stream",
          "name": "stdout",
          "text": [
            "\n",
            "0: 640x640 (no detections), 274.6ms\n",
            "Speed: 9.6ms preprocess, 274.6ms inference, 2.5ms postprocess per image at shape (1, 3, 640, 640)\n"
          ]
        },
        {
          "output_type": "stream",
          "name": "stderr",
          "text": [
            "\rProcessing: flaekli:  33%|█████████████▎                           | 58/178 [00:17<00:34,  3.44it/s]"
          ]
        },
        {
          "output_type": "stream",
          "name": "stdout",
          "text": [
            "No object detected, deleting /content/drive/MyDrive/datasets/dataset_fla_other/images/flaekli/flaekli_175.jpg\n",
            "\n",
            "0: 640x640 (no detections), 393.4ms\n",
            "Speed: 12.0ms preprocess, 393.4ms inference, 1.1ms postprocess per image at shape (1, 3, 640, 640)\n"
          ]
        },
        {
          "output_type": "stream",
          "name": "stderr",
          "text": [
            "\rProcessing: flaekli:  33%|█████████████▌                           | 59/178 [00:18<00:39,  2.99it/s]"
          ]
        },
        {
          "output_type": "stream",
          "name": "stdout",
          "text": [
            "No object detected, deleting /content/drive/MyDrive/datasets/dataset_fla_other/images/flaekli/flaekli_184.jpg\n",
            "\n",
            "0: 640x640 3 cats, 373.2ms\n",
            "Speed: 11.6ms preprocess, 373.2ms inference, 1.7ms postprocess per image at shape (1, 3, 640, 640)\n"
          ]
        },
        {
          "output_type": "stream",
          "name": "stderr",
          "text": [
            "\rProcessing: flaekli:  34%|█████████████▊                           | 60/178 [00:18<00:43,  2.74it/s]"
          ]
        },
        {
          "output_type": "stream",
          "name": "stdout",
          "text": [
            "\n",
            "0: 640x640 2 cats, 362.0ms\n",
            "Speed: 9.4ms preprocess, 362.0ms inference, 1.8ms postprocess per image at shape (1, 3, 640, 640)\n"
          ]
        },
        {
          "output_type": "stream",
          "name": "stderr",
          "text": [
            "\rProcessing: flaekli:  34%|██████████████                           | 61/178 [00:18<00:44,  2.63it/s]"
          ]
        },
        {
          "output_type": "stream",
          "name": "stdout",
          "text": [
            "\n",
            "0: 640x640 (no detections), 398.4ms\n",
            "Speed: 10.8ms preprocess, 398.4ms inference, 1.5ms postprocess per image at shape (1, 3, 640, 640)\n"
          ]
        },
        {
          "output_type": "stream",
          "name": "stderr",
          "text": [
            "\rProcessing: flaekli:  35%|██████████████▎                          | 62/178 [00:19<00:46,  2.49it/s]"
          ]
        },
        {
          "output_type": "stream",
          "name": "stdout",
          "text": [
            "No object detected, deleting /content/drive/MyDrive/datasets/dataset_fla_other/images/flaekli/flaekli_186.jpg\n",
            "\n",
            "0: 640x640 (no detections), 364.2ms\n",
            "Speed: 10.7ms preprocess, 364.2ms inference, 1.1ms postprocess per image at shape (1, 3, 640, 640)\n"
          ]
        },
        {
          "output_type": "stream",
          "name": "stderr",
          "text": [
            "\rProcessing: flaekli:  35%|██████████████▌                          | 63/178 [00:19<00:46,  2.49it/s]"
          ]
        },
        {
          "output_type": "stream",
          "name": "stdout",
          "text": [
            "No object detected, deleting /content/drive/MyDrive/datasets/dataset_fla_other/images/flaekli/flaekli_179.jpg\n",
            "\n",
            "0: 640x640 2 cats, 405.2ms\n",
            "Speed: 12.9ms preprocess, 405.2ms inference, 1.7ms postprocess per image at shape (1, 3, 640, 640)\n"
          ]
        },
        {
          "output_type": "stream",
          "name": "stderr",
          "text": [
            "\rProcessing: flaekli:  36%|██████████████▋                          | 64/178 [00:20<00:47,  2.40it/s]"
          ]
        },
        {
          "output_type": "stream",
          "name": "stdout",
          "text": [
            "\n",
            "0: 640x640 (no detections), 361.3ms\n",
            "Speed: 9.8ms preprocess, 361.3ms inference, 1.4ms postprocess per image at shape (1, 3, 640, 640)\n"
          ]
        },
        {
          "output_type": "stream",
          "name": "stderr",
          "text": [
            "\rProcessing: flaekli:  37%|██████████████▉                          | 65/178 [00:20<00:46,  2.43it/s]"
          ]
        },
        {
          "output_type": "stream",
          "name": "stdout",
          "text": [
            "No object detected, deleting /content/drive/MyDrive/datasets/dataset_fla_other/images/flaekli/flaekli_177.jpg\n",
            "\n",
            "0: 640x640 (no detections), 395.3ms\n",
            "Speed: 14.0ms preprocess, 395.3ms inference, 1.2ms postprocess per image at shape (1, 3, 640, 640)\n"
          ]
        },
        {
          "output_type": "stream",
          "name": "stderr",
          "text": [
            "\rProcessing: flaekli:  37%|███████████████▏                         | 66/178 [00:21<00:46,  2.38it/s]"
          ]
        },
        {
          "output_type": "stream",
          "name": "stdout",
          "text": [
            "No object detected, deleting /content/drive/MyDrive/datasets/dataset_fla_other/images/flaekli/flaekli_187.jpg\n",
            "\n",
            "0: 640x640 1 cat, 415.9ms\n",
            "Speed: 13.9ms preprocess, 415.9ms inference, 1.9ms postprocess per image at shape (1, 3, 640, 640)\n"
          ]
        },
        {
          "output_type": "stream",
          "name": "stderr",
          "text": [
            "\rProcessing: flaekli:  38%|███████████████▍                         | 67/178 [00:21<00:48,  2.30it/s]"
          ]
        },
        {
          "output_type": "stream",
          "name": "stdout",
          "text": [
            "\n",
            "0: 640x640 1 cat, 316.0ms\n",
            "Speed: 10.5ms preprocess, 316.0ms inference, 1.4ms postprocess per image at shape (1, 3, 640, 640)\n"
          ]
        },
        {
          "output_type": "stream",
          "name": "stderr",
          "text": [
            "\rProcessing: flaekli:  38%|███████████████▋                         | 68/178 [00:21<00:45,  2.44it/s]"
          ]
        },
        {
          "output_type": "stream",
          "name": "stdout",
          "text": [
            "\n",
            "0: 640x640 2 cats, 250.9ms\n",
            "Speed: 8.7ms preprocess, 250.9ms inference, 1.3ms postprocess per image at shape (1, 3, 640, 640)\n"
          ]
        },
        {
          "output_type": "stream",
          "name": "stderr",
          "text": [
            "\rProcessing: flaekli:  39%|███████████████▉                         | 69/178 [00:22<00:40,  2.66it/s]"
          ]
        },
        {
          "output_type": "stream",
          "name": "stdout",
          "text": [
            "\n",
            "0: 640x640 1 cat, 236.2ms\n",
            "Speed: 9.0ms preprocess, 236.2ms inference, 1.3ms postprocess per image at shape (1, 3, 640, 640)\n"
          ]
        },
        {
          "output_type": "stream",
          "name": "stderr",
          "text": [
            "\rProcessing: flaekli:  39%|████████████████                         | 70/178 [00:22<00:37,  2.88it/s]"
          ]
        },
        {
          "output_type": "stream",
          "name": "stdout",
          "text": [
            "\n",
            "0: 640x640 1 cat, 258.0ms\n",
            "Speed: 8.9ms preprocess, 258.0ms inference, 1.3ms postprocess per image at shape (1, 3, 640, 640)\n"
          ]
        },
        {
          "output_type": "stream",
          "name": "stderr",
          "text": [
            "\rProcessing: flaekli:  40%|████████████████▎                        | 71/178 [00:22<00:35,  2.98it/s]"
          ]
        },
        {
          "output_type": "stream",
          "name": "stdout",
          "text": [
            "\n",
            "0: 640x640 1 cat, 249.8ms\n",
            "Speed: 8.6ms preprocess, 249.8ms inference, 1.4ms postprocess per image at shape (1, 3, 640, 640)\n"
          ]
        },
        {
          "output_type": "stream",
          "name": "stderr",
          "text": [
            "\rProcessing: flaekli:  40%|████████████████▌                        | 72/178 [00:23<00:33,  3.12it/s]"
          ]
        },
        {
          "output_type": "stream",
          "name": "stdout",
          "text": [
            "\n",
            "0: 640x640 1 cat, 238.0ms\n",
            "Speed: 8.3ms preprocess, 238.0ms inference, 1.2ms postprocess per image at shape (1, 3, 640, 640)\n"
          ]
        },
        {
          "output_type": "stream",
          "name": "stderr",
          "text": [
            "\rProcessing: flaekli:  41%|████████████████▊                        | 73/178 [00:23<00:32,  3.26it/s]"
          ]
        },
        {
          "output_type": "stream",
          "name": "stdout",
          "text": [
            "\n",
            "0: 640x640 1 cat, 245.0ms\n",
            "Speed: 10.3ms preprocess, 245.0ms inference, 1.7ms postprocess per image at shape (1, 3, 640, 640)\n"
          ]
        },
        {
          "output_type": "stream",
          "name": "stderr",
          "text": [
            "\rProcessing: flaekli:  42%|█████████████████                        | 74/178 [00:23<00:31,  3.33it/s]"
          ]
        },
        {
          "output_type": "stream",
          "name": "stdout",
          "text": [
            "\n",
            "0: 640x640 1 cat, 235.0ms\n",
            "Speed: 8.3ms preprocess, 235.0ms inference, 1.3ms postprocess per image at shape (1, 3, 640, 640)\n"
          ]
        },
        {
          "output_type": "stream",
          "name": "stderr",
          "text": [
            "\rProcessing: flaekli:  42%|█████████████████▎                       | 75/178 [00:23<00:30,  3.43it/s]"
          ]
        },
        {
          "output_type": "stream",
          "name": "stdout",
          "text": [
            "\n",
            "0: 640x640 1 cat, 249.6ms\n",
            "Speed: 8.7ms preprocess, 249.6ms inference, 1.6ms postprocess per image at shape (1, 3, 640, 640)\n"
          ]
        },
        {
          "output_type": "stream",
          "name": "stderr",
          "text": [
            "\rProcessing: flaekli:  43%|█████████████████▌                       | 76/178 [00:24<00:29,  3.45it/s]"
          ]
        },
        {
          "output_type": "stream",
          "name": "stdout",
          "text": [
            "\n",
            "0: 640x640 (no detections), 239.3ms\n",
            "Speed: 9.2ms preprocess, 239.3ms inference, 0.8ms postprocess per image at shape (1, 3, 640, 640)\n"
          ]
        },
        {
          "output_type": "stream",
          "name": "stderr",
          "text": [
            "\rProcessing: flaekli:  43%|█████████████████▋                       | 77/178 [00:24<00:28,  3.52it/s]"
          ]
        },
        {
          "output_type": "stream",
          "name": "stdout",
          "text": [
            "No object detected, deleting /content/drive/MyDrive/datasets/dataset_fla_other/images/flaekli/flaekli_208.jpg\n",
            "\n",
            "0: 640x640 1 cat, 244.0ms\n",
            "Speed: 8.8ms preprocess, 244.0ms inference, 1.3ms postprocess per image at shape (1, 3, 640, 640)\n"
          ]
        },
        {
          "output_type": "stream",
          "name": "stderr",
          "text": [
            "\rProcessing: flaekli:  44%|█████████████████▉                       | 78/178 [00:24<00:28,  3.53it/s]"
          ]
        },
        {
          "output_type": "stream",
          "name": "stdout",
          "text": [
            "\n",
            "0: 640x640 1 cat, 246.1ms\n",
            "Speed: 7.4ms preprocess, 246.1ms inference, 1.2ms postprocess per image at shape (1, 3, 640, 640)\n"
          ]
        },
        {
          "output_type": "stream",
          "name": "stderr",
          "text": [
            "\rProcessing: flaekli:  44%|██████████████████▏                      | 79/178 [00:25<00:28,  3.53it/s]"
          ]
        },
        {
          "output_type": "stream",
          "name": "stdout",
          "text": [
            "\n",
            "0: 640x640 3 cats, 264.2ms\n",
            "Speed: 9.0ms preprocess, 264.2ms inference, 1.3ms postprocess per image at shape (1, 3, 640, 640)\n"
          ]
        },
        {
          "output_type": "stream",
          "name": "stderr",
          "text": [
            "\rProcessing: flaekli:  45%|██████████████████▍                      | 80/178 [00:25<00:29,  3.35it/s]"
          ]
        },
        {
          "output_type": "stream",
          "name": "stdout",
          "text": [
            "\n",
            "0: 640x640 2 cats, 257.3ms\n",
            "Speed: 8.1ms preprocess, 257.3ms inference, 1.4ms postprocess per image at shape (1, 3, 640, 640)\n"
          ]
        },
        {
          "output_type": "stream",
          "name": "stderr",
          "text": [
            "\rProcessing: flaekli:  46%|██████████████████▋                      | 81/178 [00:25<00:28,  3.35it/s]"
          ]
        },
        {
          "output_type": "stream",
          "name": "stdout",
          "text": [
            "\n",
            "0: 640x640 1 cat, 239.5ms\n",
            "Speed: 7.7ms preprocess, 239.5ms inference, 1.3ms postprocess per image at shape (1, 3, 640, 640)\n"
          ]
        },
        {
          "output_type": "stream",
          "name": "stderr",
          "text": [
            "\rProcessing: flaekli:  46%|██████████████████▉                      | 82/178 [00:25<00:28,  3.42it/s]"
          ]
        },
        {
          "output_type": "stream",
          "name": "stdout",
          "text": [
            "\n",
            "0: 640x640 1 cat, 250.8ms\n",
            "Speed: 8.8ms preprocess, 250.8ms inference, 1.4ms postprocess per image at shape (1, 3, 640, 640)\n"
          ]
        },
        {
          "output_type": "stream",
          "name": "stderr",
          "text": [
            "\rProcessing: flaekli:  47%|███████████████████                      | 83/178 [00:26<00:27,  3.43it/s]"
          ]
        },
        {
          "output_type": "stream",
          "name": "stdout",
          "text": [
            "\n",
            "0: 640x640 1 cat, 236.6ms\n",
            "Speed: 8.5ms preprocess, 236.6ms inference, 1.3ms postprocess per image at shape (1, 3, 640, 640)\n"
          ]
        },
        {
          "output_type": "stream",
          "name": "stderr",
          "text": [
            "\rProcessing: flaekli:  47%|███████████████████▎                     | 84/178 [00:26<00:26,  3.50it/s]"
          ]
        },
        {
          "output_type": "stream",
          "name": "stdout",
          "text": [
            "\n",
            "0: 640x640 1 cat, 246.3ms\n",
            "Speed: 8.8ms preprocess, 246.3ms inference, 1.6ms postprocess per image at shape (1, 3, 640, 640)\n"
          ]
        },
        {
          "output_type": "stream",
          "name": "stderr",
          "text": [
            "\rProcessing: flaekli:  48%|███████████████████▌                     | 85/178 [00:26<00:26,  3.50it/s]"
          ]
        },
        {
          "output_type": "stream",
          "name": "stdout",
          "text": [
            "\n",
            "0: 640x640 1 cat, 257.9ms\n",
            "Speed: 8.6ms preprocess, 257.9ms inference, 1.7ms postprocess per image at shape (1, 3, 640, 640)\n"
          ]
        },
        {
          "output_type": "stream",
          "name": "stderr",
          "text": [
            "\rProcessing: flaekli:  48%|███████████████████▊                     | 86/178 [00:27<00:26,  3.47it/s]"
          ]
        },
        {
          "output_type": "stream",
          "name": "stdout",
          "text": [
            "\n",
            "0: 640x640 3 cats, 242.3ms\n",
            "Speed: 10.6ms preprocess, 242.3ms inference, 1.3ms postprocess per image at shape (1, 3, 640, 640)\n"
          ]
        },
        {
          "output_type": "stream",
          "name": "stderr",
          "text": [
            "\rProcessing: flaekli:  49%|████████████████████                     | 87/178 [00:27<00:27,  3.37it/s]"
          ]
        },
        {
          "output_type": "stream",
          "name": "stdout",
          "text": [
            "\n",
            "0: 640x640 1 cat, 254.2ms\n",
            "Speed: 8.7ms preprocess, 254.2ms inference, 1.8ms postprocess per image at shape (1, 3, 640, 640)\n"
          ]
        },
        {
          "output_type": "stream",
          "name": "stderr",
          "text": [
            "\rProcessing: flaekli:  49%|████████████████████▎                    | 88/178 [00:27<00:26,  3.38it/s]"
          ]
        },
        {
          "output_type": "stream",
          "name": "stdout",
          "text": [
            "\n",
            "0: 640x640 1 cat, 268.8ms\n",
            "Speed: 9.3ms preprocess, 268.8ms inference, 1.4ms postprocess per image at shape (1, 3, 640, 640)\n"
          ]
        },
        {
          "output_type": "stream",
          "name": "stderr",
          "text": [
            "\rProcessing: flaekli:  50%|████████████████████▌                    | 89/178 [00:28<00:26,  3.35it/s]"
          ]
        },
        {
          "output_type": "stream",
          "name": "stdout",
          "text": [
            "\n",
            "0: 640x640 2 cats, 247.5ms\n",
            "Speed: 8.6ms preprocess, 247.5ms inference, 1.3ms postprocess per image at shape (1, 3, 640, 640)\n"
          ]
        },
        {
          "output_type": "stream",
          "name": "stderr",
          "text": [
            "\rProcessing: flaekli:  51%|████████████████████▋                    | 90/178 [00:28<00:26,  3.37it/s]"
          ]
        },
        {
          "output_type": "stream",
          "name": "stdout",
          "text": [
            "\n",
            "0: 640x640 1 cat, 240.8ms\n",
            "Speed: 9.2ms preprocess, 240.8ms inference, 1.4ms postprocess per image at shape (1, 3, 640, 640)\n"
          ]
        },
        {
          "output_type": "stream",
          "name": "stderr",
          "text": [
            "\rProcessing: flaekli:  51%|████████████████████▉                    | 91/178 [00:28<00:25,  3.44it/s]"
          ]
        },
        {
          "output_type": "stream",
          "name": "stdout",
          "text": [
            "\n",
            "0: 640x640 1 cat, 240.7ms\n",
            "Speed: 9.1ms preprocess, 240.7ms inference, 1.3ms postprocess per image at shape (1, 3, 640, 640)\n"
          ]
        },
        {
          "output_type": "stream",
          "name": "stderr",
          "text": [
            "\rProcessing: flaekli:  52%|█████████████████████▏                   | 92/178 [00:28<00:24,  3.49it/s]"
          ]
        },
        {
          "output_type": "stream",
          "name": "stdout",
          "text": [
            "\n",
            "0: 640x640 2 cats, 230.6ms\n",
            "Speed: 8.6ms preprocess, 230.6ms inference, 1.2ms postprocess per image at shape (1, 3, 640, 640)\n"
          ]
        },
        {
          "output_type": "stream",
          "name": "stderr",
          "text": [
            "\rProcessing: flaekli:  52%|█████████████████████▍                   | 93/178 [00:29<00:24,  3.47it/s]"
          ]
        },
        {
          "output_type": "stream",
          "name": "stdout",
          "text": [
            "\n",
            "0: 640x640 1 cat, 247.8ms\n",
            "Speed: 8.4ms preprocess, 247.8ms inference, 1.3ms postprocess per image at shape (1, 3, 640, 640)\n"
          ]
        },
        {
          "output_type": "stream",
          "name": "stderr",
          "text": [
            "\rProcessing: flaekli:  53%|█████████████████████▋                   | 94/178 [00:29<00:24,  3.49it/s]"
          ]
        },
        {
          "output_type": "stream",
          "name": "stdout",
          "text": [
            "\n",
            "0: 640x640 2 cats, 241.4ms\n",
            "Speed: 9.0ms preprocess, 241.4ms inference, 1.4ms postprocess per image at shape (1, 3, 640, 640)\n"
          ]
        },
        {
          "output_type": "stream",
          "name": "stderr",
          "text": [
            "\rProcessing: flaekli:  53%|█████████████████████▉                   | 95/178 [00:29<00:23,  3.50it/s]"
          ]
        },
        {
          "output_type": "stream",
          "name": "stdout",
          "text": [
            "\n",
            "0: 640x640 1 cat, 456.4ms\n",
            "Speed: 8.9ms preprocess, 456.4ms inference, 1.7ms postprocess per image at shape (1, 3, 640, 640)\n"
          ]
        },
        {
          "output_type": "stream",
          "name": "stderr",
          "text": [
            "\rProcessing: flaekli:  54%|██████████████████████                   | 96/178 [00:30<00:28,  2.86it/s]"
          ]
        },
        {
          "output_type": "stream",
          "name": "stdout",
          "text": [
            "\n",
            "0: 640x640 1 cat, 253.3ms\n",
            "Speed: 20.0ms preprocess, 253.3ms inference, 1.3ms postprocess per image at shape (1, 3, 640, 640)\n"
          ]
        },
        {
          "output_type": "stream",
          "name": "stderr",
          "text": [
            "\rProcessing: flaekli:  54%|██████████████████████▎                  | 97/178 [00:30<00:27,  2.95it/s]"
          ]
        },
        {
          "output_type": "stream",
          "name": "stdout",
          "text": [
            "\n",
            "0: 640x640 1 cat, 433.9ms\n",
            "Speed: 9.4ms preprocess, 433.9ms inference, 9.8ms postprocess per image at shape (1, 3, 640, 640)\n"
          ]
        },
        {
          "output_type": "stream",
          "name": "stderr",
          "text": [
            "\rProcessing: flaekli:  55%|██████████████████████▌                  | 98/178 [00:31<00:30,  2.58it/s]"
          ]
        },
        {
          "output_type": "stream",
          "name": "stdout",
          "text": [
            "\n",
            "0: 640x640 1 cat, 310.7ms\n",
            "Speed: 14.3ms preprocess, 310.7ms inference, 1.3ms postprocess per image at shape (1, 3, 640, 640)\n"
          ]
        },
        {
          "output_type": "stream",
          "name": "stderr",
          "text": [
            "\rProcessing: flaekli:  56%|██████████████████████▊                  | 99/178 [00:31<00:29,  2.64it/s]"
          ]
        },
        {
          "output_type": "stream",
          "name": "stdout",
          "text": [
            "\n",
            "0: 640x640 (no detections), 243.7ms\n",
            "Speed: 9.0ms preprocess, 243.7ms inference, 1.1ms postprocess per image at shape (1, 3, 640, 640)\n"
          ]
        },
        {
          "output_type": "stream",
          "name": "stderr",
          "text": [
            "\rProcessing: flaekli:  56%|██████████████████████▍                 | 100/178 [00:31<00:27,  2.87it/s]"
          ]
        },
        {
          "output_type": "stream",
          "name": "stdout",
          "text": [
            "No object detected, deleting /content/drive/MyDrive/datasets/dataset_fla_other/images/flaekli/flaekli_245.jpg\n",
            "\n",
            "0: 640x640 1 cat, 639.3ms\n",
            "Speed: 8.8ms preprocess, 639.3ms inference, 1.8ms postprocess per image at shape (1, 3, 640, 640)\n"
          ]
        },
        {
          "output_type": "stream",
          "name": "stderr",
          "text": [
            "\rProcessing: flaekli:  57%|██████████████████████▋                 | 101/178 [00:32<00:34,  2.23it/s]"
          ]
        },
        {
          "output_type": "stream",
          "name": "stdout",
          "text": [
            "\n",
            "0: 480x640 1 cat, 291.8ms\n",
            "Speed: 5.1ms preprocess, 291.8ms inference, 1.6ms postprocess per image at shape (1, 3, 480, 640)\n"
          ]
        },
        {
          "output_type": "stream",
          "name": "stderr",
          "text": [
            "\rProcessing: flaekli:  57%|██████████████████████▉                 | 102/178 [00:32<00:33,  2.30it/s]"
          ]
        },
        {
          "output_type": "stream",
          "name": "stdout",
          "text": [
            "\n",
            "0: 640x640 3 cats, 352.2ms\n",
            "Speed: 5.4ms preprocess, 352.2ms inference, 1.8ms postprocess per image at shape (1, 3, 640, 640)\n"
          ]
        },
        {
          "output_type": "stream",
          "name": "stderr",
          "text": [
            "\rProcessing: flaekli:  58%|███████████████████████▏                | 103/178 [00:33<00:32,  2.34it/s]"
          ]
        },
        {
          "output_type": "stream",
          "name": "stdout",
          "text": [
            "\n",
            "0: 640x640 1 cat, 367.4ms\n",
            "Speed: 6.7ms preprocess, 367.4ms inference, 1.9ms postprocess per image at shape (1, 3, 640, 640)\n"
          ]
        },
        {
          "output_type": "stream",
          "name": "stderr",
          "text": [
            "\rProcessing: flaekli:  58%|███████████████████████▎                | 104/178 [00:33<00:32,  2.25it/s]"
          ]
        },
        {
          "output_type": "stream",
          "name": "stdout",
          "text": [
            "\n",
            "0: 640x640 1 cat, 363.2ms\n",
            "Speed: 5.3ms preprocess, 363.2ms inference, 1.7ms postprocess per image at shape (1, 3, 640, 640)\n"
          ]
        },
        {
          "output_type": "stream",
          "name": "stderr",
          "text": [
            "\rProcessing: flaekli:  59%|███████████████████████▌                | 105/178 [00:34<00:31,  2.31it/s]"
          ]
        },
        {
          "output_type": "stream",
          "name": "stdout",
          "text": [
            "\n",
            "0: 640x640 1 cat, 377.8ms\n",
            "Speed: 5.3ms preprocess, 377.8ms inference, 1.7ms postprocess per image at shape (1, 3, 640, 640)\n"
          ]
        },
        {
          "output_type": "stream",
          "name": "stderr",
          "text": [
            "\rProcessing: flaekli:  60%|███████████████████████▊                | 106/178 [00:34<00:31,  2.32it/s]"
          ]
        },
        {
          "output_type": "stream",
          "name": "stdout",
          "text": [
            "\n",
            "0: 640x640 1 cat, 380.5ms\n",
            "Speed: 7.6ms preprocess, 380.5ms inference, 1.8ms postprocess per image at shape (1, 3, 640, 640)\n"
          ]
        },
        {
          "output_type": "stream",
          "name": "stderr",
          "text": [
            "\rProcessing: flaekli:  60%|████████████████████████                | 107/178 [00:34<00:30,  2.31it/s]"
          ]
        },
        {
          "output_type": "stream",
          "name": "stdout",
          "text": [
            "\n",
            "0: 640x640 1 cat, 373.9ms\n",
            "Speed: 6.6ms preprocess, 373.9ms inference, 1.7ms postprocess per image at shape (1, 3, 640, 640)\n"
          ]
        },
        {
          "output_type": "stream",
          "name": "stderr",
          "text": [
            "\rProcessing: flaekli:  61%|████████████████████████▎               | 108/178 [00:35<00:29,  2.34it/s]"
          ]
        },
        {
          "output_type": "stream",
          "name": "stdout",
          "text": [
            "\n",
            "0: 640x640 1 cat, 379.4ms\n",
            "Speed: 6.1ms preprocess, 379.4ms inference, 1.8ms postprocess per image at shape (1, 3, 640, 640)\n"
          ]
        },
        {
          "output_type": "stream",
          "name": "stderr",
          "text": [
            "\rProcessing: flaekli:  61%|████████████████████████▍               | 109/178 [00:35<00:29,  2.36it/s]"
          ]
        },
        {
          "output_type": "stream",
          "name": "stdout",
          "text": [
            "\n",
            "0: 640x640 2 cats, 352.1ms\n",
            "Speed: 6.1ms preprocess, 352.1ms inference, 1.3ms postprocess per image at shape (1, 3, 640, 640)\n"
          ]
        },
        {
          "output_type": "stream",
          "name": "stderr",
          "text": [
            "\rProcessing: flaekli:  62%|████████████████████████▋               | 110/178 [00:36<00:28,  2.39it/s]"
          ]
        },
        {
          "output_type": "stream",
          "name": "stdout",
          "text": [
            "\n",
            "0: 640x640 1 cat, 232.1ms\n",
            "Speed: 5.7ms preprocess, 232.1ms inference, 1.3ms postprocess per image at shape (1, 3, 640, 640)\n"
          ]
        },
        {
          "output_type": "stream",
          "name": "stderr",
          "text": [
            "\rProcessing: flaekli:  62%|████████████████████████▉               | 111/178 [00:36<00:24,  2.68it/s]"
          ]
        },
        {
          "output_type": "stream",
          "name": "stdout",
          "text": [
            "\n",
            "0: 640x640 1 cat, 261.4ms\n",
            "Speed: 6.2ms preprocess, 261.4ms inference, 1.7ms postprocess per image at shape (1, 3, 640, 640)\n"
          ]
        },
        {
          "output_type": "stream",
          "name": "stderr",
          "text": [
            "\rProcessing: flaekli:  63%|█████████████████████████▏              | 112/178 [00:36<00:23,  2.86it/s]"
          ]
        },
        {
          "output_type": "stream",
          "name": "stdout",
          "text": [
            "\n",
            "0: 640x640 1 cat, 239.3ms\n",
            "Speed: 6.8ms preprocess, 239.3ms inference, 1.3ms postprocess per image at shape (1, 3, 640, 640)\n"
          ]
        },
        {
          "output_type": "stream",
          "name": "stderr",
          "text": [
            "\rProcessing: flaekli:  63%|█████████████████████████▍              | 113/178 [00:37<00:21,  3.05it/s]"
          ]
        },
        {
          "output_type": "stream",
          "name": "stdout",
          "text": [
            "\n",
            "0: 640x640 1 cat, 235.4ms\n",
            "Speed: 5.7ms preprocess, 235.4ms inference, 1.3ms postprocess per image at shape (1, 3, 640, 640)\n"
          ]
        },
        {
          "output_type": "stream",
          "name": "stderr",
          "text": [
            "\rProcessing: flaekli:  64%|█████████████████████████▌              | 114/178 [00:37<00:19,  3.23it/s]"
          ]
        },
        {
          "output_type": "stream",
          "name": "stdout",
          "text": [
            "\n",
            "0: 640x640 1 cat, 233.4ms\n",
            "Speed: 5.4ms preprocess, 233.4ms inference, 1.3ms postprocess per image at shape (1, 3, 640, 640)\n"
          ]
        },
        {
          "output_type": "stream",
          "name": "stderr",
          "text": [
            "\rProcessing: flaekli:  65%|█████████████████████████▊              | 115/178 [00:37<00:18,  3.38it/s]"
          ]
        },
        {
          "output_type": "stream",
          "name": "stdout",
          "text": [
            "\n",
            "0: 640x640 1 cat, 254.7ms\n",
            "Speed: 5.7ms preprocess, 254.7ms inference, 1.4ms postprocess per image at shape (1, 3, 640, 640)\n"
          ]
        },
        {
          "output_type": "stream",
          "name": "stderr",
          "text": [
            "\rProcessing: flaekli:  65%|██████████████████████████              | 116/178 [00:37<00:18,  3.41it/s]"
          ]
        },
        {
          "output_type": "stream",
          "name": "stdout",
          "text": [
            "\n",
            "0: 640x640 1 cat, 247.1ms\n",
            "Speed: 5.7ms preprocess, 247.1ms inference, 1.3ms postprocess per image at shape (1, 3, 640, 640)\n"
          ]
        },
        {
          "output_type": "stream",
          "name": "stderr",
          "text": [
            "\rProcessing: flaekli:  66%|██████████████████████████▎             | 117/178 [00:38<00:17,  3.46it/s]"
          ]
        },
        {
          "output_type": "stream",
          "name": "stdout",
          "text": [
            "\n",
            "0: 640x640 1 cat, 236.7ms\n",
            "Speed: 4.8ms preprocess, 236.7ms inference, 1.3ms postprocess per image at shape (1, 3, 640, 640)\n"
          ]
        },
        {
          "output_type": "stream",
          "name": "stderr",
          "text": [
            "\rProcessing: flaekli:  66%|██████████████████████████▌             | 118/178 [00:38<00:16,  3.53it/s]"
          ]
        },
        {
          "output_type": "stream",
          "name": "stdout",
          "text": [
            "\n",
            "0: 640x640 1 cat, 233.9ms\n",
            "Speed: 4.8ms preprocess, 233.9ms inference, 1.7ms postprocess per image at shape (1, 3, 640, 640)\n"
          ]
        },
        {
          "output_type": "stream",
          "name": "stderr",
          "text": [
            "\rProcessing: flaekli:  67%|██████████████████████████▋             | 119/178 [00:38<00:16,  3.52it/s]"
          ]
        },
        {
          "output_type": "stream",
          "name": "stdout",
          "text": [
            "\n",
            "0: 640x640 2 cats, 236.5ms\n",
            "Speed: 6.0ms preprocess, 236.5ms inference, 1.3ms postprocess per image at shape (1, 3, 640, 640)\n"
          ]
        },
        {
          "output_type": "stream",
          "name": "stderr",
          "text": [
            "\rProcessing: flaekli:  67%|██████████████████████████▉             | 120/178 [00:38<00:16,  3.53it/s]"
          ]
        },
        {
          "output_type": "stream",
          "name": "stdout",
          "text": [
            "\n",
            "0: 640x640 2 cats, 243.5ms\n",
            "Speed: 5.3ms preprocess, 243.5ms inference, 1.3ms postprocess per image at shape (1, 3, 640, 640)\n"
          ]
        },
        {
          "output_type": "stream",
          "name": "stderr",
          "text": [
            "\rProcessing: flaekli:  68%|███████████████████████████▏            | 121/178 [00:39<00:16,  3.53it/s]"
          ]
        },
        {
          "output_type": "stream",
          "name": "stdout",
          "text": [
            "\n",
            "0: 640x640 2 cats, 233.2ms\n",
            "Speed: 4.6ms preprocess, 233.2ms inference, 1.3ms postprocess per image at shape (1, 3, 640, 640)\n"
          ]
        },
        {
          "output_type": "stream",
          "name": "stderr",
          "text": [
            "\rProcessing: flaekli:  69%|███████████████████████████▍            | 122/178 [00:39<00:15,  3.57it/s]"
          ]
        },
        {
          "output_type": "stream",
          "name": "stdout",
          "text": [
            "\n",
            "0: 640x640 1 cat, 256.6ms\n",
            "Speed: 5.9ms preprocess, 256.6ms inference, 1.3ms postprocess per image at shape (1, 3, 640, 640)\n"
          ]
        },
        {
          "output_type": "stream",
          "name": "stderr",
          "text": [
            "\rProcessing: flaekli:  69%|███████████████████████████▋            | 123/178 [00:39<00:15,  3.54it/s]"
          ]
        },
        {
          "output_type": "stream",
          "name": "stdout",
          "text": [
            "\n",
            "0: 640x640 (no detections), 236.3ms\n",
            "Speed: 5.9ms preprocess, 236.3ms inference, 1.3ms postprocess per image at shape (1, 3, 640, 640)\n"
          ]
        },
        {
          "output_type": "stream",
          "name": "stderr",
          "text": [
            "\rProcessing: flaekli:  70%|███████████████████████████▊            | 124/178 [00:40<00:14,  3.61it/s]"
          ]
        },
        {
          "output_type": "stream",
          "name": "stdout",
          "text": [
            "No object detected, deleting /content/drive/MyDrive/datasets/dataset_fla_other/images/flaekli/flaekli_256.jpg\n",
            "\n",
            "0: 640x640 2 cats, 241.3ms\n",
            "Speed: 5.7ms preprocess, 241.3ms inference, 1.3ms postprocess per image at shape (1, 3, 640, 640)\n"
          ]
        },
        {
          "output_type": "stream",
          "name": "stderr",
          "text": [
            "\rProcessing: flaekli:  70%|████████████████████████████            | 125/178 [00:40<00:14,  3.54it/s]"
          ]
        },
        {
          "output_type": "stream",
          "name": "stdout",
          "text": [
            "\n",
            "0: 640x640 1 cat, 236.5ms\n",
            "Speed: 5.9ms preprocess, 236.5ms inference, 1.4ms postprocess per image at shape (1, 3, 640, 640)\n"
          ]
        },
        {
          "output_type": "stream",
          "name": "stderr",
          "text": [
            "\rProcessing: flaekli:  71%|████████████████████████████▎           | 126/178 [00:40<00:14,  3.57it/s]"
          ]
        },
        {
          "output_type": "stream",
          "name": "stdout",
          "text": [
            "\n",
            "0: 640x640 2 cats, 268.6ms\n",
            "Speed: 7.1ms preprocess, 268.6ms inference, 1.3ms postprocess per image at shape (1, 3, 640, 640)\n"
          ]
        },
        {
          "output_type": "stream",
          "name": "stderr",
          "text": [
            "\rProcessing: flaekli:  71%|████████████████████████████▌           | 127/178 [00:40<00:14,  3.46it/s]"
          ]
        },
        {
          "output_type": "stream",
          "name": "stdout",
          "text": [
            "\n",
            "0: 640x640 1 cat, 234.3ms\n",
            "Speed: 4.5ms preprocess, 234.3ms inference, 1.4ms postprocess per image at shape (1, 3, 640, 640)\n"
          ]
        },
        {
          "output_type": "stream",
          "name": "stderr",
          "text": [
            "\rProcessing: flaekli:  72%|████████████████████████████▊           | 128/178 [00:41<00:14,  3.54it/s]"
          ]
        },
        {
          "output_type": "stream",
          "name": "stdout",
          "text": [
            "\n",
            "0: 640x640 1 cat, 238.1ms\n",
            "Speed: 5.6ms preprocess, 238.1ms inference, 1.6ms postprocess per image at shape (1, 3, 640, 640)\n"
          ]
        },
        {
          "output_type": "stream",
          "name": "stderr",
          "text": [
            "\rProcessing: flaekli:  72%|████████████████████████████▉           | 129/178 [00:41<00:13,  3.59it/s]"
          ]
        },
        {
          "output_type": "stream",
          "name": "stdout",
          "text": [
            "\n",
            "0: 640x480 (no detections), 182.6ms\n",
            "Speed: 5.3ms preprocess, 182.6ms inference, 1.0ms postprocess per image at shape (1, 3, 640, 480)\n"
          ]
        },
        {
          "output_type": "stream",
          "name": "stderr",
          "text": [
            "\rProcessing: flaekli:  73%|█████████████████████████████▏          | 130/178 [00:41<00:12,  3.79it/s]"
          ]
        },
        {
          "output_type": "stream",
          "name": "stdout",
          "text": [
            "No object detected, deleting /content/drive/MyDrive/datasets/dataset_fla_other/images/flaekli/flaekli_258.jpg\n",
            "\n",
            "0: 640x640 3 cats, 238.2ms\n",
            "Speed: 7.9ms preprocess, 238.2ms inference, 1.3ms postprocess per image at shape (1, 3, 640, 640)\n"
          ]
        },
        {
          "output_type": "stream",
          "name": "stderr",
          "text": [
            "\rProcessing: flaekli:  74%|█████████████████████████████▍          | 131/178 [00:41<00:12,  3.68it/s]"
          ]
        },
        {
          "output_type": "stream",
          "name": "stdout",
          "text": [
            "\n",
            "0: 640x480 (no detections), 180.7ms\n",
            "Speed: 5.6ms preprocess, 180.7ms inference, 1.8ms postprocess per image at shape (1, 3, 640, 480)\n"
          ]
        },
        {
          "output_type": "stream",
          "name": "stderr",
          "text": [
            "\rProcessing: flaekli:  74%|█████████████████████████████▋          | 132/178 [00:42<00:11,  3.85it/s]"
          ]
        },
        {
          "output_type": "stream",
          "name": "stdout",
          "text": [
            "No object detected, deleting /content/drive/MyDrive/datasets/dataset_fla_other/images/flaekli/flaekli_270.jpg\n",
            "\n",
            "0: 640x640 1 cat, 242.9ms\n",
            "Speed: 8.1ms preprocess, 242.9ms inference, 1.3ms postprocess per image at shape (1, 3, 640, 640)\n"
          ]
        },
        {
          "output_type": "stream",
          "name": "stderr",
          "text": [
            "\rProcessing: flaekli:  75%|█████████████████████████████▉          | 133/178 [00:42<00:12,  3.72it/s]"
          ]
        },
        {
          "output_type": "stream",
          "name": "stdout",
          "text": [
            "\n",
            "0: 640x640 2 cats, 244.1ms\n",
            "Speed: 8.3ms preprocess, 244.1ms inference, 1.3ms postprocess per image at shape (1, 3, 640, 640)\n"
          ]
        },
        {
          "output_type": "stream",
          "name": "stderr",
          "text": [
            "\rProcessing: flaekli:  75%|██████████████████████████████          | 134/178 [00:42<00:12,  3.63it/s]"
          ]
        },
        {
          "output_type": "stream",
          "name": "stdout",
          "text": [
            "\n",
            "0: 640x640 1 cat, 238.6ms\n",
            "Speed: 6.2ms preprocess, 238.6ms inference, 1.3ms postprocess per image at shape (1, 3, 640, 640)\n"
          ]
        },
        {
          "output_type": "stream",
          "name": "stderr",
          "text": [
            "\rProcessing: flaekli:  76%|██████████████████████████████▎         | 135/178 [00:43<00:11,  3.65it/s]"
          ]
        },
        {
          "output_type": "stream",
          "name": "stdout",
          "text": [
            "\n",
            "0: 640x640 1 cat, 237.0ms\n",
            "Speed: 5.7ms preprocess, 237.0ms inference, 1.2ms postprocess per image at shape (1, 3, 640, 640)\n"
          ]
        },
        {
          "output_type": "stream",
          "name": "stderr",
          "text": [
            "\rProcessing: flaekli:  76%|██████████████████████████████▌         | 136/178 [00:43<00:11,  3.66it/s]"
          ]
        },
        {
          "output_type": "stream",
          "name": "stdout",
          "text": [
            "\n",
            "0: 640x640 1 cat, 234.3ms\n",
            "Speed: 5.7ms preprocess, 234.3ms inference, 1.4ms postprocess per image at shape (1, 3, 640, 640)\n"
          ]
        },
        {
          "output_type": "stream",
          "name": "stderr",
          "text": [
            "\rProcessing: flaekli:  77%|██████████████████████████████▊         | 137/178 [00:43<00:11,  3.68it/s]"
          ]
        },
        {
          "output_type": "stream",
          "name": "stdout",
          "text": [
            "\n",
            "0: 640x640 1 cat, 255.3ms\n",
            "Speed: 5.7ms preprocess, 255.3ms inference, 1.4ms postprocess per image at shape (1, 3, 640, 640)\n"
          ]
        },
        {
          "output_type": "stream",
          "name": "stderr",
          "text": [
            "\rProcessing: flaekli:  78%|███████████████████████████████         | 138/178 [00:43<00:11,  3.63it/s]"
          ]
        },
        {
          "output_type": "stream",
          "name": "stdout",
          "text": [
            "\n",
            "0: 640x640 1 cat, 233.4ms\n",
            "Speed: 5.9ms preprocess, 233.4ms inference, 1.3ms postprocess per image at shape (1, 3, 640, 640)\n"
          ]
        },
        {
          "output_type": "stream",
          "name": "stderr",
          "text": [
            "\rProcessing: flaekli:  78%|███████████████████████████████▏        | 139/178 [00:44<00:10,  3.67it/s]"
          ]
        },
        {
          "output_type": "stream",
          "name": "stdout",
          "text": [
            "\n",
            "0: 640x480 (no detections), 175.9ms\n",
            "Speed: 5.7ms preprocess, 175.9ms inference, 1.1ms postprocess per image at shape (1, 3, 640, 480)\n"
          ]
        },
        {
          "output_type": "stream",
          "name": "stderr",
          "text": [
            "\rProcessing: flaekli:  79%|███████████████████████████████▍        | 140/178 [00:44<00:09,  3.89it/s]"
          ]
        },
        {
          "output_type": "stream",
          "name": "stdout",
          "text": [
            "No object detected, deleting /content/drive/MyDrive/datasets/dataset_fla_other/images/flaekli/IMG-20250219-WA0022.jpg\n",
            "\n",
            "0: 640x480 1 cat, 181.2ms\n",
            "Speed: 5.3ms preprocess, 181.2ms inference, 1.3ms postprocess per image at shape (1, 3, 640, 480)\n"
          ]
        },
        {
          "output_type": "stream",
          "name": "stderr",
          "text": [
            "\rProcessing: flaekli:  79%|███████████████████████████████▋        | 141/178 [00:44<00:09,  3.98it/s]"
          ]
        },
        {
          "output_type": "stream",
          "name": "stdout",
          "text": [
            "\n",
            "0: 640x480 1 cat, 173.1ms\n",
            "Speed: 6.3ms preprocess, 173.1ms inference, 1.3ms postprocess per image at shape (1, 3, 640, 480)\n"
          ]
        },
        {
          "output_type": "stream",
          "name": "stderr",
          "text": [
            "\rProcessing: flaekli:  80%|███████████████████████████████▉        | 142/178 [00:44<00:08,  4.05it/s]"
          ]
        },
        {
          "output_type": "stream",
          "name": "stdout",
          "text": [
            "\n",
            "0: 640x480 1 cat, 169.9ms\n",
            "Speed: 5.8ms preprocess, 169.9ms inference, 1.2ms postprocess per image at shape (1, 3, 640, 480)\n"
          ]
        },
        {
          "output_type": "stream",
          "name": "stderr",
          "text": [
            "\rProcessing: flaekli:  80%|████████████████████████████████▏       | 143/178 [00:45<00:10,  3.45it/s]"
          ]
        },
        {
          "output_type": "stream",
          "name": "stdout",
          "text": [
            "\n",
            "0: 640x480 1 cat, 169.9ms\n",
            "Speed: 6.6ms preprocess, 169.9ms inference, 1.5ms postprocess per image at shape (1, 3, 640, 480)\n"
          ]
        },
        {
          "output_type": "stream",
          "name": "stderr",
          "text": [
            "\rProcessing: flaekli:  81%|████████████████████████████████▎       | 144/178 [00:45<00:09,  3.69it/s]"
          ]
        },
        {
          "output_type": "stream",
          "name": "stdout",
          "text": [
            "\n",
            "0: 640x480 1 cat, 180.7ms\n",
            "Speed: 5.4ms preprocess, 180.7ms inference, 1.2ms postprocess per image at shape (1, 3, 640, 480)\n"
          ]
        },
        {
          "output_type": "stream",
          "name": "stderr",
          "text": [
            "\rProcessing: flaekli:  81%|████████████████████████████████▌       | 145/178 [00:45<00:08,  3.83it/s]"
          ]
        },
        {
          "output_type": "stream",
          "name": "stdout",
          "text": [
            "\n",
            "0: 640x480 1 cat, 187.0ms\n",
            "Speed: 5.8ms preprocess, 187.0ms inference, 1.2ms postprocess per image at shape (1, 3, 640, 480)\n"
          ]
        },
        {
          "output_type": "stream",
          "name": "stderr",
          "text": [
            "\rProcessing: flaekli:  82%|████████████████████████████████▊       | 146/178 [00:45<00:08,  3.86it/s]"
          ]
        },
        {
          "output_type": "stream",
          "name": "stdout",
          "text": [
            "\n",
            "0: 640x480 1 cat, 223.9ms\n",
            "Speed: 5.5ms preprocess, 223.9ms inference, 1.5ms postprocess per image at shape (1, 3, 640, 480)\n"
          ]
        },
        {
          "output_type": "stream",
          "name": "stderr",
          "text": [
            "\rProcessing: flaekli:  83%|█████████████████████████████████       | 147/178 [00:46<00:08,  3.75it/s]"
          ]
        },
        {
          "output_type": "stream",
          "name": "stdout",
          "text": [
            "\n",
            "0: 640x480 1 cat, 269.2ms\n",
            "Speed: 5.1ms preprocess, 269.2ms inference, 1.5ms postprocess per image at shape (1, 3, 640, 480)\n"
          ]
        },
        {
          "output_type": "stream",
          "name": "stderr",
          "text": [
            "\rProcessing: flaekli:  83%|█████████████████████████████████▎      | 148/178 [00:46<00:08,  3.43it/s]"
          ]
        },
        {
          "output_type": "stream",
          "name": "stdout",
          "text": [
            "\n",
            "0: 640x480 1 cat, 260.2ms\n",
            "Speed: 5.1ms preprocess, 260.2ms inference, 1.6ms postprocess per image at shape (1, 3, 640, 480)\n"
          ]
        },
        {
          "output_type": "stream",
          "name": "stderr",
          "text": [
            "\rProcessing: flaekli:  84%|█████████████████████████████████▍      | 149/178 [00:46<00:08,  3.28it/s]"
          ]
        },
        {
          "output_type": "stream",
          "name": "stdout",
          "text": [
            "\n",
            "0: 640x480 (no detections), 267.6ms\n",
            "Speed: 19.2ms preprocess, 267.6ms inference, 1.4ms postprocess per image at shape (1, 3, 640, 480)\n"
          ]
        },
        {
          "output_type": "stream",
          "name": "stderr",
          "text": [
            "\rProcessing: flaekli:  84%|█████████████████████████████████▋      | 150/178 [00:47<00:08,  3.15it/s]"
          ]
        },
        {
          "output_type": "stream",
          "name": "stdout",
          "text": [
            "No object detected, deleting /content/drive/MyDrive/datasets/dataset_fla_other/images/flaekli/IMG-20250219-WA0028.jpg\n",
            "\n",
            "0: 640x480 1 cat, 262.1ms\n",
            "Speed: 5.3ms preprocess, 262.1ms inference, 1.7ms postprocess per image at shape (1, 3, 640, 480)\n"
          ]
        },
        {
          "output_type": "stream",
          "name": "stderr",
          "text": [
            "\rProcessing: flaekli:  85%|█████████████████████████████████▉      | 151/178 [00:47<00:09,  2.99it/s]"
          ]
        },
        {
          "output_type": "stream",
          "name": "stdout",
          "text": [
            "\n",
            "0: 640x480 1 cat, 268.1ms\n",
            "Speed: 5.3ms preprocess, 268.1ms inference, 2.1ms postprocess per image at shape (1, 3, 640, 480)\n"
          ]
        },
        {
          "output_type": "stream",
          "name": "stderr",
          "text": [
            "\rProcessing: flaekli:  85%|██████████████████████████████████▏     | 152/178 [00:48<00:08,  2.90it/s]"
          ]
        },
        {
          "output_type": "stream",
          "name": "stdout",
          "text": [
            "\n",
            "0: 640x480 1 cat, 269.0ms\n",
            "Speed: 6.6ms preprocess, 269.0ms inference, 1.7ms postprocess per image at shape (1, 3, 640, 480)\n"
          ]
        },
        {
          "output_type": "stream",
          "name": "stderr",
          "text": [
            "\rProcessing: flaekli:  86%|██████████████████████████████████▍     | 153/178 [00:48<00:08,  2.89it/s]"
          ]
        },
        {
          "output_type": "stream",
          "name": "stdout",
          "text": [
            "\n",
            "0: 640x480 1 cat, 281.0ms\n",
            "Speed: 5.2ms preprocess, 281.0ms inference, 1.7ms postprocess per image at shape (1, 3, 640, 480)\n"
          ]
        },
        {
          "output_type": "stream",
          "name": "stderr",
          "text": [
            "\rProcessing: flaekli:  87%|██████████████████████████████████▌     | 154/178 [00:48<00:08,  2.87it/s]"
          ]
        },
        {
          "output_type": "stream",
          "name": "stdout",
          "text": [
            "\n",
            "0: 640x480 (no detections), 253.6ms\n",
            "Speed: 5.2ms preprocess, 253.6ms inference, 1.4ms postprocess per image at shape (1, 3, 640, 480)\n"
          ]
        },
        {
          "output_type": "stream",
          "name": "stderr",
          "text": [
            "\rProcessing: flaekli:  87%|██████████████████████████████████▊     | 155/178 [00:49<00:07,  2.98it/s]"
          ]
        },
        {
          "output_type": "stream",
          "name": "stdout",
          "text": [
            "No object detected, deleting /content/drive/MyDrive/datasets/dataset_fla_other/images/flaekli/IMG-20250219-WA0018.jpg\n",
            "\n",
            "0: 640x480 1 cat, 259.2ms\n",
            "Speed: 7.6ms preprocess, 259.2ms inference, 1.8ms postprocess per image at shape (1, 3, 640, 480)\n"
          ]
        },
        {
          "output_type": "stream",
          "name": "stderr",
          "text": [
            "\rProcessing: flaekli:  88%|███████████████████████████████████     | 156/178 [00:49<00:07,  2.96it/s]"
          ]
        },
        {
          "output_type": "stream",
          "name": "stdout",
          "text": [
            "\n",
            "0: 640x480 1 cat, 284.2ms\n",
            "Speed: 5.2ms preprocess, 284.2ms inference, 1.8ms postprocess per image at shape (1, 3, 640, 480)\n"
          ]
        },
        {
          "output_type": "stream",
          "name": "stderr",
          "text": [
            "\rProcessing: flaekli:  88%|███████████████████████████████████▎    | 157/178 [00:49<00:07,  2.86it/s]"
          ]
        },
        {
          "output_type": "stream",
          "name": "stdout",
          "text": [
            "\n",
            "0: 640x480 1 cat, 276.6ms\n",
            "Speed: 5.9ms preprocess, 276.6ms inference, 2.0ms postprocess per image at shape (1, 3, 640, 480)\n"
          ]
        },
        {
          "output_type": "stream",
          "name": "stderr",
          "text": [
            "\rProcessing: flaekli:  89%|███████████████████████████████████▌    | 158/178 [00:50<00:07,  2.86it/s]"
          ]
        },
        {
          "output_type": "stream",
          "name": "stdout",
          "text": [
            "\n",
            "0: 640x480 1 cat, 235.8ms\n",
            "Speed: 10.5ms preprocess, 235.8ms inference, 1.2ms postprocess per image at shape (1, 3, 640, 480)\n"
          ]
        },
        {
          "output_type": "stream",
          "name": "stderr",
          "text": [
            "\rProcessing: flaekli:  89%|███████████████████████████████████▋    | 159/178 [00:50<00:06,  2.94it/s]"
          ]
        },
        {
          "output_type": "stream",
          "name": "stdout",
          "text": [
            "\n",
            "0: 640x480 2 cats, 170.8ms\n",
            "Speed: 5.8ms preprocess, 170.8ms inference, 1.2ms postprocess per image at shape (1, 3, 640, 480)\n"
          ]
        },
        {
          "output_type": "stream",
          "name": "stderr",
          "text": [
            "\rProcessing: flaekli:  90%|███████████████████████████████████▉    | 160/178 [00:50<00:05,  3.17it/s]"
          ]
        },
        {
          "output_type": "stream",
          "name": "stdout",
          "text": [
            "\n",
            "0: 640x480 1 cat, 170.3ms\n",
            "Speed: 6.6ms preprocess, 170.3ms inference, 1.3ms postprocess per image at shape (1, 3, 640, 480)\n"
          ]
        },
        {
          "output_type": "stream",
          "name": "stderr",
          "text": [
            "\rProcessing: flaekli:  90%|████████████████████████████████████▏   | 161/178 [00:50<00:05,  3.38it/s]"
          ]
        },
        {
          "output_type": "stream",
          "name": "stdout",
          "text": [
            "\n",
            "0: 640x480 (no detections), 165.6ms\n",
            "Speed: 5.7ms preprocess, 165.6ms inference, 1.0ms postprocess per image at shape (1, 3, 640, 480)\n"
          ]
        },
        {
          "output_type": "stream",
          "name": "stderr",
          "text": [
            "\rProcessing: flaekli:  91%|████████████████████████████████████▍   | 162/178 [00:51<00:04,  3.69it/s]"
          ]
        },
        {
          "output_type": "stream",
          "name": "stdout",
          "text": [
            "No object detected, deleting /content/drive/MyDrive/datasets/dataset_fla_other/images/flaekli/IMG-20250219-WA0003.jpg\n",
            "\n",
            "0: 640x480 1 cat, 168.0ms\n",
            "Speed: 5.3ms preprocess, 168.0ms inference, 1.2ms postprocess per image at shape (1, 3, 640, 480)\n"
          ]
        },
        {
          "output_type": "stream",
          "name": "stderr",
          "text": [
            "\rProcessing: flaekli:  92%|████████████████████████████████████▋   | 163/178 [00:51<00:03,  3.84it/s]"
          ]
        },
        {
          "output_type": "stream",
          "name": "stdout",
          "text": [
            "\n",
            "0: 640x480 1 cat, 161.4ms\n",
            "Speed: 6.1ms preprocess, 161.4ms inference, 1.3ms postprocess per image at shape (1, 3, 640, 480)\n"
          ]
        },
        {
          "output_type": "stream",
          "name": "stderr",
          "text": [
            "\rProcessing: flaekli:  92%|████████████████████████████████████▊   | 164/178 [00:51<00:03,  4.04it/s]"
          ]
        },
        {
          "output_type": "stream",
          "name": "stdout",
          "text": [
            "\n",
            "0: 640x480 1 cat, 171.7ms\n",
            "Speed: 5.1ms preprocess, 171.7ms inference, 1.3ms postprocess per image at shape (1, 3, 640, 480)\n"
          ]
        },
        {
          "output_type": "stream",
          "name": "stderr",
          "text": [
            "\rProcessing: flaekli:  93%|█████████████████████████████████████   | 165/178 [00:51<00:03,  4.12it/s]"
          ]
        },
        {
          "output_type": "stream",
          "name": "stdout",
          "text": [
            "\n",
            "0: 640x480 1 cat, 169.8ms\n",
            "Speed: 6.2ms preprocess, 169.8ms inference, 1.2ms postprocess per image at shape (1, 3, 640, 480)\n"
          ]
        },
        {
          "output_type": "stream",
          "name": "stderr",
          "text": [
            "\rProcessing: flaekli:  93%|█████████████████████████████████████▎  | 166/178 [00:52<00:02,  4.21it/s]"
          ]
        },
        {
          "output_type": "stream",
          "name": "stdout",
          "text": [
            "\n",
            "0: 640x480 1 cat, 182.2ms\n",
            "Speed: 5.4ms preprocess, 182.2ms inference, 1.2ms postprocess per image at shape (1, 3, 640, 480)\n"
          ]
        },
        {
          "output_type": "stream",
          "name": "stderr",
          "text": [
            "\rProcessing: flaekli:  94%|█████████████████████████████████████▌  | 167/178 [00:52<00:02,  4.15it/s]"
          ]
        },
        {
          "output_type": "stream",
          "name": "stdout",
          "text": [
            "\n",
            "0: 640x480 (no detections), 169.0ms\n",
            "Speed: 6.1ms preprocess, 169.0ms inference, 1.1ms postprocess per image at shape (1, 3, 640, 480)\n"
          ]
        },
        {
          "output_type": "stream",
          "name": "stderr",
          "text": [
            "\rProcessing: flaekli:  94%|█████████████████████████████████████▊  | 168/178 [00:52<00:02,  4.31it/s]"
          ]
        },
        {
          "output_type": "stream",
          "name": "stdout",
          "text": [
            "No object detected, deleting /content/drive/MyDrive/datasets/dataset_fla_other/images/flaekli/IMG-20250219-WA0024.jpg\n",
            "\n",
            "0: 640x480 1 cat, 180.9ms\n",
            "Speed: 5.5ms preprocess, 180.9ms inference, 1.2ms postprocess per image at shape (1, 3, 640, 480)\n"
          ]
        },
        {
          "output_type": "stream",
          "name": "stderr",
          "text": [
            "\rProcessing: flaekli:  95%|█████████████████████████████████████▉  | 169/178 [00:52<00:02,  4.30it/s]"
          ]
        },
        {
          "output_type": "stream",
          "name": "stdout",
          "text": [
            "\n",
            "0: 640x480 1 cat, 176.5ms\n",
            "Speed: 7.2ms preprocess, 176.5ms inference, 1.2ms postprocess per image at shape (1, 3, 640, 480)\n"
          ]
        },
        {
          "output_type": "stream",
          "name": "stderr",
          "text": [
            "\rProcessing: flaekli:  96%|██████████████████████████████████████▏ | 170/178 [00:52<00:01,  4.27it/s]"
          ]
        },
        {
          "output_type": "stream",
          "name": "stdout",
          "text": [
            "\n",
            "0: 640x480 1 cat, 177.9ms\n",
            "Speed: 9.5ms preprocess, 177.9ms inference, 1.3ms postprocess per image at shape (1, 3, 640, 480)\n"
          ]
        },
        {
          "output_type": "stream",
          "name": "stderr",
          "text": [
            "\rProcessing: flaekli:  96%|██████████████████████████████████████▍ | 171/178 [00:53<00:01,  4.15it/s]"
          ]
        },
        {
          "output_type": "stream",
          "name": "stdout",
          "text": [
            "\n",
            "0: 640x480 1 cat, 176.2ms\n",
            "Speed: 5.3ms preprocess, 176.2ms inference, 1.4ms postprocess per image at shape (1, 3, 640, 480)\n"
          ]
        },
        {
          "output_type": "stream",
          "name": "stderr",
          "text": [
            "\rProcessing: flaekli:  97%|██████████████████████████████████████▋ | 172/178 [00:53<00:01,  4.18it/s]"
          ]
        },
        {
          "output_type": "stream",
          "name": "stdout",
          "text": [
            "\n",
            "0: 640x480 (no detections), 175.6ms\n",
            "Speed: 5.3ms preprocess, 175.6ms inference, 1.1ms postprocess per image at shape (1, 3, 640, 480)\n"
          ]
        },
        {
          "output_type": "stream",
          "name": "stderr",
          "text": [
            "\rProcessing: flaekli:  97%|██████████████████████████████████████▉ | 173/178 [00:53<00:01,  4.31it/s]"
          ]
        },
        {
          "output_type": "stream",
          "name": "stdout",
          "text": [
            "No object detected, deleting /content/drive/MyDrive/datasets/dataset_fla_other/images/flaekli/IMG-20250219-WA0030.jpg\n",
            "\n",
            "0: 640x480 1 cat, 173.3ms\n",
            "Speed: 5.9ms preprocess, 173.3ms inference, 1.4ms postprocess per image at shape (1, 3, 640, 480)\n"
          ]
        },
        {
          "output_type": "stream",
          "name": "stderr",
          "text": [
            "\rProcessing: flaekli:  98%|███████████████████████████████████████ | 174/178 [00:53<00:00,  4.33it/s]"
          ]
        },
        {
          "output_type": "stream",
          "name": "stdout",
          "text": [
            "\n",
            "0: 640x480 1 cat, 163.5ms\n",
            "Speed: 5.0ms preprocess, 163.5ms inference, 1.6ms postprocess per image at shape (1, 3, 640, 480)\n"
          ]
        },
        {
          "output_type": "stream",
          "name": "stderr",
          "text": [
            "\rProcessing: flaekli:  98%|███████████████████████████████████████▎| 175/178 [00:54<00:00,  4.39it/s]"
          ]
        },
        {
          "output_type": "stream",
          "name": "stdout",
          "text": [
            "\n",
            "0: 640x480 1 cat, 179.6ms\n",
            "Speed: 5.8ms preprocess, 179.6ms inference, 1.4ms postprocess per image at shape (1, 3, 640, 480)\n"
          ]
        },
        {
          "output_type": "stream",
          "name": "stderr",
          "text": [
            "\rProcessing: flaekli:  99%|███████████████████████████████████████▌| 176/178 [00:54<00:00,  4.32it/s]"
          ]
        },
        {
          "output_type": "stream",
          "name": "stdout",
          "text": [
            "\n",
            "0: 640x480 1 cat, 168.3ms\n",
            "Speed: 6.1ms preprocess, 168.3ms inference, 1.2ms postprocess per image at shape (1, 3, 640, 480)\n"
          ]
        },
        {
          "output_type": "stream",
          "name": "stderr",
          "text": [
            "\rProcessing: flaekli:  99%|███████████████████████████████████████▊| 177/178 [00:54<00:00,  4.36it/s]"
          ]
        },
        {
          "output_type": "stream",
          "name": "stdout",
          "text": [
            "\n",
            "0: 640x480 1 cat, 168.6ms\n",
            "Speed: 5.2ms preprocess, 168.6ms inference, 1.3ms postprocess per image at shape (1, 3, 640, 480)\n"
          ]
        },
        {
          "output_type": "stream",
          "name": "stderr",
          "text": [
            "Processing: flaekli: 100%|████████████████████████████████████████| 178/178 [00:54<00:00,  3.25it/s]"
          ]
        },
        {
          "output_type": "stream",
          "name": "stdout",
          "text": [
            "Processing images in category: other_cats\n"
          ]
        },
        {
          "output_type": "stream",
          "name": "stderr",
          "text": [
            "\n",
            "Processing: other_cats:   0%|                                               | 0/398 [00:00<?, ?it/s]"
          ]
        },
        {
          "output_type": "stream",
          "name": "stdout",
          "text": [
            "\n",
            "0: 640x608 1 cat, 246.5ms\n",
            "Speed: 6.2ms preprocess, 246.5ms inference, 1.3ms postprocess per image at shape (1, 3, 640, 608)\n"
          ]
        },
        {
          "output_type": "stream",
          "name": "stderr",
          "text": [
            "\rProcessing: other_cats:   0%|                                       | 1/398 [00:00<03:57,  1.67it/s]"
          ]
        },
        {
          "output_type": "stream",
          "name": "stdout",
          "text": [
            "\n",
            "0: 640x544 1 cat, 209.9ms\n",
            "Speed: 6.0ms preprocess, 209.9ms inference, 1.4ms postprocess per image at shape (1, 3, 640, 544)\n"
          ]
        },
        {
          "output_type": "stream",
          "name": "stderr",
          "text": [
            "\rProcessing: other_cats:   1%|▏                                      | 2/398 [00:01<03:40,  1.80it/s]"
          ]
        },
        {
          "output_type": "stream",
          "name": "stdout",
          "text": [
            "\n",
            "0: 640x416 1 cat, 159.3ms\n",
            "Speed: 5.7ms preprocess, 159.3ms inference, 1.6ms postprocess per image at shape (1, 3, 640, 416)\n"
          ]
        },
        {
          "output_type": "stream",
          "name": "stderr",
          "text": [
            "\rProcessing: other_cats:   1%|▎                                      | 3/398 [00:01<03:10,  2.07it/s]"
          ]
        },
        {
          "output_type": "stream",
          "name": "stdout",
          "text": [
            "\n",
            "0: 544x640 1 cat, 311.4ms\n",
            "Speed: 8.1ms preprocess, 311.4ms inference, 4.0ms postprocess per image at shape (1, 3, 544, 640)\n"
          ]
        },
        {
          "output_type": "stream",
          "name": "stderr",
          "text": [
            "\rProcessing: other_cats:   1%|▍                                      | 4/398 [00:05<12:05,  1.84s/it]"
          ]
        },
        {
          "output_type": "stream",
          "name": "stdout",
          "text": [
            "\n",
            "0: 640x608 1 cat, 375.1ms\n",
            "Speed: 4.6ms preprocess, 375.1ms inference, 2.1ms postprocess per image at shape (1, 3, 640, 608)\n"
          ]
        },
        {
          "output_type": "stream",
          "name": "stderr",
          "text": [
            "\rProcessing: other_cats:   1%|▍                                      | 5/398 [00:05<08:41,  1.33s/it]"
          ]
        },
        {
          "output_type": "stream",
          "name": "stdout",
          "text": [
            "\n",
            "0: 512x640 1 cat, 329.3ms\n",
            "Speed: 4.2ms preprocess, 329.3ms inference, 1.7ms postprocess per image at shape (1, 3, 512, 640)\n"
          ]
        },
        {
          "output_type": "stream",
          "name": "stderr",
          "text": [
            "\rProcessing: other_cats:   2%|▌                                      | 6/398 [00:06<06:36,  1.01s/it]"
          ]
        },
        {
          "output_type": "stream",
          "name": "stdout",
          "text": [
            "\n",
            "0: 640x640 1 cat, 366.6ms\n",
            "Speed: 5.5ms preprocess, 366.6ms inference, 1.6ms postprocess per image at shape (1, 3, 640, 640)\n"
          ]
        },
        {
          "output_type": "stream",
          "name": "stderr",
          "text": [
            "\rProcessing: other_cats:   2%|▋                                      | 7/398 [00:06<05:21,  1.22it/s]"
          ]
        },
        {
          "output_type": "stream",
          "name": "stdout",
          "text": [
            "\n",
            "0: 480x640 1 cat, 292.5ms\n",
            "Speed: 6.1ms preprocess, 292.5ms inference, 1.8ms postprocess per image at shape (1, 3, 480, 640)\n"
          ]
        },
        {
          "output_type": "stream",
          "name": "stderr",
          "text": [
            "\rProcessing: other_cats:   2%|▊                                      | 8/398 [00:07<04:20,  1.50it/s]"
          ]
        },
        {
          "output_type": "stream",
          "name": "stdout",
          "text": [
            "\n",
            "0: 288x640 1 cat, 176.1ms\n",
            "Speed: 6.7ms preprocess, 176.1ms inference, 1.3ms postprocess per image at shape (1, 3, 288, 640)\n"
          ]
        },
        {
          "output_type": "stream",
          "name": "stderr",
          "text": [
            "\rProcessing: other_cats:   2%|▉                                      | 9/398 [00:07<03:25,  1.89it/s]"
          ]
        },
        {
          "output_type": "stream",
          "name": "stdout",
          "text": [
            "\n",
            "0: 640x384 1 cat, 234.4ms\n",
            "Speed: 3.2ms preprocess, 234.4ms inference, 1.6ms postprocess per image at shape (1, 3, 640, 384)\n"
          ]
        },
        {
          "output_type": "stream",
          "name": "stderr",
          "text": [
            "\rProcessing: other_cats:   3%|▉                                     | 10/398 [00:07<02:54,  2.22it/s]"
          ]
        },
        {
          "output_type": "stream",
          "name": "stdout",
          "text": [
            "\n",
            "0: 448x640 1 cat, 248.7ms\n",
            "Speed: 3.9ms preprocess, 248.7ms inference, 2.7ms postprocess per image at shape (1, 3, 448, 640)\n"
          ]
        },
        {
          "output_type": "stream",
          "name": "stderr",
          "text": [
            "\rProcessing: other_cats:   3%|█                                     | 11/398 [00:07<02:34,  2.50it/s]"
          ]
        },
        {
          "output_type": "stream",
          "name": "stdout",
          "text": [
            "\n",
            "0: 480x640 2 cats, 272.4ms\n",
            "Speed: 4.1ms preprocess, 272.4ms inference, 1.6ms postprocess per image at shape (1, 3, 480, 640)\n"
          ]
        },
        {
          "output_type": "stream",
          "name": "stderr",
          "text": [
            "\rProcessing: other_cats:   3%|█▏                                    | 12/398 [00:08<02:25,  2.65it/s]"
          ]
        },
        {
          "output_type": "stream",
          "name": "stdout",
          "text": [
            "\n",
            "0: 480x640 1 cat, 266.7ms\n",
            "Speed: 6.9ms preprocess, 266.7ms inference, 1.7ms postprocess per image at shape (1, 3, 480, 640)\n"
          ]
        },
        {
          "output_type": "stream",
          "name": "stderr",
          "text": [
            "\rProcessing: other_cats:   3%|█▏                                    | 13/398 [00:08<02:17,  2.80it/s]"
          ]
        },
        {
          "output_type": "stream",
          "name": "stdout",
          "text": [
            "\n",
            "0: 640x640 (no detections), 385.2ms\n",
            "Speed: 9.7ms preprocess, 385.2ms inference, 1.7ms postprocess per image at shape (1, 3, 640, 640)\n"
          ]
        },
        {
          "output_type": "stream",
          "name": "stderr",
          "text": [
            "\rProcessing: other_cats:   4%|█▎                                    | 14/398 [00:08<02:24,  2.65it/s]"
          ]
        },
        {
          "output_type": "stream",
          "name": "stdout",
          "text": [
            "No object detected, deleting /content/drive/MyDrive/datasets/dataset_fla_other/images/other_cats/431.jpg\n",
            "\n",
            "0: 640x576 2 cats, 338.5ms\n",
            "Speed: 9.8ms preprocess, 338.5ms inference, 1.5ms postprocess per image at shape (1, 3, 640, 576)\n"
          ]
        },
        {
          "output_type": "stream",
          "name": "stderr",
          "text": [
            "\rProcessing: other_cats:   4%|█▍                                    | 15/398 [00:09<02:27,  2.59it/s]"
          ]
        },
        {
          "output_type": "stream",
          "name": "stdout",
          "text": [
            "\n",
            "0: 640x544 1 cat, 299.1ms\n",
            "Speed: 4.9ms preprocess, 299.1ms inference, 1.7ms postprocess per image at shape (1, 3, 640, 544)\n"
          ]
        },
        {
          "output_type": "stream",
          "name": "stderr",
          "text": [
            "\rProcessing: other_cats:   4%|█▌                                    | 16/398 [00:09<02:21,  2.69it/s]"
          ]
        },
        {
          "output_type": "stream",
          "name": "stdout",
          "text": [
            "\n",
            "0: 544x640 1 cat, 332.9ms\n",
            "Speed: 8.5ms preprocess, 332.9ms inference, 1.7ms postprocess per image at shape (1, 3, 544, 640)\n"
          ]
        },
        {
          "output_type": "stream",
          "name": "stderr",
          "text": [
            "\rProcessing: other_cats:   4%|█▌                                    | 17/398 [00:09<02:21,  2.70it/s]"
          ]
        },
        {
          "output_type": "stream",
          "name": "stdout",
          "text": [
            "\n",
            "0: 640x640 1 cat, 375.3ms\n",
            "Speed: 5.9ms preprocess, 375.3ms inference, 1.9ms postprocess per image at shape (1, 3, 640, 640)\n"
          ]
        },
        {
          "output_type": "stream",
          "name": "stderr",
          "text": [
            "\rProcessing: other_cats:   5%|█▋                                    | 18/398 [00:10<02:25,  2.61it/s]"
          ]
        },
        {
          "output_type": "stream",
          "name": "stdout",
          "text": [
            "\n",
            "0: 640x640 (no detections), 357.1ms\n",
            "Speed: 8.8ms preprocess, 357.1ms inference, 0.9ms postprocess per image at shape (1, 3, 640, 640)\n"
          ]
        },
        {
          "output_type": "stream",
          "name": "stderr",
          "text": [
            "\rProcessing: other_cats:   5%|█▊                                    | 19/398 [00:10<02:25,  2.60it/s]"
          ]
        },
        {
          "output_type": "stream",
          "name": "stdout",
          "text": [
            "No object detected, deleting /content/drive/MyDrive/datasets/dataset_fla_other/images/other_cats/439.jpg\n",
            "\n",
            "0: 640x448 1 cat, 221.4ms\n",
            "Speed: 7.0ms preprocess, 221.4ms inference, 1.6ms postprocess per image at shape (1, 3, 640, 448)\n"
          ]
        },
        {
          "output_type": "stream",
          "name": "stderr",
          "text": [
            "\rProcessing: other_cats:   5%|█▉                                    | 20/398 [00:11<02:11,  2.87it/s]"
          ]
        },
        {
          "output_type": "stream",
          "name": "stdout",
          "text": [
            "\n",
            "0: 640x640 1 cat, 318.9ms\n",
            "Speed: 7.9ms preprocess, 318.9ms inference, 1.7ms postprocess per image at shape (1, 3, 640, 640)\n"
          ]
        },
        {
          "output_type": "stream",
          "name": "stderr",
          "text": [
            "\rProcessing: other_cats:   5%|██                                    | 21/398 [00:11<02:12,  2.84it/s]"
          ]
        },
        {
          "output_type": "stream",
          "name": "stdout",
          "text": [
            "\n",
            "0: 448x640 (no detections), 213.0ms\n",
            "Speed: 6.7ms preprocess, 213.0ms inference, 0.9ms postprocess per image at shape (1, 3, 448, 640)\n"
          ]
        },
        {
          "output_type": "stream",
          "name": "stderr",
          "text": [
            "\rProcessing: other_cats:   6%|██                                    | 22/398 [00:11<02:00,  3.13it/s]"
          ]
        },
        {
          "output_type": "stream",
          "name": "stdout",
          "text": [
            "No object detected, deleting /content/drive/MyDrive/datasets/dataset_fla_other/images/other_cats/438.jpg\n",
            "\n",
            "0: 384x640 2 cats, 160.0ms\n",
            "Speed: 4.2ms preprocess, 160.0ms inference, 1.2ms postprocess per image at shape (1, 3, 384, 640)\n"
          ]
        },
        {
          "output_type": "stream",
          "name": "stderr",
          "text": [
            "\rProcessing: other_cats:   6%|██▏                                   | 23/398 [00:11<01:46,  3.54it/s]"
          ]
        },
        {
          "output_type": "stream",
          "name": "stdout",
          "text": [
            "\n",
            "0: 576x640 1 cat, 231.2ms\n",
            "Speed: 5.4ms preprocess, 231.2ms inference, 1.2ms postprocess per image at shape (1, 3, 576, 640)\n"
          ]
        },
        {
          "output_type": "stream",
          "name": "stderr",
          "text": [
            "\rProcessing: other_cats:   6%|██▎                                   | 24/398 [00:12<01:44,  3.59it/s]"
          ]
        },
        {
          "output_type": "stream",
          "name": "stdout",
          "text": [
            "\n",
            "0: 640x352 1 cat, 145.5ms\n",
            "Speed: 5.8ms preprocess, 145.5ms inference, 1.1ms postprocess per image at shape (1, 3, 640, 352)\n"
          ]
        },
        {
          "output_type": "stream",
          "name": "stderr",
          "text": [
            "\rProcessing: other_cats:   6%|██▍                                   | 25/398 [00:12<01:34,  3.94it/s]"
          ]
        },
        {
          "output_type": "stream",
          "name": "stdout",
          "text": [
            "\n",
            "0: 544x640 1 cat, 211.1ms\n",
            "Speed: 5.0ms preprocess, 211.1ms inference, 1.3ms postprocess per image at shape (1, 3, 544, 640)\n"
          ]
        },
        {
          "output_type": "stream",
          "name": "stderr",
          "text": [
            "\rProcessing: other_cats:   7%|██▍                                   | 26/398 [00:12<01:33,  3.98it/s]"
          ]
        },
        {
          "output_type": "stream",
          "name": "stdout",
          "text": [
            "\n",
            "0: 576x640 1 cat, 210.4ms\n",
            "Speed: 5.7ms preprocess, 210.4ms inference, 1.2ms postprocess per image at shape (1, 3, 576, 640)\n"
          ]
        },
        {
          "output_type": "stream",
          "name": "stderr",
          "text": [
            "\rProcessing: other_cats:   7%|██▌                                   | 27/398 [00:12<01:32,  4.01it/s]"
          ]
        },
        {
          "output_type": "stream",
          "name": "stdout",
          "text": [
            "\n",
            "0: 480x640 1 cat, 188.8ms\n",
            "Speed: 7.7ms preprocess, 188.8ms inference, 2.1ms postprocess per image at shape (1, 3, 480, 640)\n"
          ]
        },
        {
          "output_type": "stream",
          "name": "stderr",
          "text": [
            "\rProcessing: other_cats:   7%|██▋                                   | 28/398 [00:13<01:29,  4.11it/s]"
          ]
        },
        {
          "output_type": "stream",
          "name": "stdout",
          "text": [
            "\n",
            "0: 640x512 1 cat, 200.2ms\n",
            "Speed: 4.5ms preprocess, 200.2ms inference, 1.3ms postprocess per image at shape (1, 3, 640, 512)\n"
          ]
        },
        {
          "output_type": "stream",
          "name": "stderr",
          "text": [
            "\rProcessing: other_cats:   7%|██▊                                   | 29/398 [00:13<01:28,  4.18it/s]"
          ]
        },
        {
          "output_type": "stream",
          "name": "stdout",
          "text": [
            "\n",
            "0: 640x608 1 cat, 238.8ms\n",
            "Speed: 5.6ms preprocess, 238.8ms inference, 1.2ms postprocess per image at shape (1, 3, 640, 608)\n"
          ]
        },
        {
          "output_type": "stream",
          "name": "stderr",
          "text": [
            "\rProcessing: other_cats:   8%|██▊                                   | 30/398 [00:13<01:31,  4.01it/s]"
          ]
        },
        {
          "output_type": "stream",
          "name": "stdout",
          "text": [
            "\n",
            "0: 480x640 1 cat, 169.2ms\n",
            "Speed: 4.6ms preprocess, 169.2ms inference, 1.2ms postprocess per image at shape (1, 3, 480, 640)\n"
          ]
        },
        {
          "output_type": "stream",
          "name": "stderr",
          "text": [
            "\rProcessing: other_cats:   8%|██▉                                   | 31/398 [00:13<01:26,  4.26it/s]"
          ]
        },
        {
          "output_type": "stream",
          "name": "stdout",
          "text": [
            "\n",
            "0: 640x640 1 cat, 250.0ms\n",
            "Speed: 5.9ms preprocess, 250.0ms inference, 1.3ms postprocess per image at shape (1, 3, 640, 640)\n"
          ]
        },
        {
          "output_type": "stream",
          "name": "stderr",
          "text": [
            "\rProcessing: other_cats:   8%|███                                   | 32/398 [00:14<01:30,  4.03it/s]"
          ]
        },
        {
          "output_type": "stream",
          "name": "stdout",
          "text": [
            "\n",
            "0: 640x448 1 cat, 171.2ms\n",
            "Speed: 4.8ms preprocess, 171.2ms inference, 1.3ms postprocess per image at shape (1, 3, 640, 448)\n"
          ]
        },
        {
          "output_type": "stream",
          "name": "stderr",
          "text": [
            "\rProcessing: other_cats:   8%|███▏                                  | 33/398 [00:14<01:25,  4.28it/s]"
          ]
        },
        {
          "output_type": "stream",
          "name": "stdout",
          "text": [
            "\n",
            "0: 480x640 1 cat, 165.8ms\n",
            "Speed: 4.3ms preprocess, 165.8ms inference, 3.2ms postprocess per image at shape (1, 3, 480, 640)\n"
          ]
        },
        {
          "output_type": "stream",
          "name": "stderr",
          "text": [
            "\rProcessing: other_cats:   9%|███▏                                  | 34/398 [00:14<01:23,  4.38it/s]"
          ]
        },
        {
          "output_type": "stream",
          "name": "stdout",
          "text": [
            "\n",
            "0: 576x640 1 cat, 227.0ms\n",
            "Speed: 7.6ms preprocess, 227.0ms inference, 1.2ms postprocess per image at shape (1, 3, 576, 640)\n"
          ]
        },
        {
          "output_type": "stream",
          "name": "stderr",
          "text": [
            "\rProcessing: other_cats:   9%|███▎                                  | 35/398 [00:14<01:26,  4.20it/s]"
          ]
        },
        {
          "output_type": "stream",
          "name": "stdout",
          "text": [
            "\n",
            "0: 480x640 1 cat, 171.5ms\n",
            "Speed: 4.4ms preprocess, 171.5ms inference, 1.3ms postprocess per image at shape (1, 3, 480, 640)\n"
          ]
        },
        {
          "output_type": "stream",
          "name": "stderr",
          "text": [
            "\rProcessing: other_cats:   9%|███▍                                  | 36/398 [00:14<01:22,  4.41it/s]"
          ]
        },
        {
          "output_type": "stream",
          "name": "stdout",
          "text": [
            "\n",
            "0: 448x640 2 cats, 157.9ms\n",
            "Speed: 5.6ms preprocess, 157.9ms inference, 1.8ms postprocess per image at shape (1, 3, 448, 640)\n"
          ]
        },
        {
          "output_type": "stream",
          "name": "stderr",
          "text": [
            "\rProcessing: other_cats:   9%|███▌                                  | 37/398 [00:15<01:19,  4.54it/s]"
          ]
        },
        {
          "output_type": "stream",
          "name": "stdout",
          "text": [
            "\n",
            "0: 352x640 1 cat, 135.9ms\n",
            "Speed: 4.4ms preprocess, 135.9ms inference, 1.1ms postprocess per image at shape (1, 3, 352, 640)\n"
          ]
        },
        {
          "output_type": "stream",
          "name": "stderr",
          "text": [
            "\rProcessing: other_cats:  10%|███▋                                  | 38/398 [00:15<01:13,  4.91it/s]"
          ]
        },
        {
          "output_type": "stream",
          "name": "stdout",
          "text": [
            "\n",
            "0: 480x640 1 cat, 170.4ms\n",
            "Speed: 4.5ms preprocess, 170.4ms inference, 1.7ms postprocess per image at shape (1, 3, 480, 640)\n"
          ]
        },
        {
          "output_type": "stream",
          "name": "stderr",
          "text": [
            "\rProcessing: other_cats:  10%|███▋                                  | 39/398 [00:15<01:13,  4.91it/s]"
          ]
        },
        {
          "output_type": "stream",
          "name": "stdout",
          "text": [
            "\n",
            "0: 480x640 (no detections), 173.8ms\n",
            "Speed: 6.5ms preprocess, 173.8ms inference, 1.1ms postprocess per image at shape (1, 3, 480, 640)\n"
          ]
        },
        {
          "output_type": "stream",
          "name": "stderr",
          "text": [
            "\rProcessing: other_cats:  10%|███▊                                  | 40/398 [00:15<01:12,  4.94it/s]"
          ]
        },
        {
          "output_type": "stream",
          "name": "stdout",
          "text": [
            "No object detected, deleting /content/drive/MyDrive/datasets/dataset_fla_other/images/other_cats/454.jpg\n",
            "\n",
            "0: 480x640 1 cat, 187.8ms\n",
            "Speed: 7.2ms preprocess, 187.8ms inference, 1.7ms postprocess per image at shape (1, 3, 480, 640)\n"
          ]
        },
        {
          "output_type": "stream",
          "name": "stderr",
          "text": [
            "\rProcessing: other_cats:  10%|███▉                                  | 41/398 [00:15<01:14,  4.82it/s]"
          ]
        },
        {
          "output_type": "stream",
          "name": "stdout",
          "text": [
            "\n",
            "0: 480x640 1 cat, 169.7ms\n",
            "Speed: 7.1ms preprocess, 169.7ms inference, 1.4ms postprocess per image at shape (1, 3, 480, 640)\n"
          ]
        },
        {
          "output_type": "stream",
          "name": "stderr",
          "text": [
            "\rProcessing: other_cats:  11%|████                                  | 42/398 [00:16<01:15,  4.70it/s]"
          ]
        },
        {
          "output_type": "stream",
          "name": "stdout",
          "text": [
            "\n",
            "0: 640x512 1 cat, 187.8ms\n",
            "Speed: 4.8ms preprocess, 187.8ms inference, 1.2ms postprocess per image at shape (1, 3, 640, 512)\n"
          ]
        },
        {
          "output_type": "stream",
          "name": "stderr",
          "text": [
            "\rProcessing: other_cats:  11%|████                                  | 43/398 [00:16<01:16,  4.65it/s]"
          ]
        },
        {
          "output_type": "stream",
          "name": "stdout",
          "text": [
            "\n",
            "0: 480x640 1 cat, 167.2ms\n",
            "Speed: 4.7ms preprocess, 167.2ms inference, 1.3ms postprocess per image at shape (1, 3, 480, 640)\n"
          ]
        },
        {
          "output_type": "stream",
          "name": "stderr",
          "text": [
            "\rProcessing: other_cats:  11%|████▏                                 | 44/398 [00:16<01:14,  4.77it/s]"
          ]
        },
        {
          "output_type": "stream",
          "name": "stdout",
          "text": [
            "\n",
            "0: 480x640 (no detections), 167.6ms\n",
            "Speed: 3.9ms preprocess, 167.6ms inference, 1.1ms postprocess per image at shape (1, 3, 480, 640)\n",
            "No object detected, deleting /content/drive/MyDrive/datasets/dataset_fla_other/images/other_cats/460.jpg\n"
          ]
        },
        {
          "output_type": "stream",
          "name": "stderr",
          "text": [
            "\rProcessing: other_cats:  11%|████▎                                 | 45/398 [00:16<01:11,  4.92it/s]"
          ]
        },
        {
          "output_type": "stream",
          "name": "stdout",
          "text": [
            "\n",
            "0: 480x640 1 cat, 183.8ms\n",
            "Speed: 6.9ms preprocess, 183.8ms inference, 1.3ms postprocess per image at shape (1, 3, 480, 640)\n"
          ]
        },
        {
          "output_type": "stream",
          "name": "stderr",
          "text": [
            "\rProcessing: other_cats:  12%|████▍                                 | 46/398 [00:16<01:13,  4.81it/s]"
          ]
        },
        {
          "output_type": "stream",
          "name": "stdout",
          "text": [
            "\n",
            "0: 512x640 1 cat, 186.6ms\n",
            "Speed: 7.1ms preprocess, 186.6ms inference, 1.5ms postprocess per image at shape (1, 3, 512, 640)\n"
          ]
        },
        {
          "output_type": "stream",
          "name": "stderr",
          "text": [
            "\rProcessing: other_cats:  12%|████▍                                 | 47/398 [00:17<01:15,  4.66it/s]"
          ]
        },
        {
          "output_type": "stream",
          "name": "stdout",
          "text": [
            "\n",
            "0: 640x608 1 cat, 230.7ms\n",
            "Speed: 5.2ms preprocess, 230.7ms inference, 1.4ms postprocess per image at shape (1, 3, 640, 608)\n"
          ]
        },
        {
          "output_type": "stream",
          "name": "stderr",
          "text": [
            "\rProcessing: other_cats:  12%|████▌                                 | 48/398 [00:17<01:21,  4.32it/s]"
          ]
        },
        {
          "output_type": "stream",
          "name": "stdout",
          "text": [
            "\n",
            "0: 480x640 1 cat, 175.6ms\n",
            "Speed: 6.2ms preprocess, 175.6ms inference, 1.3ms postprocess per image at shape (1, 3, 480, 640)\n"
          ]
        },
        {
          "output_type": "stream",
          "name": "stderr",
          "text": [
            "\rProcessing: other_cats:  12%|████▋                                 | 49/398 [00:17<01:18,  4.46it/s]"
          ]
        },
        {
          "output_type": "stream",
          "name": "stdout",
          "text": [
            "\n",
            "0: 480x640 1 cat, 182.1ms\n",
            "Speed: 6.6ms preprocess, 182.1ms inference, 1.3ms postprocess per image at shape (1, 3, 480, 640)\n"
          ]
        },
        {
          "output_type": "stream",
          "name": "stderr",
          "text": [
            "\rProcessing: other_cats:  13%|████▊                                 | 50/398 [00:17<01:16,  4.52it/s]"
          ]
        },
        {
          "output_type": "stream",
          "name": "stdout",
          "text": [
            "\n",
            "0: 640x416 1 cat, 146.4ms\n",
            "Speed: 4.9ms preprocess, 146.4ms inference, 1.3ms postprocess per image at shape (1, 3, 640, 416)\n"
          ]
        },
        {
          "output_type": "stream",
          "name": "stderr",
          "text": [
            "\rProcessing: other_cats:  13%|████▊                                 | 51/398 [00:18<01:11,  4.83it/s]"
          ]
        },
        {
          "output_type": "stream",
          "name": "stdout",
          "text": [
            "\n",
            "0: 640x544 1 cat, 215.0ms\n",
            "Speed: 4.5ms preprocess, 215.0ms inference, 1.3ms postprocess per image at shape (1, 3, 640, 544)\n"
          ]
        },
        {
          "output_type": "stream",
          "name": "stderr",
          "text": [
            "\rProcessing: other_cats:  13%|████▉                                 | 52/398 [00:18<01:15,  4.58it/s]"
          ]
        },
        {
          "output_type": "stream",
          "name": "stdout",
          "text": [
            "\n",
            "0: 480x640 1 cat, 181.5ms\n",
            "Speed: 4.2ms preprocess, 181.5ms inference, 1.3ms postprocess per image at shape (1, 3, 480, 640)\n"
          ]
        },
        {
          "output_type": "stream",
          "name": "stderr",
          "text": [
            "\rProcessing: other_cats:  13%|█████                                 | 53/398 [00:18<01:14,  4.62it/s]"
          ]
        },
        {
          "output_type": "stream",
          "name": "stdout",
          "text": [
            "\n",
            "0: 576x640 1 cat, 206.8ms\n",
            "Speed: 6.5ms preprocess, 206.8ms inference, 1.3ms postprocess per image at shape (1, 3, 576, 640)\n"
          ]
        },
        {
          "output_type": "stream",
          "name": "stderr",
          "text": [
            "\rProcessing: other_cats:  14%|█████▏                                | 54/398 [00:18<01:17,  4.47it/s]"
          ]
        },
        {
          "output_type": "stream",
          "name": "stdout",
          "text": [
            "\n",
            "0: 640x448 1 cat, 172.8ms\n",
            "Speed: 4.2ms preprocess, 172.8ms inference, 1.2ms postprocess per image at shape (1, 3, 640, 448)\n"
          ]
        },
        {
          "output_type": "stream",
          "name": "stderr",
          "text": [
            "\rProcessing: other_cats:  14%|█████▎                                | 55/398 [00:18<01:14,  4.61it/s]"
          ]
        },
        {
          "output_type": "stream",
          "name": "stdout",
          "text": [
            "\n",
            "0: 480x640 1 cat, 165.9ms\n",
            "Speed: 4.2ms preprocess, 165.9ms inference, 1.3ms postprocess per image at shape (1, 3, 480, 640)\n"
          ]
        },
        {
          "output_type": "stream",
          "name": "stderr",
          "text": [
            "\rProcessing: other_cats:  14%|█████▎                                | 56/398 [00:19<01:12,  4.74it/s]"
          ]
        },
        {
          "output_type": "stream",
          "name": "stdout",
          "text": [
            "\n",
            "0: 480x640 1 cat, 181.8ms\n",
            "Speed: 7.3ms preprocess, 181.8ms inference, 1.4ms postprocess per image at shape (1, 3, 480, 640)\n"
          ]
        },
        {
          "output_type": "stream",
          "name": "stderr",
          "text": [
            "\rProcessing: other_cats:  14%|█████▍                                | 57/398 [00:19<01:12,  4.69it/s]"
          ]
        },
        {
          "output_type": "stream",
          "name": "stdout",
          "text": [
            "\n",
            "0: 448x640 1 cat, 159.5ms\n",
            "Speed: 6.9ms preprocess, 159.5ms inference, 1.2ms postprocess per image at shape (1, 3, 448, 640)\n"
          ]
        },
        {
          "output_type": "stream",
          "name": "stderr",
          "text": [
            "\rProcessing: other_cats:  15%|█████▌                                | 58/398 [00:19<01:10,  4.82it/s]"
          ]
        },
        {
          "output_type": "stream",
          "name": "stdout",
          "text": [
            "\n",
            "0: 480x640 1 cat, 175.0ms\n",
            "Speed: 6.5ms preprocess, 175.0ms inference, 1.4ms postprocess per image at shape (1, 3, 480, 640)\n"
          ]
        },
        {
          "output_type": "stream",
          "name": "stderr",
          "text": [
            "\rProcessing: other_cats:  15%|█████▋                                | 59/398 [00:19<01:10,  4.82it/s]"
          ]
        },
        {
          "output_type": "stream",
          "name": "stdout",
          "text": [
            "\n",
            "0: 480x640 1 cat, 181.6ms\n",
            "Speed: 6.8ms preprocess, 181.6ms inference, 1.3ms postprocess per image at shape (1, 3, 480, 640)\n"
          ]
        },
        {
          "output_type": "stream",
          "name": "stderr",
          "text": [
            "\rProcessing: other_cats:  15%|█████▋                                | 60/398 [00:19<01:10,  4.77it/s]"
          ]
        },
        {
          "output_type": "stream",
          "name": "stdout",
          "text": [
            "\n",
            "0: 480x640 1 cat, 168.5ms\n",
            "Speed: 6.5ms preprocess, 168.5ms inference, 1.3ms postprocess per image at shape (1, 3, 480, 640)\n"
          ]
        },
        {
          "output_type": "stream",
          "name": "stderr",
          "text": [
            "\rProcessing: other_cats:  15%|█████▊                                | 61/398 [00:20<01:09,  4.83it/s]"
          ]
        },
        {
          "output_type": "stream",
          "name": "stdout",
          "text": [
            "\n",
            "0: 608x640 1 cat, 249.4ms\n",
            "Speed: 8.6ms preprocess, 249.4ms inference, 1.3ms postprocess per image at shape (1, 3, 608, 640)\n"
          ]
        },
        {
          "output_type": "stream",
          "name": "stderr",
          "text": [
            "\rProcessing: other_cats:  16%|█████▉                                | 62/398 [00:20<01:18,  4.28it/s]"
          ]
        },
        {
          "output_type": "stream",
          "name": "stdout",
          "text": [
            "\n",
            "0: 256x640 1 cat, 108.0ms\n",
            "Speed: 2.4ms preprocess, 108.0ms inference, 1.1ms postprocess per image at shape (1, 3, 256, 640)\n"
          ]
        },
        {
          "output_type": "stream",
          "name": "stderr",
          "text": [
            "\rProcessing: other_cats:  16%|██████                                | 63/398 [00:20<01:10,  4.76it/s]"
          ]
        },
        {
          "output_type": "stream",
          "name": "stdout",
          "text": [
            "\n",
            "0: 512x640 1 cat, 276.7ms\n",
            "Speed: 5.6ms preprocess, 276.7ms inference, 1.7ms postprocess per image at shape (1, 3, 512, 640)\n"
          ]
        },
        {
          "output_type": "stream",
          "name": "stderr",
          "text": [
            "\rProcessing: other_cats:  16%|██████                                | 64/398 [00:20<01:20,  4.15it/s]"
          ]
        },
        {
          "output_type": "stream",
          "name": "stdout",
          "text": [
            "\n",
            "0: 480x640 1 cat, 280.8ms\n",
            "Speed: 4.4ms preprocess, 280.8ms inference, 1.6ms postprocess per image at shape (1, 3, 480, 640)\n"
          ]
        },
        {
          "output_type": "stream",
          "name": "stderr",
          "text": [
            "\rProcessing: other_cats:  16%|██████▏                               | 65/398 [00:21<01:27,  3.79it/s]"
          ]
        },
        {
          "output_type": "stream",
          "name": "stdout",
          "text": [
            "\n",
            "0: 512x640 1 cat, 307.1ms\n",
            "Speed: 6.4ms preprocess, 307.1ms inference, 1.6ms postprocess per image at shape (1, 3, 512, 640)\n"
          ]
        },
        {
          "output_type": "stream",
          "name": "stderr",
          "text": [
            "\rProcessing: other_cats:  17%|██████▎                               | 66/398 [00:21<01:35,  3.48it/s]"
          ]
        },
        {
          "output_type": "stream",
          "name": "stdout",
          "text": [
            "\n",
            "0: 576x640 1 cat, 326.1ms\n",
            "Speed: 4.7ms preprocess, 326.1ms inference, 1.5ms postprocess per image at shape (1, 3, 576, 640)\n"
          ]
        },
        {
          "output_type": "stream",
          "name": "stderr",
          "text": [
            "\rProcessing: other_cats:  17%|██████▍                               | 67/398 [00:21<01:43,  3.21it/s]"
          ]
        },
        {
          "output_type": "stream",
          "name": "stdout",
          "text": [
            "\n",
            "0: 608x640 (no detections), 352.4ms\n",
            "Speed: 4.7ms preprocess, 352.4ms inference, 3.5ms postprocess per image at shape (1, 3, 608, 640)\n"
          ]
        },
        {
          "output_type": "stream",
          "name": "stderr",
          "text": [
            "\rProcessing: other_cats:  17%|██████▍                               | 68/398 [00:22<01:49,  3.01it/s]"
          ]
        },
        {
          "output_type": "stream",
          "name": "stdout",
          "text": [
            "No object detected, deleting /content/drive/MyDrive/datasets/dataset_fla_other/images/other_cats/485.jpg\n",
            "\n",
            "0: 480x640 1 cat, 286.2ms\n",
            "Speed: 4.1ms preprocess, 286.2ms inference, 1.9ms postprocess per image at shape (1, 3, 480, 640)\n"
          ]
        },
        {
          "output_type": "stream",
          "name": "stderr",
          "text": [
            "\rProcessing: other_cats:  17%|██████▌                               | 69/398 [00:22<01:50,  2.98it/s]"
          ]
        },
        {
          "output_type": "stream",
          "name": "stdout",
          "text": [
            "\n",
            "0: 480x640 1 cat, 268.7ms\n",
            "Speed: 4.3ms preprocess, 268.7ms inference, 1.5ms postprocess per image at shape (1, 3, 480, 640)\n"
          ]
        },
        {
          "output_type": "stream",
          "name": "stderr",
          "text": [
            "\rProcessing: other_cats:  18%|██████▋                               | 70/398 [00:22<01:47,  3.05it/s]"
          ]
        },
        {
          "output_type": "stream",
          "name": "stdout",
          "text": [
            "\n",
            "0: 640x384 1 cat, 220.9ms\n",
            "Speed: 3.4ms preprocess, 220.9ms inference, 1.4ms postprocess per image at shape (1, 3, 640, 384)\n"
          ]
        },
        {
          "output_type": "stream",
          "name": "stderr",
          "text": [
            "\rProcessing: other_cats:  18%|██████▊                               | 71/398 [00:23<01:40,  3.25it/s]"
          ]
        },
        {
          "output_type": "stream",
          "name": "stdout",
          "text": [
            "\n",
            "0: 576x640 1 cat, 317.5ms\n",
            "Speed: 4.5ms preprocess, 317.5ms inference, 1.5ms postprocess per image at shape (1, 3, 576, 640)\n"
          ]
        },
        {
          "output_type": "stream",
          "name": "stderr",
          "text": [
            "\rProcessing: other_cats:  18%|██████▊                               | 72/398 [00:23<01:45,  3.09it/s]"
          ]
        },
        {
          "output_type": "stream",
          "name": "stdout",
          "text": [
            "\n",
            "0: 384x640 1 cat, 234.4ms\n",
            "Speed: 3.5ms preprocess, 234.4ms inference, 1.4ms postprocess per image at shape (1, 3, 384, 640)\n"
          ]
        },
        {
          "output_type": "stream",
          "name": "stderr",
          "text": [
            "\rProcessing: other_cats:  18%|██████▉                               | 73/398 [00:23<01:41,  3.19it/s]"
          ]
        },
        {
          "output_type": "stream",
          "name": "stdout",
          "text": [
            "\n",
            "0: 480x640 1 cat, 261.8ms\n",
            "Speed: 5.4ms preprocess, 261.8ms inference, 1.8ms postprocess per image at shape (1, 3, 480, 640)\n"
          ]
        },
        {
          "output_type": "stream",
          "name": "stderr",
          "text": [
            "\rProcessing: other_cats:  19%|███████                               | 74/398 [00:24<01:39,  3.25it/s]"
          ]
        },
        {
          "output_type": "stream",
          "name": "stdout",
          "text": [
            "\n",
            "0: 640x480 1 cat, 296.4ms\n",
            "Speed: 4.0ms preprocess, 296.4ms inference, 2.3ms postprocess per image at shape (1, 3, 640, 480)\n"
          ]
        },
        {
          "output_type": "stream",
          "name": "stderr",
          "text": [
            "\rProcessing: other_cats:  19%|███████▏                              | 75/398 [00:24<01:42,  3.14it/s]"
          ]
        },
        {
          "output_type": "stream",
          "name": "stdout",
          "text": [
            "\n",
            "0: 640x544 1 cat, 348.8ms\n",
            "Speed: 5.6ms preprocess, 348.8ms inference, 1.9ms postprocess per image at shape (1, 3, 640, 544)\n"
          ]
        },
        {
          "output_type": "stream",
          "name": "stderr",
          "text": [
            "\rProcessing: other_cats:  19%|███████▎                              | 76/398 [00:24<01:49,  2.93it/s]"
          ]
        },
        {
          "output_type": "stream",
          "name": "stdout",
          "text": [
            "\n",
            "0: 416x640 1 cat, 256.4ms\n",
            "Speed: 3.7ms preprocess, 256.4ms inference, 1.8ms postprocess per image at shape (1, 3, 416, 640)\n"
          ]
        },
        {
          "output_type": "stream",
          "name": "stderr",
          "text": [
            "\rProcessing: other_cats:  19%|███████▎                              | 77/398 [00:25<01:45,  3.04it/s]"
          ]
        },
        {
          "output_type": "stream",
          "name": "stdout",
          "text": [
            "\n",
            "0: 480x640 1 cat, 276.2ms\n",
            "Speed: 4.4ms preprocess, 276.2ms inference, 3.5ms postprocess per image at shape (1, 3, 480, 640)\n"
          ]
        },
        {
          "output_type": "stream",
          "name": "stderr",
          "text": [
            "\rProcessing: other_cats:  20%|███████▍                              | 78/398 [00:25<01:44,  3.06it/s]"
          ]
        },
        {
          "output_type": "stream",
          "name": "stdout",
          "text": [
            "\n",
            "0: 480x640 1 cat, 317.0ms\n",
            "Speed: 11.3ms preprocess, 317.0ms inference, 1.7ms postprocess per image at shape (1, 3, 480, 640)\n"
          ]
        },
        {
          "output_type": "stream",
          "name": "stderr",
          "text": [
            "\rProcessing: other_cats:  20%|███████▌                              | 79/398 [00:25<01:47,  2.96it/s]"
          ]
        },
        {
          "output_type": "stream",
          "name": "stdout",
          "text": [
            "\n",
            "0: 640x608 2 cats, 303.4ms\n",
            "Speed: 10.1ms preprocess, 303.4ms inference, 1.5ms postprocess per image at shape (1, 3, 640, 608)\n"
          ]
        },
        {
          "output_type": "stream",
          "name": "stderr",
          "text": [
            "\rProcessing: other_cats:  20%|███████▋                              | 80/398 [00:26<01:48,  2.93it/s]"
          ]
        },
        {
          "output_type": "stream",
          "name": "stdout",
          "text": [
            "\n",
            "0: 480x640 1 cat, 175.0ms\n",
            "Speed: 7.5ms preprocess, 175.0ms inference, 1.2ms postprocess per image at shape (1, 3, 480, 640)\n"
          ]
        },
        {
          "output_type": "stream",
          "name": "stderr",
          "text": [
            "\rProcessing: other_cats:  20%|███████▋                              | 81/398 [00:26<01:37,  3.25it/s]"
          ]
        },
        {
          "output_type": "stream",
          "name": "stdout",
          "text": [
            "\n",
            "0: 320x640 1 cat, 141.7ms\n",
            "Speed: 3.4ms preprocess, 141.7ms inference, 1.4ms postprocess per image at shape (1, 3, 320, 640)\n"
          ]
        },
        {
          "output_type": "stream",
          "name": "stderr",
          "text": [
            "\rProcessing: other_cats:  21%|███████▊                              | 82/398 [00:26<01:24,  3.75it/s]"
          ]
        },
        {
          "output_type": "stream",
          "name": "stdout",
          "text": [
            "\n",
            "0: 480x640 1 cat, 195.7ms\n",
            "Speed: 4.2ms preprocess, 195.7ms inference, 1.7ms postprocess per image at shape (1, 3, 480, 640)\n"
          ]
        },
        {
          "output_type": "stream",
          "name": "stderr",
          "text": [
            "\rProcessing: other_cats:  21%|███████▉                              | 83/398 [00:26<01:20,  3.91it/s]"
          ]
        },
        {
          "output_type": "stream",
          "name": "stdout",
          "text": [
            "\n",
            "0: 640x640 (no detections), 305.1ms\n",
            "Speed: 8.1ms preprocess, 305.1ms inference, 1.3ms postprocess per image at shape (1, 3, 640, 640)\n"
          ]
        },
        {
          "output_type": "stream",
          "name": "stderr",
          "text": [
            "\rProcessing: other_cats:  21%|████████                              | 84/398 [00:27<01:28,  3.56it/s]"
          ]
        },
        {
          "output_type": "stream",
          "name": "stdout",
          "text": [
            "No object detected, deleting /content/drive/MyDrive/datasets/dataset_fla_other/images/other_cats/502.jpg\n",
            "\n",
            "0: 608x640 1 cat, 283.7ms\n",
            "Speed: 12.8ms preprocess, 283.7ms inference, 1.4ms postprocess per image at shape (1, 3, 608, 640)\n"
          ]
        },
        {
          "output_type": "stream",
          "name": "stderr",
          "text": [
            "\rProcessing: other_cats:  21%|████████                              | 85/398 [00:27<01:32,  3.40it/s]"
          ]
        },
        {
          "output_type": "stream",
          "name": "stdout",
          "text": [
            "\n",
            "0: 480x640 1 cat, 183.8ms\n",
            "Speed: 6.3ms preprocess, 183.8ms inference, 1.1ms postprocess per image at shape (1, 3, 480, 640)\n"
          ]
        },
        {
          "output_type": "stream",
          "name": "stderr",
          "text": [
            "\rProcessing: other_cats:  22%|████████▏                             | 86/398 [00:27<01:25,  3.67it/s]"
          ]
        },
        {
          "output_type": "stream",
          "name": "stdout",
          "text": [
            "\n",
            "0: 480x640 1 cat, 169.3ms\n",
            "Speed: 6.6ms preprocess, 169.3ms inference, 1.2ms postprocess per image at shape (1, 3, 480, 640)\n"
          ]
        },
        {
          "output_type": "stream",
          "name": "stderr",
          "text": [
            "\rProcessing: other_cats:  22%|████████▎                             | 87/398 [00:27<01:18,  3.96it/s]"
          ]
        },
        {
          "output_type": "stream",
          "name": "stdout",
          "text": [
            "\n",
            "0: 448x640 1 cat, 159.9ms\n",
            "Speed: 7.2ms preprocess, 159.9ms inference, 1.1ms postprocess per image at shape (1, 3, 448, 640)\n"
          ]
        },
        {
          "output_type": "stream",
          "name": "stderr",
          "text": [
            "\rProcessing: other_cats:  22%|████████▍                             | 88/398 [00:28<01:12,  4.27it/s]"
          ]
        },
        {
          "output_type": "stream",
          "name": "stdout",
          "text": [
            "\n",
            "0: 480x640 1 cat, 175.2ms\n",
            "Speed: 6.9ms preprocess, 175.2ms inference, 1.1ms postprocess per image at shape (1, 3, 480, 640)\n"
          ]
        },
        {
          "output_type": "stream",
          "name": "stderr",
          "text": [
            "\rProcessing: other_cats:  22%|████████▍                             | 89/398 [00:28<01:09,  4.42it/s]"
          ]
        },
        {
          "output_type": "stream",
          "name": "stdout",
          "text": [
            "\n",
            "0: 448x640 1 cat, 161.9ms\n",
            "Speed: 5.8ms preprocess, 161.9ms inference, 1.1ms postprocess per image at shape (1, 3, 448, 640)\n"
          ]
        },
        {
          "output_type": "stream",
          "name": "stderr",
          "text": [
            "\rProcessing: other_cats:  23%|████████▌                             | 90/398 [00:28<01:06,  4.64it/s]"
          ]
        },
        {
          "output_type": "stream",
          "name": "stdout",
          "text": [
            "\n",
            "0: 640x608 1 cat, 240.9ms\n",
            "Speed: 9.7ms preprocess, 240.9ms inference, 1.4ms postprocess per image at shape (1, 3, 640, 608)\n"
          ]
        },
        {
          "output_type": "stream",
          "name": "stderr",
          "text": [
            "\rProcessing: other_cats:  23%|████████▋                             | 91/398 [00:28<01:13,  4.16it/s]"
          ]
        },
        {
          "output_type": "stream",
          "name": "stdout",
          "text": [
            "\n",
            "0: 480x640 1 cat, 166.9ms\n",
            "Speed: 8.6ms preprocess, 166.9ms inference, 1.2ms postprocess per image at shape (1, 3, 480, 640)\n"
          ]
        },
        {
          "output_type": "stream",
          "name": "stderr",
          "text": [
            "\rProcessing: other_cats:  23%|████████▊                             | 92/398 [00:29<01:10,  4.35it/s]"
          ]
        },
        {
          "output_type": "stream",
          "name": "stdout",
          "text": [
            "\n",
            "0: 512x640 1 cat, 188.2ms\n",
            "Speed: 7.6ms preprocess, 188.2ms inference, 1.2ms postprocess per image at shape (1, 3, 512, 640)\n"
          ]
        },
        {
          "output_type": "stream",
          "name": "stderr",
          "text": [
            "\rProcessing: other_cats:  23%|████████▉                             | 93/398 [00:29<01:09,  4.40it/s]"
          ]
        },
        {
          "output_type": "stream",
          "name": "stdout",
          "text": [
            "\n",
            "0: 512x640 1 cat, 225.8ms\n",
            "Speed: 5.3ms preprocess, 225.8ms inference, 1.8ms postprocess per image at shape (1, 3, 512, 640)\n"
          ]
        },
        {
          "output_type": "stream",
          "name": "stderr",
          "text": [
            "\rProcessing: other_cats:  24%|████████▉                             | 94/398 [00:29<01:12,  4.21it/s]"
          ]
        },
        {
          "output_type": "stream",
          "name": "stdout",
          "text": [
            "\n",
            "0: 320x640 1 cat, 248.6ms\n",
            "Speed: 2.9ms preprocess, 248.6ms inference, 1.7ms postprocess per image at shape (1, 3, 320, 640)\n"
          ]
        },
        {
          "output_type": "stream",
          "name": "stderr",
          "text": [
            "\rProcessing: other_cats:  24%|█████████                             | 95/398 [00:29<01:17,  3.93it/s]"
          ]
        },
        {
          "output_type": "stream",
          "name": "stdout",
          "text": [
            "\n",
            "0: 640x576 1 cat, 204.2ms\n",
            "Speed: 9.1ms preprocess, 204.2ms inference, 1.3ms postprocess per image at shape (1, 3, 640, 576)\n"
          ]
        },
        {
          "output_type": "stream",
          "name": "stderr",
          "text": [
            "\rProcessing: other_cats:  24%|█████████▏                            | 96/398 [00:30<01:17,  3.92it/s]"
          ]
        },
        {
          "output_type": "stream",
          "name": "stdout",
          "text": [
            "\n",
            "0: 544x640 1 cat, 203.7ms\n",
            "Speed: 6.3ms preprocess, 203.7ms inference, 1.3ms postprocess per image at shape (1, 3, 544, 640)\n"
          ]
        },
        {
          "output_type": "stream",
          "name": "stderr",
          "text": [
            "\rProcessing: other_cats:  24%|█████████▎                            | 97/398 [00:30<01:14,  4.02it/s]"
          ]
        },
        {
          "output_type": "stream",
          "name": "stdout",
          "text": [
            "\n",
            "0: 640x480 1 cat, 172.6ms\n",
            "Speed: 4.4ms preprocess, 172.6ms inference, 1.4ms postprocess per image at shape (1, 3, 640, 480)\n"
          ]
        },
        {
          "output_type": "stream",
          "name": "stderr",
          "text": [
            "\rProcessing: other_cats:  25%|█████████▎                            | 98/398 [00:30<01:10,  4.24it/s]"
          ]
        },
        {
          "output_type": "stream",
          "name": "stdout",
          "text": [
            "\n",
            "0: 576x640 1 cat, 237.4ms\n",
            "Speed: 7.8ms preprocess, 237.4ms inference, 1.8ms postprocess per image at shape (1, 3, 576, 640)\n"
          ]
        },
        {
          "output_type": "stream",
          "name": "stderr",
          "text": [
            "\rProcessing: other_cats:  25%|█████████▍                            | 99/398 [00:30<01:14,  4.02it/s]"
          ]
        },
        {
          "output_type": "stream",
          "name": "stdout",
          "text": [
            "\n",
            "0: 576x640 (no detections), 213.0ms\n",
            "Speed: 5.1ms preprocess, 213.0ms inference, 0.9ms postprocess per image at shape (1, 3, 576, 640)\n"
          ]
        },
        {
          "output_type": "stream",
          "name": "stderr",
          "text": [
            "\rProcessing: other_cats:  25%|█████████▎                           | 100/398 [00:31<01:13,  4.07it/s]"
          ]
        },
        {
          "output_type": "stream",
          "name": "stdout",
          "text": [
            "No object detected, deleting /content/drive/MyDrive/datasets/dataset_fla_other/images/other_cats/520.jpg\n",
            "\n",
            "0: 480x640 1 cat, 169.3ms\n",
            "Speed: 4.9ms preprocess, 169.3ms inference, 1.2ms postprocess per image at shape (1, 3, 480, 640)\n"
          ]
        },
        {
          "output_type": "stream",
          "name": "stderr",
          "text": [
            "\rProcessing: other_cats:  25%|█████████▍                           | 101/398 [00:31<01:10,  4.20it/s]"
          ]
        },
        {
          "output_type": "stream",
          "name": "stdout",
          "text": [
            "\n",
            "0: 640x416 1 cat, 154.2ms\n",
            "Speed: 5.8ms preprocess, 154.2ms inference, 1.2ms postprocess per image at shape (1, 3, 640, 416)\n"
          ]
        },
        {
          "output_type": "stream",
          "name": "stderr",
          "text": [
            "\rProcessing: other_cats:  26%|█████████▍                           | 102/398 [00:31<01:05,  4.49it/s]"
          ]
        },
        {
          "output_type": "stream",
          "name": "stdout",
          "text": [
            "\n",
            "0: 480x640 1 cat, 177.9ms\n",
            "Speed: 6.8ms preprocess, 177.9ms inference, 1.2ms postprocess per image at shape (1, 3, 480, 640)\n"
          ]
        },
        {
          "output_type": "stream",
          "name": "stderr",
          "text": [
            "\rProcessing: other_cats:  26%|█████████▌                           | 103/398 [00:31<01:04,  4.56it/s]"
          ]
        },
        {
          "output_type": "stream",
          "name": "stdout",
          "text": [
            "\n",
            "0: 640x640 2 cats, 254.2ms\n",
            "Speed: 8.1ms preprocess, 254.2ms inference, 1.3ms postprocess per image at shape (1, 3, 640, 640)\n"
          ]
        },
        {
          "output_type": "stream",
          "name": "stderr",
          "text": [
            "\rProcessing: other_cats:  26%|█████████▋                           | 104/398 [00:31<01:11,  4.13it/s]"
          ]
        },
        {
          "output_type": "stream",
          "name": "stdout",
          "text": [
            "\n",
            "0: 640x640 1 cat, 245.3ms\n",
            "Speed: 5.5ms preprocess, 245.3ms inference, 1.3ms postprocess per image at shape (1, 3, 640, 640)\n"
          ]
        },
        {
          "output_type": "stream",
          "name": "stderr",
          "text": [
            "\rProcessing: other_cats:  26%|█████████▊                           | 105/398 [00:32<01:14,  3.92it/s]"
          ]
        },
        {
          "output_type": "stream",
          "name": "stdout",
          "text": [
            "\n",
            "0: 640x640 1 cat, 245.2ms\n",
            "Speed: 8.9ms preprocess, 245.2ms inference, 1.3ms postprocess per image at shape (1, 3, 640, 640)\n"
          ]
        },
        {
          "output_type": "stream",
          "name": "stderr",
          "text": [
            "\rProcessing: other_cats:  27%|█████████▊                           | 106/398 [00:32<01:16,  3.79it/s]"
          ]
        },
        {
          "output_type": "stream",
          "name": "stdout",
          "text": [
            "\n",
            "0: 640x608 1 cat, 212.0ms\n",
            "Speed: 7.0ms preprocess, 212.0ms inference, 1.8ms postprocess per image at shape (1, 3, 640, 608)\n"
          ]
        },
        {
          "output_type": "stream",
          "name": "stderr",
          "text": [
            "\rProcessing: other_cats:  27%|█████████▉                           | 107/398 [00:32<01:15,  3.86it/s]"
          ]
        },
        {
          "output_type": "stream",
          "name": "stdout",
          "text": [
            "\n",
            "0: 640x352 1 cat, 150.1ms\n",
            "Speed: 10.1ms preprocess, 150.1ms inference, 1.2ms postprocess per image at shape (1, 3, 640, 352)\n"
          ]
        },
        {
          "output_type": "stream",
          "name": "stderr",
          "text": [
            "\rProcessing: other_cats:  27%|██████████                           | 108/398 [00:33<01:10,  4.09it/s]"
          ]
        },
        {
          "output_type": "stream",
          "name": "stdout",
          "text": [
            "\n",
            "0: 480x640 1 cat, 173.1ms\n",
            "Speed: 5.1ms preprocess, 173.1ms inference, 1.8ms postprocess per image at shape (1, 3, 480, 640)\n"
          ]
        },
        {
          "output_type": "stream",
          "name": "stderr",
          "text": [
            "\rProcessing: other_cats:  27%|██████████▏                          | 109/398 [00:33<01:08,  4.23it/s]"
          ]
        },
        {
          "output_type": "stream",
          "name": "stdout",
          "text": [
            "\n",
            "0: 640x512 1 cat, 217.2ms\n",
            "Speed: 7.2ms preprocess, 217.2ms inference, 1.2ms postprocess per image at shape (1, 3, 640, 512)\n"
          ]
        },
        {
          "output_type": "stream",
          "name": "stderr",
          "text": [
            "\rProcessing: other_cats:  28%|██████████▏                          | 110/398 [00:33<01:10,  4.06it/s]"
          ]
        },
        {
          "output_type": "stream",
          "name": "stdout",
          "text": [
            "\n",
            "0: 640x512 1 cat, 186.0ms\n",
            "Speed: 5.1ms preprocess, 186.0ms inference, 1.3ms postprocess per image at shape (1, 3, 640, 512)\n"
          ]
        },
        {
          "output_type": "stream",
          "name": "stderr",
          "text": [
            "\rProcessing: other_cats:  28%|██████████▎                          | 111/398 [00:33<01:07,  4.23it/s]"
          ]
        },
        {
          "output_type": "stream",
          "name": "stdout",
          "text": [
            "\n",
            "0: 384x640 1 cat, 192.0ms\n",
            "Speed: 3.4ms preprocess, 192.0ms inference, 1.7ms postprocess per image at shape (1, 3, 384, 640)\n"
          ]
        },
        {
          "output_type": "stream",
          "name": "stderr",
          "text": [
            "\rProcessing: other_cats:  28%|██████████▍                          | 112/398 [00:33<01:06,  4.33it/s]"
          ]
        },
        {
          "output_type": "stream",
          "name": "stdout",
          "text": [
            "\n",
            "0: 480x640 1 cat, 170.7ms\n",
            "Speed: 3.7ms preprocess, 170.7ms inference, 1.2ms postprocess per image at shape (1, 3, 480, 640)\n"
          ]
        },
        {
          "output_type": "stream",
          "name": "stderr",
          "text": [
            "\rProcessing: other_cats:  28%|██████████▌                          | 113/398 [00:34<01:03,  4.50it/s]"
          ]
        },
        {
          "output_type": "stream",
          "name": "stdout",
          "text": [
            "\n",
            "0: 576x640 3 cats, 210.6ms\n",
            "Speed: 7.0ms preprocess, 210.6ms inference, 1.3ms postprocess per image at shape (1, 3, 576, 640)\n"
          ]
        },
        {
          "output_type": "stream",
          "name": "stderr",
          "text": [
            "\rProcessing: other_cats:  29%|██████████▌                          | 114/398 [00:34<01:06,  4.27it/s]"
          ]
        },
        {
          "output_type": "stream",
          "name": "stdout",
          "text": [
            "\n",
            "0: 448x640 1 cat, 154.2ms\n",
            "Speed: 4.5ms preprocess, 154.2ms inference, 1.3ms postprocess per image at shape (1, 3, 448, 640)\n"
          ]
        },
        {
          "output_type": "stream",
          "name": "stderr",
          "text": [
            "\rProcessing: other_cats:  29%|██████████▋                          | 115/398 [00:34<01:02,  4.56it/s]"
          ]
        },
        {
          "output_type": "stream",
          "name": "stdout",
          "text": [
            "\n",
            "0: 640x640 1 cat, 238.7ms\n",
            "Speed: 5.1ms preprocess, 238.7ms inference, 1.3ms postprocess per image at shape (1, 3, 640, 640)\n"
          ]
        },
        {
          "output_type": "stream",
          "name": "stderr",
          "text": [
            "\rProcessing: other_cats:  29%|██████████▊                          | 116/398 [00:34<01:06,  4.27it/s]"
          ]
        },
        {
          "output_type": "stream",
          "name": "stdout",
          "text": [
            "\n",
            "0: 384x640 (no detections), 162.9ms\n",
            "Speed: 3.5ms preprocess, 162.9ms inference, 0.7ms postprocess per image at shape (1, 3, 384, 640)\n"
          ]
        },
        {
          "output_type": "stream",
          "name": "stderr",
          "text": [
            "\rProcessing: other_cats:  29%|██████████▉                          | 117/398 [00:35<01:01,  4.56it/s]"
          ]
        },
        {
          "output_type": "stream",
          "name": "stdout",
          "text": [
            "No object detected, deleting /content/drive/MyDrive/datasets/dataset_fla_other/images/other_cats/539.jpg\n",
            "\n",
            "0: 480x640 1 cat, 194.1ms\n",
            "Speed: 4.6ms preprocess, 194.1ms inference, 1.4ms postprocess per image at shape (1, 3, 480, 640)\n"
          ]
        },
        {
          "output_type": "stream",
          "name": "stderr",
          "text": [
            "\rProcessing: other_cats:  30%|██████████▉                          | 118/398 [00:35<01:01,  4.52it/s]"
          ]
        },
        {
          "output_type": "stream",
          "name": "stdout",
          "text": [
            "\n",
            "0: 416x640 1 cat, 179.3ms\n",
            "Speed: 6.0ms preprocess, 179.3ms inference, 1.3ms postprocess per image at shape (1, 3, 416, 640)\n"
          ]
        },
        {
          "output_type": "stream",
          "name": "stderr",
          "text": [
            "\rProcessing: other_cats:  30%|███████████                          | 119/398 [00:35<01:00,  4.59it/s]"
          ]
        },
        {
          "output_type": "stream",
          "name": "stdout",
          "text": [
            "\n",
            "0: 544x640 1 cat, 203.3ms\n",
            "Speed: 7.4ms preprocess, 203.3ms inference, 1.3ms postprocess per image at shape (1, 3, 544, 640)\n"
          ]
        },
        {
          "output_type": "stream",
          "name": "stderr",
          "text": [
            "\rProcessing: other_cats:  30%|███████████▏                         | 120/398 [00:35<01:01,  4.49it/s]"
          ]
        },
        {
          "output_type": "stream",
          "name": "stdout",
          "text": [
            "\n",
            "0: 640x480 1 cat, 190.7ms\n",
            "Speed: 4.2ms preprocess, 190.7ms inference, 1.2ms postprocess per image at shape (1, 3, 640, 480)\n"
          ]
        },
        {
          "output_type": "stream",
          "name": "stderr",
          "text": [
            "\rProcessing: other_cats:  30%|███████████▏                         | 121/398 [00:35<01:03,  4.40it/s]"
          ]
        },
        {
          "output_type": "stream",
          "name": "stdout",
          "text": [
            "\n",
            "0: 512x640 1 cat, 251.4ms\n",
            "Speed: 7.8ms preprocess, 251.4ms inference, 2.2ms postprocess per image at shape (1, 3, 512, 640)\n"
          ]
        },
        {
          "output_type": "stream",
          "name": "stderr",
          "text": [
            "\rProcessing: other_cats:  31%|███████████▎                         | 122/398 [00:36<01:08,  4.04it/s]"
          ]
        },
        {
          "output_type": "stream",
          "name": "stdout",
          "text": [
            "\n",
            "0: 480x640 1 cat, 270.5ms\n",
            "Speed: 4.1ms preprocess, 270.5ms inference, 2.3ms postprocess per image at shape (1, 3, 480, 640)\n"
          ]
        },
        {
          "output_type": "stream",
          "name": "stderr",
          "text": [
            "\rProcessing: other_cats:  31%|███████████▍                         | 123/398 [00:36<01:12,  3.77it/s]"
          ]
        },
        {
          "output_type": "stream",
          "name": "stdout",
          "text": [
            "\n",
            "0: 480x640 1 cat, 271.6ms\n",
            "Speed: 6.3ms preprocess, 271.6ms inference, 1.4ms postprocess per image at shape (1, 3, 480, 640)\n"
          ]
        },
        {
          "output_type": "stream",
          "name": "stderr",
          "text": [
            "\rProcessing: other_cats:  31%|███████████▌                         | 124/398 [00:36<01:16,  3.56it/s]"
          ]
        },
        {
          "output_type": "stream",
          "name": "stdout",
          "text": [
            "\n",
            "0: 480x640 1 cat, 271.9ms\n",
            "Speed: 6.5ms preprocess, 271.9ms inference, 1.4ms postprocess per image at shape (1, 3, 480, 640)\n"
          ]
        },
        {
          "output_type": "stream",
          "name": "stderr",
          "text": [
            "\rProcessing: other_cats:  31%|███████████▌                         | 125/398 [00:37<01:19,  3.44it/s]"
          ]
        },
        {
          "output_type": "stream",
          "name": "stdout",
          "text": [
            "\n",
            "0: 640x544 1 cat, 303.4ms\n",
            "Speed: 7.2ms preprocess, 303.4ms inference, 1.5ms postprocess per image at shape (1, 3, 640, 544)\n"
          ]
        },
        {
          "output_type": "stream",
          "name": "stderr",
          "text": [
            "\rProcessing: other_cats:  32%|███████████▋                         | 126/398 [00:37<01:23,  3.25it/s]"
          ]
        },
        {
          "output_type": "stream",
          "name": "stdout",
          "text": [
            "\n",
            "0: 480x640 1 cat, 270.8ms\n",
            "Speed: 4.4ms preprocess, 270.8ms inference, 2.0ms postprocess per image at shape (1, 3, 480, 640)\n"
          ]
        },
        {
          "output_type": "stream",
          "name": "stderr",
          "text": [
            "\rProcessing: other_cats:  32%|███████████▊                         | 127/398 [00:37<01:23,  3.23it/s]"
          ]
        },
        {
          "output_type": "stream",
          "name": "stdout",
          "text": [
            "\n",
            "0: 576x640 1 cat, 334.0ms\n",
            "Speed: 9.7ms preprocess, 334.0ms inference, 1.9ms postprocess per image at shape (1, 3, 576, 640)\n"
          ]
        },
        {
          "output_type": "stream",
          "name": "stderr",
          "text": [
            "\rProcessing: other_cats:  32%|███████████▉                         | 128/398 [00:38<01:30,  2.98it/s]"
          ]
        },
        {
          "output_type": "stream",
          "name": "stdout",
          "text": [
            "\n",
            "0: 480x640 1 cat, 258.8ms\n",
            "Speed: 4.1ms preprocess, 258.8ms inference, 1.5ms postprocess per image at shape (1, 3, 480, 640)\n"
          ]
        },
        {
          "output_type": "stream",
          "name": "stderr",
          "text": [
            "\rProcessing: other_cats:  32%|███████████▉                         | 129/398 [00:38<01:27,  3.07it/s]"
          ]
        },
        {
          "output_type": "stream",
          "name": "stdout",
          "text": [
            "\n",
            "0: 608x640 1 cat, 343.4ms\n",
            "Speed: 7.9ms preprocess, 343.4ms inference, 1.7ms postprocess per image at shape (1, 3, 608, 640)\n"
          ]
        },
        {
          "output_type": "stream",
          "name": "stderr",
          "text": [
            "\rProcessing: other_cats:  33%|████████████                         | 130/398 [00:38<01:32,  2.90it/s]"
          ]
        },
        {
          "output_type": "stream",
          "name": "stdout",
          "text": [
            "\n",
            "0: 448x640 2 cats, 251.4ms\n",
            "Speed: 6.0ms preprocess, 251.4ms inference, 1.6ms postprocess per image at shape (1, 3, 448, 640)\n"
          ]
        },
        {
          "output_type": "stream",
          "name": "stderr",
          "text": [
            "\rProcessing: other_cats:  33%|████████████▏                        | 131/398 [00:39<01:28,  3.01it/s]"
          ]
        },
        {
          "output_type": "stream",
          "name": "stdout",
          "text": [
            "\n",
            "0: 640x480 1 cat, 274.1ms\n",
            "Speed: 7.0ms preprocess, 274.1ms inference, 1.8ms postprocess per image at shape (1, 3, 640, 480)\n"
          ]
        },
        {
          "output_type": "stream",
          "name": "stderr",
          "text": [
            "\rProcessing: other_cats:  33%|████████████▎                        | 132/398 [00:39<01:27,  3.06it/s]"
          ]
        },
        {
          "output_type": "stream",
          "name": "stdout",
          "text": [
            "\n",
            "0: 480x640 2 cats, 280.6ms\n",
            "Speed: 6.6ms preprocess, 280.6ms inference, 1.5ms postprocess per image at shape (1, 3, 480, 640)\n"
          ]
        },
        {
          "output_type": "stream",
          "name": "stderr",
          "text": [
            "\rProcessing: other_cats:  33%|████████████▎                        | 133/398 [00:39<01:26,  3.05it/s]"
          ]
        },
        {
          "output_type": "stream",
          "name": "stdout",
          "text": [
            "\n",
            "0: 640x576 1 cat, 374.0ms\n",
            "Speed: 8.7ms preprocess, 374.0ms inference, 1.8ms postprocess per image at shape (1, 3, 640, 576)\n"
          ]
        },
        {
          "output_type": "stream",
          "name": "stderr",
          "text": [
            "\rProcessing: other_cats:  34%|████████████▍                        | 134/398 [00:40<01:32,  2.84it/s]"
          ]
        },
        {
          "output_type": "stream",
          "name": "stdout",
          "text": [
            "\n",
            "0: 352x640 1 cat, 218.7ms\n",
            "Speed: 5.0ms preprocess, 218.7ms inference, 1.7ms postprocess per image at shape (1, 3, 352, 640)\n"
          ]
        },
        {
          "output_type": "stream",
          "name": "stderr",
          "text": [
            "\rProcessing: other_cats:  34%|████████████▌                        | 135/398 [00:40<01:24,  3.11it/s]"
          ]
        },
        {
          "output_type": "stream",
          "name": "stdout",
          "text": [
            "\n",
            "0: 512x640 1 cat, 307.0ms\n",
            "Speed: 4.4ms preprocess, 307.0ms inference, 1.8ms postprocess per image at shape (1, 3, 512, 640)\n"
          ]
        },
        {
          "output_type": "stream",
          "name": "stderr",
          "text": [
            "\rProcessing: other_cats:  34%|████████████▋                        | 136/398 [00:40<01:27,  2.99it/s]"
          ]
        },
        {
          "output_type": "stream",
          "name": "stdout",
          "text": [
            "\n",
            "0: 512x640 1 cat, 307.6ms\n",
            "Speed: 4.5ms preprocess, 307.6ms inference, 1.9ms postprocess per image at shape (1, 3, 512, 640)\n"
          ]
        },
        {
          "output_type": "stream",
          "name": "stderr",
          "text": [
            "\rProcessing: other_cats:  34%|████████████▋                        | 137/398 [00:41<01:28,  2.95it/s]"
          ]
        },
        {
          "output_type": "stream",
          "name": "stdout",
          "text": [
            "\n",
            "0: 480x640 1 cat, 291.9ms\n",
            "Speed: 4.2ms preprocess, 291.9ms inference, 1.6ms postprocess per image at shape (1, 3, 480, 640)\n"
          ]
        },
        {
          "output_type": "stream",
          "name": "stderr",
          "text": [
            "\rProcessing: other_cats:  35%|████████████▊                        | 138/398 [00:41<01:28,  2.94it/s]"
          ]
        },
        {
          "output_type": "stream",
          "name": "stdout",
          "text": [
            "\n",
            "0: 640x480 1 cat, 172.1ms\n",
            "Speed: 6.2ms preprocess, 172.1ms inference, 1.2ms postprocess per image at shape (1, 3, 640, 480)\n"
          ]
        },
        {
          "output_type": "stream",
          "name": "stderr",
          "text": [
            "\rProcessing: other_cats:  35%|████████████▉                        | 139/398 [00:41<01:17,  3.33it/s]"
          ]
        },
        {
          "output_type": "stream",
          "name": "stdout",
          "text": [
            "\n",
            "0: 640x640 1 cat, 310.9ms\n",
            "Speed: 8.2ms preprocess, 310.9ms inference, 1.8ms postprocess per image at shape (1, 3, 640, 640)\n"
          ]
        },
        {
          "output_type": "stream",
          "name": "stderr",
          "text": [
            "\rProcessing: other_cats:  35%|█████████████                        | 140/398 [00:42<01:21,  3.17it/s]"
          ]
        },
        {
          "output_type": "stream",
          "name": "stdout",
          "text": [
            "\n",
            "0: 480x640 2 cats, 262.5ms\n",
            "Speed: 7.0ms preprocess, 262.5ms inference, 1.6ms postprocess per image at shape (1, 3, 480, 640)\n"
          ]
        },
        {
          "output_type": "stream",
          "name": "stderr",
          "text": [
            "\rProcessing: other_cats:  35%|█████████████                        | 141/398 [00:42<01:20,  3.17it/s]"
          ]
        },
        {
          "output_type": "stream",
          "name": "stdout",
          "text": [
            "\n",
            "0: 480x640 1 cat, 191.8ms\n",
            "Speed: 6.3ms preprocess, 191.8ms inference, 1.2ms postprocess per image at shape (1, 3, 480, 640)\n"
          ]
        },
        {
          "output_type": "stream",
          "name": "stderr",
          "text": [
            "\rProcessing: other_cats:  36%|█████████████▏                       | 142/398 [00:42<01:14,  3.46it/s]"
          ]
        },
        {
          "output_type": "stream",
          "name": "stdout",
          "text": [
            "\n",
            "0: 640x640 1 cat, 255.9ms\n",
            "Speed: 8.8ms preprocess, 255.9ms inference, 1.3ms postprocess per image at shape (1, 3, 640, 640)\n"
          ]
        },
        {
          "output_type": "stream",
          "name": "stderr",
          "text": [
            "\rProcessing: other_cats:  36%|█████████████▎                       | 143/398 [00:42<01:13,  3.46it/s]"
          ]
        },
        {
          "output_type": "stream",
          "name": "stdout",
          "text": [
            "\n",
            "0: 448x640 1 cat, 167.2ms\n",
            "Speed: 4.1ms preprocess, 167.2ms inference, 1.2ms postprocess per image at shape (1, 3, 448, 640)\n"
          ]
        },
        {
          "output_type": "stream",
          "name": "stderr",
          "text": [
            "\rProcessing: other_cats:  36%|█████████████▍                       | 144/398 [00:43<01:06,  3.83it/s]"
          ]
        },
        {
          "output_type": "stream",
          "name": "stdout",
          "text": [
            "\n",
            "0: 448x640 1 cat, 160.5ms\n",
            "Speed: 4.3ms preprocess, 160.5ms inference, 1.2ms postprocess per image at shape (1, 3, 448, 640)\n"
          ]
        },
        {
          "output_type": "stream",
          "name": "stderr",
          "text": [
            "\rProcessing: other_cats:  36%|█████████████▍                       | 145/398 [00:43<01:02,  4.07it/s]"
          ]
        },
        {
          "output_type": "stream",
          "name": "stdout",
          "text": [
            "\n",
            "0: 512x640 1 cat, 200.1ms\n",
            "Speed: 9.5ms preprocess, 200.1ms inference, 1.3ms postprocess per image at shape (1, 3, 512, 640)\n"
          ]
        },
        {
          "output_type": "stream",
          "name": "stderr",
          "text": [
            "\rProcessing: other_cats:  37%|█████████████▌                       | 146/398 [00:43<01:01,  4.12it/s]"
          ]
        },
        {
          "output_type": "stream",
          "name": "stdout",
          "text": [
            "\n",
            "0: 480x640 1 cat, 177.3ms\n",
            "Speed: 4.5ms preprocess, 177.3ms inference, 1.3ms postprocess per image at shape (1, 3, 480, 640)\n"
          ]
        },
        {
          "output_type": "stream",
          "name": "stderr",
          "text": [
            "\rProcessing: other_cats:  37%|█████████████▋                       | 147/398 [00:43<00:58,  4.27it/s]"
          ]
        },
        {
          "output_type": "stream",
          "name": "stdout",
          "text": [
            "\n",
            "0: 640x448 (no detections), 178.3ms\n",
            "Speed: 6.3ms preprocess, 178.3ms inference, 0.7ms postprocess per image at shape (1, 3, 640, 448)\n"
          ]
        },
        {
          "output_type": "stream",
          "name": "stderr",
          "text": [
            "\rProcessing: other_cats:  37%|█████████████▊                       | 148/398 [00:44<00:56,  4.44it/s]"
          ]
        },
        {
          "output_type": "stream",
          "name": "stdout",
          "text": [
            "No object detected, deleting /content/drive/MyDrive/datasets/dataset_fla_other/images/other_cats/575.jpg\n",
            "\n",
            "0: 480x640 1 cat, 177.8ms\n",
            "Speed: 6.6ms preprocess, 177.8ms inference, 1.3ms postprocess per image at shape (1, 3, 480, 640)\n"
          ]
        },
        {
          "output_type": "stream",
          "name": "stderr",
          "text": [
            "\rProcessing: other_cats:  37%|█████████████▊                       | 149/398 [00:44<00:55,  4.53it/s]"
          ]
        },
        {
          "output_type": "stream",
          "name": "stdout",
          "text": [
            "\n",
            "0: 640x608 (no detections), 247.2ms\n",
            "Speed: 8.6ms preprocess, 247.2ms inference, 1.0ms postprocess per image at shape (1, 3, 640, 608)\n"
          ]
        },
        {
          "output_type": "stream",
          "name": "stderr",
          "text": [
            "\rProcessing: other_cats:  38%|█████████████▉                       | 150/398 [00:44<00:58,  4.21it/s]"
          ]
        },
        {
          "output_type": "stream",
          "name": "stdout",
          "text": [
            "No object detected, deleting /content/drive/MyDrive/datasets/dataset_fla_other/images/other_cats/573.jpg\n",
            "\n",
            "0: 480x640 1 cat, 172.7ms\n",
            "Speed: 6.6ms preprocess, 172.7ms inference, 1.2ms postprocess per image at shape (1, 3, 480, 640)\n"
          ]
        },
        {
          "output_type": "stream",
          "name": "stderr",
          "text": [
            "\rProcessing: other_cats:  38%|██████████████                       | 151/398 [00:44<00:56,  4.36it/s]"
          ]
        },
        {
          "output_type": "stream",
          "name": "stdout",
          "text": [
            "\n",
            "0: 416x640 1 cat, 163.0ms\n",
            "Speed: 7.1ms preprocess, 163.0ms inference, 1.3ms postprocess per image at shape (1, 3, 416, 640)\n"
          ]
        },
        {
          "output_type": "stream",
          "name": "stderr",
          "text": [
            "\rProcessing: other_cats:  38%|██████████████▏                      | 152/398 [00:44<00:53,  4.56it/s]"
          ]
        },
        {
          "output_type": "stream",
          "name": "stdout",
          "text": [
            "\n",
            "0: 640x544 1 cat, 195.6ms\n",
            "Speed: 7.5ms preprocess, 195.6ms inference, 1.3ms postprocess per image at shape (1, 3, 640, 544)\n"
          ]
        },
        {
          "output_type": "stream",
          "name": "stderr",
          "text": [
            "\rProcessing: other_cats:  38%|██████████████▏                      | 153/398 [00:45<00:54,  4.51it/s]"
          ]
        },
        {
          "output_type": "stream",
          "name": "stdout",
          "text": [
            "\n",
            "0: 512x640 (no detections), 193.0ms\n",
            "Speed: 4.3ms preprocess, 193.0ms inference, 1.0ms postprocess per image at shape (1, 3, 512, 640)\n"
          ]
        },
        {
          "output_type": "stream",
          "name": "stderr",
          "text": [
            "\rProcessing: other_cats:  39%|██████████████▎                      | 154/398 [00:45<00:53,  4.56it/s]"
          ]
        },
        {
          "output_type": "stream",
          "name": "stdout",
          "text": [
            "No object detected, deleting /content/drive/MyDrive/datasets/dataset_fla_other/images/other_cats/577.jpg\n",
            "\n",
            "0: 480x640 1 cat, 184.5ms\n",
            "Speed: 4.4ms preprocess, 184.5ms inference, 1.2ms postprocess per image at shape (1, 3, 480, 640)\n"
          ]
        },
        {
          "output_type": "stream",
          "name": "stderr",
          "text": [
            "\rProcessing: other_cats:  39%|██████████████▍                      | 155/398 [00:45<00:53,  4.56it/s]"
          ]
        },
        {
          "output_type": "stream",
          "name": "stdout",
          "text": [
            "\n",
            "0: 640x640 1 cat, 243.4ms\n",
            "Speed: 8.4ms preprocess, 243.4ms inference, 1.7ms postprocess per image at shape (1, 3, 640, 640)\n"
          ]
        },
        {
          "output_type": "stream",
          "name": "stderr",
          "text": [
            "\rProcessing: other_cats:  39%|██████████████▌                      | 156/398 [00:45<00:58,  4.12it/s]"
          ]
        },
        {
          "output_type": "stream",
          "name": "stdout",
          "text": [
            "\n",
            "0: 640x640 (no detections), 228.8ms\n",
            "Speed: 7.6ms preprocess, 228.8ms inference, 0.9ms postprocess per image at shape (1, 3, 640, 640)\n"
          ]
        },
        {
          "output_type": "stream",
          "name": "stderr",
          "text": [
            "\rProcessing: other_cats:  39%|██████████████▌                      | 157/398 [00:46<00:59,  4.05it/s]"
          ]
        },
        {
          "output_type": "stream",
          "name": "stdout",
          "text": [
            "No object detected, deleting /content/drive/MyDrive/datasets/dataset_fla_other/images/other_cats/578.jpg\n",
            "\n",
            "0: 544x640 1 cat, 201.4ms\n",
            "Speed: 8.7ms preprocess, 201.4ms inference, 1.4ms postprocess per image at shape (1, 3, 544, 640)\n"
          ]
        },
        {
          "output_type": "stream",
          "name": "stderr",
          "text": [
            "\rProcessing: other_cats:  40%|██████████████▋                      | 158/398 [00:46<00:58,  4.07it/s]"
          ]
        },
        {
          "output_type": "stream",
          "name": "stdout",
          "text": [
            "\n",
            "0: 448x640 3 cats, 178.5ms\n",
            "Speed: 4.3ms preprocess, 178.5ms inference, 1.2ms postprocess per image at shape (1, 3, 448, 640)\n"
          ]
        },
        {
          "output_type": "stream",
          "name": "stderr",
          "text": [
            "\rProcessing: other_cats:  40%|██████████████▊                      | 159/398 [00:46<00:57,  4.12it/s]"
          ]
        },
        {
          "output_type": "stream",
          "name": "stdout",
          "text": [
            "\n",
            "0: 416x640 (no detections), 155.1ms\n",
            "Speed: 7.9ms preprocess, 155.1ms inference, 1.1ms postprocess per image at shape (1, 3, 416, 640)\n"
          ]
        },
        {
          "output_type": "stream",
          "name": "stderr",
          "text": [
            "\rProcessing: other_cats:  40%|██████████████▊                      | 160/398 [00:46<00:53,  4.42it/s]"
          ]
        },
        {
          "output_type": "stream",
          "name": "stdout",
          "text": [
            "No object detected, deleting /content/drive/MyDrive/datasets/dataset_fla_other/images/other_cats/584.jpg\n",
            "\n",
            "0: 480x640 1 cat, 173.2ms\n",
            "Speed: 7.7ms preprocess, 173.2ms inference, 1.1ms postprocess per image at shape (1, 3, 480, 640)\n"
          ]
        },
        {
          "output_type": "stream",
          "name": "stderr",
          "text": [
            "\rProcessing: other_cats:  40%|██████████████▉                      | 161/398 [00:47<00:52,  4.49it/s]"
          ]
        },
        {
          "output_type": "stream",
          "name": "stdout",
          "text": [
            "\n",
            "0: 640x544 2 cats, 196.7ms\n",
            "Speed: 7.3ms preprocess, 196.7ms inference, 1.3ms postprocess per image at shape (1, 3, 640, 544)\n"
          ]
        },
        {
          "output_type": "stream",
          "name": "stderr",
          "text": [
            "\rProcessing: other_cats:  41%|███████████████                      | 162/398 [00:47<00:53,  4.40it/s]"
          ]
        },
        {
          "output_type": "stream",
          "name": "stdout",
          "text": [
            "\n",
            "0: 640x480 1 cat, 187.4ms\n",
            "Speed: 4.0ms preprocess, 187.4ms inference, 1.2ms postprocess per image at shape (1, 3, 640, 480)\n"
          ]
        },
        {
          "output_type": "stream",
          "name": "stderr",
          "text": [
            "\rProcessing: other_cats:  41%|███████████████▏                     | 163/398 [00:47<00:52,  4.46it/s]"
          ]
        },
        {
          "output_type": "stream",
          "name": "stdout",
          "text": [
            "\n",
            "0: 640x448 1 cat, 192.7ms\n",
            "Speed: 6.4ms preprocess, 192.7ms inference, 1.3ms postprocess per image at shape (1, 3, 640, 448)\n"
          ]
        },
        {
          "output_type": "stream",
          "name": "stderr",
          "text": [
            "\rProcessing: other_cats:  41%|███████████████▏                     | 164/398 [00:47<00:53,  4.35it/s]"
          ]
        },
        {
          "output_type": "stream",
          "name": "stdout",
          "text": [
            "\n",
            "0: 608x640 (no detections), 243.1ms\n",
            "Speed: 7.6ms preprocess, 243.1ms inference, 1.0ms postprocess per image at shape (1, 3, 608, 640)\n"
          ]
        },
        {
          "output_type": "stream",
          "name": "stderr",
          "text": [
            "\rProcessing: other_cats:  41%|███████████████▎                     | 165/398 [00:47<00:56,  4.14it/s]"
          ]
        },
        {
          "output_type": "stream",
          "name": "stdout",
          "text": [
            "No object detected, deleting /content/drive/MyDrive/datasets/dataset_fla_other/images/other_cats/587.jpg\n",
            "\n",
            "0: 480x640 1 cat, 173.9ms\n",
            "Speed: 6.8ms preprocess, 173.9ms inference, 1.2ms postprocess per image at shape (1, 3, 480, 640)\n"
          ]
        },
        {
          "output_type": "stream",
          "name": "stderr",
          "text": [
            "\rProcessing: other_cats:  42%|███████████████▍                     | 166/398 [00:48<00:53,  4.32it/s]"
          ]
        },
        {
          "output_type": "stream",
          "name": "stdout",
          "text": [
            "\n",
            "0: 416x640 (no detections), 152.7ms\n",
            "Speed: 5.7ms preprocess, 152.7ms inference, 0.8ms postprocess per image at shape (1, 3, 416, 640)\n"
          ]
        },
        {
          "output_type": "stream",
          "name": "stderr",
          "text": [
            "\rProcessing: other_cats:  42%|███████████████▌                     | 167/398 [00:48<00:50,  4.62it/s]"
          ]
        },
        {
          "output_type": "stream",
          "name": "stdout",
          "text": [
            "No object detected, deleting /content/drive/MyDrive/datasets/dataset_fla_other/images/other_cats/588.jpg\n",
            "\n",
            "0: 640x480 1 cat, 207.5ms\n",
            "Speed: 7.1ms preprocess, 207.5ms inference, 1.2ms postprocess per image at shape (1, 3, 640, 480)\n"
          ]
        },
        {
          "output_type": "stream",
          "name": "stderr",
          "text": [
            "\rProcessing: other_cats:  42%|███████████████▌                     | 168/398 [00:48<00:51,  4.44it/s]"
          ]
        },
        {
          "output_type": "stream",
          "name": "stdout",
          "text": [
            "\n",
            "0: 288x640 1 cat, 120.0ms\n",
            "Speed: 3.9ms preprocess, 120.0ms inference, 1.1ms postprocess per image at shape (1, 3, 288, 640)\n"
          ]
        },
        {
          "output_type": "stream",
          "name": "stderr",
          "text": [
            "\rProcessing: other_cats:  42%|███████████████▋                     | 169/398 [00:48<00:46,  4.97it/s]"
          ]
        },
        {
          "output_type": "stream",
          "name": "stdout",
          "text": [
            "\n",
            "0: 448x640 1 cat, 171.4ms\n",
            "Speed: 4.5ms preprocess, 171.4ms inference, 1.2ms postprocess per image at shape (1, 3, 448, 640)\n"
          ]
        },
        {
          "output_type": "stream",
          "name": "stderr",
          "text": [
            "\rProcessing: other_cats:  43%|███████████████▊                     | 170/398 [00:48<00:46,  4.95it/s]"
          ]
        },
        {
          "output_type": "stream",
          "name": "stdout",
          "text": [
            "\n",
            "0: 640x480 1 cat, 178.9ms\n",
            "Speed: 6.5ms preprocess, 178.9ms inference, 1.3ms postprocess per image at shape (1, 3, 640, 480)\n"
          ]
        },
        {
          "output_type": "stream",
          "name": "stderr",
          "text": [
            "\rProcessing: other_cats:  43%|███████████████▉                     | 171/398 [00:49<00:46,  4.85it/s]"
          ]
        },
        {
          "output_type": "stream",
          "name": "stdout",
          "text": [
            "\n",
            "0: 640x640 1 cat, 232.4ms\n",
            "Speed: 9.9ms preprocess, 232.4ms inference, 1.3ms postprocess per image at shape (1, 3, 640, 640)\n"
          ]
        },
        {
          "output_type": "stream",
          "name": "stderr",
          "text": [
            "\rProcessing: other_cats:  43%|███████████████▉                     | 172/398 [00:49<00:51,  4.43it/s]"
          ]
        },
        {
          "output_type": "stream",
          "name": "stdout",
          "text": [
            "\n",
            "0: 480x640 1 cat, 202.3ms\n",
            "Speed: 7.0ms preprocess, 202.3ms inference, 1.2ms postprocess per image at shape (1, 3, 480, 640)\n"
          ]
        },
        {
          "output_type": "stream",
          "name": "stderr",
          "text": [
            "\rProcessing: other_cats:  43%|████████████████                     | 173/398 [00:49<00:52,  4.26it/s]"
          ]
        },
        {
          "output_type": "stream",
          "name": "stdout",
          "text": [
            "\n",
            "0: 480x640 (no detections), 187.9ms\n",
            "Speed: 6.5ms preprocess, 187.9ms inference, 0.8ms postprocess per image at shape (1, 3, 480, 640)\n"
          ]
        },
        {
          "output_type": "stream",
          "name": "stderr",
          "text": [
            "\rProcessing: other_cats:  44%|████████████████▏                    | 174/398 [00:49<00:51,  4.38it/s]"
          ]
        },
        {
          "output_type": "stream",
          "name": "stdout",
          "text": [
            "No object detected, deleting /content/drive/MyDrive/datasets/dataset_fla_other/images/other_cats/596.jpg\n",
            "\n",
            "0: 480x640 1 cat, 170.9ms\n",
            "Speed: 6.2ms preprocess, 170.9ms inference, 1.3ms postprocess per image at shape (1, 3, 480, 640)\n"
          ]
        },
        {
          "output_type": "stream",
          "name": "stderr",
          "text": [
            "\rProcessing: other_cats:  44%|████████████████▎                    | 175/398 [00:50<00:49,  4.54it/s]"
          ]
        },
        {
          "output_type": "stream",
          "name": "stdout",
          "text": [
            "\n",
            "0: 512x640 1 cat, 197.0ms\n",
            "Speed: 7.1ms preprocess, 197.0ms inference, 1.3ms postprocess per image at shape (1, 3, 512, 640)\n"
          ]
        },
        {
          "output_type": "stream",
          "name": "stderr",
          "text": [
            "\rProcessing: other_cats:  44%|████████████████▎                    | 176/398 [00:50<00:49,  4.48it/s]"
          ]
        },
        {
          "output_type": "stream",
          "name": "stdout",
          "text": [
            "\n",
            "0: 640x640 (no detections), 231.8ms\n",
            "Speed: 5.9ms preprocess, 231.8ms inference, 0.8ms postprocess per image at shape (1, 3, 640, 640)\n"
          ]
        },
        {
          "output_type": "stream",
          "name": "stderr",
          "text": [
            "\rProcessing: other_cats:  44%|████████████████▍                    | 177/398 [00:50<00:51,  4.29it/s]"
          ]
        },
        {
          "output_type": "stream",
          "name": "stdout",
          "text": [
            "No object detected, deleting /content/drive/MyDrive/datasets/dataset_fla_other/images/other_cats/603.jpg\n",
            "\n",
            "0: 384x640 1 cat, 160.3ms\n",
            "Speed: 3.3ms preprocess, 160.3ms inference, 1.3ms postprocess per image at shape (1, 3, 384, 640)\n"
          ]
        },
        {
          "output_type": "stream",
          "name": "stderr",
          "text": [
            "\rProcessing: other_cats:  45%|████████████████▌                    | 178/398 [00:50<00:48,  4.55it/s]"
          ]
        },
        {
          "output_type": "stream",
          "name": "stdout",
          "text": [
            "\n",
            "0: 480x640 1 cat, 191.1ms\n",
            "Speed: 6.6ms preprocess, 191.1ms inference, 1.2ms postprocess per image at shape (1, 3, 480, 640)\n"
          ]
        },
        {
          "output_type": "stream",
          "name": "stderr",
          "text": [
            "\rProcessing: other_cats:  45%|████████████████▋                    | 179/398 [00:51<00:48,  4.50it/s]"
          ]
        },
        {
          "output_type": "stream",
          "name": "stdout",
          "text": [
            "\n",
            "0: 640x640 (no detections), 233.2ms\n",
            "Speed: 9.4ms preprocess, 233.2ms inference, 0.9ms postprocess per image at shape (1, 3, 640, 640)\n"
          ]
        },
        {
          "output_type": "stream",
          "name": "stderr",
          "text": [
            "\rProcessing: other_cats:  45%|████████████████▋                    | 180/398 [00:51<00:51,  4.26it/s]"
          ]
        },
        {
          "output_type": "stream",
          "name": "stdout",
          "text": [
            "No object detected, deleting /content/drive/MyDrive/datasets/dataset_fla_other/images/other_cats/602.jpg\n",
            "\n",
            "0: 480x640 1 cat, 176.5ms\n",
            "Speed: 3.9ms preprocess, 176.5ms inference, 1.1ms postprocess per image at shape (1, 3, 480, 640)\n"
          ]
        },
        {
          "output_type": "stream",
          "name": "stderr",
          "text": [
            "\rProcessing: other_cats:  45%|████████████████▊                    | 181/398 [00:51<00:49,  4.42it/s]"
          ]
        },
        {
          "output_type": "stream",
          "name": "stdout",
          "text": [
            "\n",
            "0: 576x640 1 cat, 309.8ms\n",
            "Speed: 7.9ms preprocess, 309.8ms inference, 1.7ms postprocess per image at shape (1, 3, 576, 640)\n"
          ]
        },
        {
          "output_type": "stream",
          "name": "stderr",
          "text": [
            "\rProcessing: other_cats:  46%|████████████████▉                    | 182/398 [00:51<00:57,  3.79it/s]"
          ]
        },
        {
          "output_type": "stream",
          "name": "stdout",
          "text": [
            "\n",
            "0: 480x640 2 cats, 288.8ms\n",
            "Speed: 5.4ms preprocess, 288.8ms inference, 1.5ms postprocess per image at shape (1, 3, 480, 640)\n"
          ]
        },
        {
          "output_type": "stream",
          "name": "stderr",
          "text": [
            "\rProcessing: other_cats:  46%|█████████████████                    | 183/398 [00:52<01:02,  3.42it/s]"
          ]
        },
        {
          "output_type": "stream",
          "name": "stdout",
          "text": [
            "\n",
            "0: 480x640 1 cat, 276.4ms\n",
            "Speed: 4.1ms preprocess, 276.4ms inference, 1.5ms postprocess per image at shape (1, 3, 480, 640)\n"
          ]
        },
        {
          "output_type": "stream",
          "name": "stderr",
          "text": [
            "\rProcessing: other_cats:  46%|█████████████████                    | 184/398 [00:52<01:03,  3.36it/s]"
          ]
        },
        {
          "output_type": "stream",
          "name": "stdout",
          "text": [
            "\n",
            "0: 608x640 1 cat, 419.9ms\n",
            "Speed: 8.1ms preprocess, 419.9ms inference, 1.6ms postprocess per image at shape (1, 3, 608, 640)\n"
          ]
        },
        {
          "output_type": "stream",
          "name": "stderr",
          "text": [
            "\rProcessing: other_cats:  46%|█████████████████▏                   | 185/398 [00:52<01:13,  2.90it/s]"
          ]
        },
        {
          "output_type": "stream",
          "name": "stdout",
          "text": [
            "\n",
            "0: 448x640 1 cat, 264.4ms\n",
            "Speed: 7.7ms preprocess, 264.4ms inference, 1.6ms postprocess per image at shape (1, 3, 448, 640)\n"
          ]
        },
        {
          "output_type": "stream",
          "name": "stderr",
          "text": [
            "\rProcessing: other_cats:  47%|█████████████████▎                   | 186/398 [00:53<01:10,  3.02it/s]"
          ]
        },
        {
          "output_type": "stream",
          "name": "stdout",
          "text": [
            "\n",
            "0: 480x640 1 cat, 272.7ms\n",
            "Speed: 6.9ms preprocess, 272.7ms inference, 1.4ms postprocess per image at shape (1, 3, 480, 640)\n"
          ]
        },
        {
          "output_type": "stream",
          "name": "stderr",
          "text": [
            "\rProcessing: other_cats:  47%|█████████████████▍                   | 187/398 [00:53<01:08,  3.09it/s]"
          ]
        },
        {
          "output_type": "stream",
          "name": "stdout",
          "text": [
            "\n",
            "0: 480x640 1 cat, 307.1ms\n",
            "Speed: 7.1ms preprocess, 307.1ms inference, 1.6ms postprocess per image at shape (1, 3, 480, 640)\n"
          ]
        },
        {
          "output_type": "stream",
          "name": "stderr",
          "text": [
            "\rProcessing: other_cats:  47%|█████████████████▍                   | 188/398 [00:53<01:09,  3.04it/s]"
          ]
        },
        {
          "output_type": "stream",
          "name": "stdout",
          "text": [
            "\n",
            "0: 640x608 1 cat, 368.6ms\n",
            "Speed: 8.5ms preprocess, 368.6ms inference, 1.8ms postprocess per image at shape (1, 3, 640, 608)\n"
          ]
        },
        {
          "output_type": "stream",
          "name": "stderr",
          "text": [
            "\rProcessing: other_cats:  47%|█████████████████▌                   | 189/398 [00:54<01:13,  2.84it/s]"
          ]
        },
        {
          "output_type": "stream",
          "name": "stdout",
          "text": [
            "\n",
            "0: 608x640 2 cats, 395.6ms\n",
            "Speed: 8.0ms preprocess, 395.6ms inference, 1.8ms postprocess per image at shape (1, 3, 608, 640)\n"
          ]
        },
        {
          "output_type": "stream",
          "name": "stderr",
          "text": [
            "\rProcessing: other_cats:  48%|█████████████████▋                   | 190/398 [00:54<01:21,  2.55it/s]"
          ]
        },
        {
          "output_type": "stream",
          "name": "stdout",
          "text": [
            "\n",
            "0: 480x640 1 cat, 292.6ms\n",
            "Speed: 6.6ms preprocess, 292.6ms inference, 1.7ms postprocess per image at shape (1, 3, 480, 640)\n"
          ]
        },
        {
          "output_type": "stream",
          "name": "stderr",
          "text": [
            "\rProcessing: other_cats:  48%|█████████████████▊                   | 191/398 [00:55<01:17,  2.66it/s]"
          ]
        },
        {
          "output_type": "stream",
          "name": "stdout",
          "text": [
            "\n",
            "0: 448x640 1 cat, 278.8ms\n",
            "Speed: 9.3ms preprocess, 278.8ms inference, 1.7ms postprocess per image at shape (1, 3, 448, 640)\n"
          ]
        },
        {
          "output_type": "stream",
          "name": "stderr",
          "text": [
            "\rProcessing: other_cats:  48%|█████████████████▊                   | 192/398 [00:55<01:14,  2.76it/s]"
          ]
        },
        {
          "output_type": "stream",
          "name": "stdout",
          "text": [
            "\n",
            "0: 512x640 2 cats, 329.3ms\n",
            "Speed: 7.3ms preprocess, 329.3ms inference, 1.8ms postprocess per image at shape (1, 3, 512, 640)\n"
          ]
        },
        {
          "output_type": "stream",
          "name": "stderr",
          "text": [
            "\rProcessing: other_cats:  48%|█████████████████▉                   | 193/398 [00:55<01:15,  2.72it/s]"
          ]
        },
        {
          "output_type": "stream",
          "name": "stdout",
          "text": [
            "\n",
            "0: 640x480 1 cat, 287.9ms\n",
            "Speed: 4.4ms preprocess, 287.9ms inference, 1.7ms postprocess per image at shape (1, 3, 640, 480)\n"
          ]
        },
        {
          "output_type": "stream",
          "name": "stderr",
          "text": [
            "\rProcessing: other_cats:  49%|██████████████████                   | 194/398 [00:56<01:12,  2.80it/s]"
          ]
        },
        {
          "output_type": "stream",
          "name": "stdout",
          "text": [
            "\n",
            "0: 640x480 1 cat, 297.9ms\n",
            "Speed: 11.5ms preprocess, 297.9ms inference, 1.6ms postprocess per image at shape (1, 3, 640, 480)\n"
          ]
        },
        {
          "output_type": "stream",
          "name": "stderr",
          "text": [
            "\rProcessing: other_cats:  49%|██████████████████▏                  | 195/398 [00:56<01:12,  2.81it/s]"
          ]
        },
        {
          "output_type": "stream",
          "name": "stdout",
          "text": [
            "\n",
            "0: 544x640 1 cat, 328.2ms\n",
            "Speed: 8.6ms preprocess, 328.2ms inference, 1.8ms postprocess per image at shape (1, 3, 544, 640)\n"
          ]
        },
        {
          "output_type": "stream",
          "name": "stderr",
          "text": [
            "\rProcessing: other_cats:  49%|██████████████████▏                  | 196/398 [00:56<01:13,  2.76it/s]"
          ]
        },
        {
          "output_type": "stream",
          "name": "stdout",
          "text": [
            "\n",
            "0: 480x640 1 cat, 285.2ms\n",
            "Speed: 6.2ms preprocess, 285.2ms inference, 1.2ms postprocess per image at shape (1, 3, 480, 640)\n"
          ]
        },
        {
          "output_type": "stream",
          "name": "stderr",
          "text": [
            "\rProcessing: other_cats:  49%|██████████████████▎                  | 197/398 [00:57<01:10,  2.86it/s]"
          ]
        },
        {
          "output_type": "stream",
          "name": "stdout",
          "text": [
            "\n",
            "0: 480x640 1 cat, 172.0ms\n",
            "Speed: 6.7ms preprocess, 172.0ms inference, 1.4ms postprocess per image at shape (1, 3, 480, 640)\n"
          ]
        },
        {
          "output_type": "stream",
          "name": "stderr",
          "text": [
            "\rProcessing: other_cats:  50%|██████████████████▍                  | 198/398 [00:57<01:02,  3.20it/s]"
          ]
        },
        {
          "output_type": "stream",
          "name": "stdout",
          "text": [
            "\n",
            "0: 640x640 1 cat, 229.7ms\n",
            "Speed: 9.8ms preprocess, 229.7ms inference, 1.2ms postprocess per image at shape (1, 3, 640, 640)\n"
          ]
        },
        {
          "output_type": "stream",
          "name": "stderr",
          "text": [
            "\rProcessing: other_cats:  50%|██████████████████▌                  | 199/398 [00:57<00:59,  3.35it/s]"
          ]
        },
        {
          "output_type": "stream",
          "name": "stdout",
          "text": [
            "\n",
            "0: 544x640 1 cat, 254.2ms\n",
            "Speed: 7.4ms preprocess, 254.2ms inference, 1.9ms postprocess per image at shape (1, 3, 544, 640)\n"
          ]
        },
        {
          "output_type": "stream",
          "name": "stderr",
          "text": [
            "\rProcessing: other_cats:  50%|██████████████████▌                  | 200/398 [00:58<00:58,  3.38it/s]"
          ]
        },
        {
          "output_type": "stream",
          "name": "stdout",
          "text": [
            "\n",
            "0: 512x640 1 cat, 273.0ms\n",
            "Speed: 4.5ms preprocess, 273.0ms inference, 4.6ms postprocess per image at shape (1, 3, 512, 640)\n"
          ]
        },
        {
          "output_type": "stream",
          "name": "stderr",
          "text": [
            "\rProcessing: other_cats:  51%|██████████████████▋                  | 201/398 [00:58<00:59,  3.33it/s]"
          ]
        },
        {
          "output_type": "stream",
          "name": "stdout",
          "text": [
            "\n",
            "0: 448x640 1 cat, 224.6ms\n",
            "Speed: 3.8ms preprocess, 224.6ms inference, 1.5ms postprocess per image at shape (1, 3, 448, 640)\n"
          ]
        },
        {
          "output_type": "stream",
          "name": "stderr",
          "text": [
            "\rProcessing: other_cats:  51%|██████████████████▊                  | 202/398 [00:58<00:56,  3.47it/s]"
          ]
        },
        {
          "output_type": "stream",
          "name": "stdout",
          "text": [
            "\n",
            "0: 480x640 1 cat, 196.7ms\n",
            "Speed: 6.3ms preprocess, 196.7ms inference, 1.5ms postprocess per image at shape (1, 3, 480, 640)\n"
          ]
        },
        {
          "output_type": "stream",
          "name": "stderr",
          "text": [
            "\rProcessing: other_cats:  51%|██████████████████▊                  | 203/398 [00:58<00:52,  3.70it/s]"
          ]
        },
        {
          "output_type": "stream",
          "name": "stdout",
          "text": [
            "\n",
            "0: 640x608 1 cat, 228.4ms\n",
            "Speed: 8.4ms preprocess, 228.4ms inference, 1.4ms postprocess per image at shape (1, 3, 640, 608)\n"
          ]
        },
        {
          "output_type": "stream",
          "name": "stderr",
          "text": [
            "\rProcessing: other_cats:  51%|██████████████████▉                  | 204/398 [00:59<00:52,  3.70it/s]"
          ]
        },
        {
          "output_type": "stream",
          "name": "stdout",
          "text": [
            "\n",
            "0: 640x640 (no detections), 251.0ms\n",
            "Speed: 8.3ms preprocess, 251.0ms inference, 0.8ms postprocess per image at shape (1, 3, 640, 640)\n"
          ]
        },
        {
          "output_type": "stream",
          "name": "stderr",
          "text": [
            "\rProcessing: other_cats:  52%|███████████████████                  | 205/398 [00:59<00:52,  3.67it/s]"
          ]
        },
        {
          "output_type": "stream",
          "name": "stdout",
          "text": [
            "No object detected, deleting /content/drive/MyDrive/datasets/dataset_fla_other/images/other_cats/629.jpg\n",
            "\n",
            "0: 480x640 1 cat, 192.0ms\n",
            "Speed: 6.5ms preprocess, 192.0ms inference, 1.9ms postprocess per image at shape (1, 3, 480, 640)\n"
          ]
        },
        {
          "output_type": "stream",
          "name": "stderr",
          "text": [
            "\rProcessing: other_cats:  52%|███████████████████▏                 | 206/398 [00:59<00:49,  3.85it/s]"
          ]
        },
        {
          "output_type": "stream",
          "name": "stdout",
          "text": [
            "\n",
            "0: 640x512 1 cat, 326.5ms\n",
            "Speed: 7.9ms preprocess, 326.5ms inference, 1.9ms postprocess per image at shape (1, 3, 640, 512)\n"
          ]
        },
        {
          "output_type": "stream",
          "name": "stderr",
          "text": [
            "\rProcessing: other_cats:  52%|███████████████████▏                 | 207/398 [00:59<00:55,  3.45it/s]"
          ]
        },
        {
          "output_type": "stream",
          "name": "stdout",
          "text": [
            "\n",
            "0: 448x640 1 cat, 277.1ms\n",
            "Speed: 3.7ms preprocess, 277.1ms inference, 1.4ms postprocess per image at shape (1, 3, 448, 640)\n"
          ]
        },
        {
          "output_type": "stream",
          "name": "stderr",
          "text": [
            "\rProcessing: other_cats:  52%|███████████████████▎                 | 208/398 [01:00<00:57,  3.28it/s]"
          ]
        },
        {
          "output_type": "stream",
          "name": "stdout",
          "text": [
            "\n",
            "0: 640x384 1 cat, 238.4ms\n",
            "Speed: 3.5ms preprocess, 238.4ms inference, 1.5ms postprocess per image at shape (1, 3, 640, 384)\n"
          ]
        },
        {
          "output_type": "stream",
          "name": "stderr",
          "text": [
            "\rProcessing: other_cats:  53%|███████████████████▍                 | 209/398 [01:00<00:55,  3.38it/s]"
          ]
        },
        {
          "output_type": "stream",
          "name": "stdout",
          "text": [
            "\n",
            "0: 480x640 1 cat, 263.7ms\n",
            "Speed: 6.2ms preprocess, 263.7ms inference, 1.5ms postprocess per image at shape (1, 3, 480, 640)\n"
          ]
        },
        {
          "output_type": "stream",
          "name": "stderr",
          "text": [
            "\rProcessing: other_cats:  53%|███████████████████▌                 | 210/398 [01:00<00:56,  3.31it/s]"
          ]
        },
        {
          "output_type": "stream",
          "name": "stdout",
          "text": [
            "\n",
            "0: 640x480 (no detections), 279.5ms\n",
            "Speed: 6.4ms preprocess, 279.5ms inference, 1.1ms postprocess per image at shape (1, 3, 640, 480)\n"
          ]
        },
        {
          "output_type": "stream",
          "name": "stderr",
          "text": [
            "\rProcessing: other_cats:  53%|███████████████████▌                 | 211/398 [01:01<00:57,  3.26it/s]"
          ]
        },
        {
          "output_type": "stream",
          "name": "stdout",
          "text": [
            "No object detected, deleting /content/drive/MyDrive/datasets/dataset_fla_other/images/other_cats/635.jpg\n",
            "\n",
            "0: 544x640 1 cat, 356.2ms\n",
            "Speed: 8.2ms preprocess, 356.2ms inference, 1.7ms postprocess per image at shape (1, 3, 544, 640)\n"
          ]
        },
        {
          "output_type": "stream",
          "name": "stderr",
          "text": [
            "\rProcessing: other_cats:  53%|███████████████████▋                 | 212/398 [01:01<01:01,  3.01it/s]"
          ]
        },
        {
          "output_type": "stream",
          "name": "stdout",
          "text": [
            "\n",
            "0: 640x416 1 cat, 247.0ms\n",
            "Speed: 4.6ms preprocess, 247.0ms inference, 1.6ms postprocess per image at shape (1, 3, 640, 416)\n"
          ]
        },
        {
          "output_type": "stream",
          "name": "stderr",
          "text": [
            "\rProcessing: other_cats:  54%|███████████████████▊                 | 213/398 [01:01<00:58,  3.17it/s]"
          ]
        },
        {
          "output_type": "stream",
          "name": "stdout",
          "text": [
            "\n",
            "0: 480x640 1 cat, 269.3ms\n",
            "Speed: 7.4ms preprocess, 269.3ms inference, 1.5ms postprocess per image at shape (1, 3, 480, 640)\n"
          ]
        },
        {
          "output_type": "stream",
          "name": "stderr",
          "text": [
            "\rProcessing: other_cats:  54%|███████████████████▉                 | 214/398 [01:02<00:57,  3.20it/s]"
          ]
        },
        {
          "output_type": "stream",
          "name": "stdout",
          "text": [
            "\n",
            "0: 640x640 1 cat, 361.1ms\n",
            "Speed: 10.1ms preprocess, 361.1ms inference, 1.6ms postprocess per image at shape (1, 3, 640, 640)\n"
          ]
        },
        {
          "output_type": "stream",
          "name": "stderr",
          "text": [
            "\rProcessing: other_cats:  54%|███████████████████▉                 | 215/398 [01:02<01:02,  2.93it/s]"
          ]
        },
        {
          "output_type": "stream",
          "name": "stdout",
          "text": [
            "\n",
            "0: 640x416 2 cats, 246.2ms\n",
            "Speed: 5.5ms preprocess, 246.2ms inference, 1.5ms postprocess per image at shape (1, 3, 640, 416)\n"
          ]
        },
        {
          "output_type": "stream",
          "name": "stderr",
          "text": [
            "\rProcessing: other_cats:  54%|████████████████████                 | 216/398 [01:02<00:59,  3.04it/s]"
          ]
        },
        {
          "output_type": "stream",
          "name": "stdout",
          "text": [
            "\n",
            "0: 480x640 1 cat, 277.6ms\n",
            "Speed: 8.0ms preprocess, 277.6ms inference, 1.5ms postprocess per image at shape (1, 3, 480, 640)\n"
          ]
        },
        {
          "output_type": "stream",
          "name": "stderr",
          "text": [
            "\rProcessing: other_cats:  55%|████████████████████▏                | 217/398 [01:03<00:59,  3.02it/s]"
          ]
        },
        {
          "output_type": "stream",
          "name": "stdout",
          "text": [
            "\n",
            "0: 480x640 1 cat, 290.9ms\n",
            "Speed: 6.5ms preprocess, 290.9ms inference, 2.3ms postprocess per image at shape (1, 3, 480, 640)\n"
          ]
        },
        {
          "output_type": "stream",
          "name": "stderr",
          "text": [
            "\rProcessing: other_cats:  55%|████████████████████▎                | 218/398 [01:03<00:59,  3.01it/s]"
          ]
        },
        {
          "output_type": "stream",
          "name": "stdout",
          "text": [
            "\n",
            "0: 640x512 1 cat, 368.3ms\n",
            "Speed: 8.2ms preprocess, 368.3ms inference, 1.7ms postprocess per image at shape (1, 3, 640, 512)\n"
          ]
        },
        {
          "output_type": "stream",
          "name": "stderr",
          "text": [
            "\rProcessing: other_cats:  55%|████████████████████▎                | 219/398 [01:03<01:03,  2.80it/s]"
          ]
        },
        {
          "output_type": "stream",
          "name": "stdout",
          "text": [
            "\n",
            "0: 416x640 1 cat, 255.4ms\n",
            "Speed: 5.7ms preprocess, 255.4ms inference, 1.7ms postprocess per image at shape (1, 3, 416, 640)\n"
          ]
        },
        {
          "output_type": "stream",
          "name": "stderr",
          "text": [
            "\rProcessing: other_cats:  55%|████████████████████▍                | 220/398 [01:04<01:00,  2.93it/s]"
          ]
        },
        {
          "output_type": "stream",
          "name": "stdout",
          "text": [
            "\n",
            "0: 480x640 1 cat, 293.1ms\n",
            "Speed: 9.0ms preprocess, 293.1ms inference, 1.6ms postprocess per image at shape (1, 3, 480, 640)\n"
          ]
        },
        {
          "output_type": "stream",
          "name": "stderr",
          "text": [
            "\rProcessing: other_cats:  56%|████████████████████▌                | 221/398 [01:04<01:00,  2.93it/s]"
          ]
        },
        {
          "output_type": "stream",
          "name": "stdout",
          "text": [
            "\n",
            "0: 448x640 2 cats, 297.0ms\n",
            "Speed: 6.0ms preprocess, 297.0ms inference, 1.7ms postprocess per image at shape (1, 3, 448, 640)\n"
          ]
        },
        {
          "output_type": "stream",
          "name": "stderr",
          "text": [
            "\rProcessing: other_cats:  56%|████████████████████▋                | 222/398 [01:04<01:00,  2.92it/s]"
          ]
        },
        {
          "output_type": "stream",
          "name": "stdout",
          "text": [
            "\n",
            "0: 640x640 1 cat, 361.9ms\n",
            "Speed: 12.2ms preprocess, 361.9ms inference, 1.8ms postprocess per image at shape (1, 3, 640, 640)\n"
          ]
        },
        {
          "output_type": "stream",
          "name": "stderr",
          "text": [
            "\rProcessing: other_cats:  56%|████████████████████▋                | 223/398 [01:05<01:03,  2.74it/s]"
          ]
        },
        {
          "output_type": "stream",
          "name": "stdout",
          "text": [
            "\n",
            "0: 384x640 1 cat, 183.1ms\n",
            "Speed: 3.4ms preprocess, 183.1ms inference, 1.1ms postprocess per image at shape (1, 3, 384, 640)\n"
          ]
        },
        {
          "output_type": "stream",
          "name": "stderr",
          "text": [
            "\rProcessing: other_cats:  56%|████████████████████▊                | 224/398 [01:05<00:56,  3.09it/s]"
          ]
        },
        {
          "output_type": "stream",
          "name": "stdout",
          "text": [
            "\n",
            "0: 544x640 1 cat, 207.2ms\n",
            "Speed: 4.3ms preprocess, 207.2ms inference, 1.5ms postprocess per image at shape (1, 3, 544, 640)\n"
          ]
        },
        {
          "output_type": "stream",
          "name": "stderr",
          "text": [
            "\rProcessing: other_cats:  57%|████████████████████▉                | 225/398 [01:05<00:51,  3.36it/s]"
          ]
        },
        {
          "output_type": "stream",
          "name": "stdout",
          "text": [
            "\n",
            "0: 480x640 1 cat, 172.2ms\n",
            "Speed: 4.6ms preprocess, 172.2ms inference, 1.1ms postprocess per image at shape (1, 3, 480, 640)\n"
          ]
        },
        {
          "output_type": "stream",
          "name": "stderr",
          "text": [
            "\rProcessing: other_cats:  57%|█████████████████████                | 226/398 [01:06<00:46,  3.71it/s]"
          ]
        },
        {
          "output_type": "stream",
          "name": "stdout",
          "text": [
            "\n",
            "0: 480x640 1 cat, 174.0ms\n",
            "Speed: 6.2ms preprocess, 174.0ms inference, 1.2ms postprocess per image at shape (1, 3, 480, 640)\n"
          ]
        },
        {
          "output_type": "stream",
          "name": "stderr",
          "text": [
            "\rProcessing: other_cats:  57%|█████████████████████                | 227/398 [01:06<00:42,  4.00it/s]"
          ]
        },
        {
          "output_type": "stream",
          "name": "stdout",
          "text": [
            "\n",
            "0: 480x640 1 cat, 177.5ms\n",
            "Speed: 8.1ms preprocess, 177.5ms inference, 1.3ms postprocess per image at shape (1, 3, 480, 640)\n"
          ]
        },
        {
          "output_type": "stream",
          "name": "stderr",
          "text": [
            "\rProcessing: other_cats:  57%|█████████████████████▏               | 228/398 [01:06<00:40,  4.15it/s]"
          ]
        },
        {
          "output_type": "stream",
          "name": "stdout",
          "text": [
            "\n",
            "0: 480x640 2 cats, 183.8ms\n",
            "Speed: 8.3ms preprocess, 183.8ms inference, 1.4ms postprocess per image at shape (1, 3, 480, 640)\n"
          ]
        },
        {
          "output_type": "stream",
          "name": "stderr",
          "text": [
            "\rProcessing: other_cats:  58%|█████████████████████▎               | 229/398 [01:06<00:39,  4.24it/s]"
          ]
        },
        {
          "output_type": "stream",
          "name": "stdout",
          "text": [
            "\n",
            "0: 480x640 1 cat, 185.4ms\n",
            "Speed: 7.0ms preprocess, 185.4ms inference, 1.3ms postprocess per image at shape (1, 3, 480, 640)\n"
          ]
        },
        {
          "output_type": "stream",
          "name": "stderr",
          "text": [
            "\rProcessing: other_cats:  58%|█████████████████████▍               | 230/398 [01:06<00:38,  4.33it/s]"
          ]
        },
        {
          "output_type": "stream",
          "name": "stdout",
          "text": [
            "\n",
            "0: 544x640 1 cat, 208.6ms\n",
            "Speed: 7.5ms preprocess, 208.6ms inference, 1.3ms postprocess per image at shape (1, 3, 544, 640)\n"
          ]
        },
        {
          "output_type": "stream",
          "name": "stderr",
          "text": [
            "\rProcessing: other_cats:  58%|█████████████████████▍               | 231/398 [01:07<00:38,  4.28it/s]"
          ]
        },
        {
          "output_type": "stream",
          "name": "stdout",
          "text": [
            "\n",
            "0: 480x640 1 cat, 255.8ms\n",
            "Speed: 5.9ms preprocess, 255.8ms inference, 1.5ms postprocess per image at shape (1, 3, 480, 640)\n"
          ]
        },
        {
          "output_type": "stream",
          "name": "stderr",
          "text": [
            "\rProcessing: other_cats:  58%|█████████████████████▌               | 232/398 [01:07<00:41,  3.96it/s]"
          ]
        },
        {
          "output_type": "stream",
          "name": "stdout",
          "text": [
            "\n",
            "0: 640x640 1 cat, 379.6ms\n",
            "Speed: 8.7ms preprocess, 379.6ms inference, 1.8ms postprocess per image at shape (1, 3, 640, 640)\n"
          ]
        },
        {
          "output_type": "stream",
          "name": "stderr",
          "text": [
            "\rProcessing: other_cats:  59%|█████████████████████▋               | 233/398 [01:07<00:51,  3.22it/s]"
          ]
        },
        {
          "output_type": "stream",
          "name": "stdout",
          "text": [
            "\n",
            "0: 448x640 (no detections), 260.9ms\n",
            "Speed: 7.0ms preprocess, 260.9ms inference, 1.0ms postprocess per image at shape (1, 3, 448, 640)\n"
          ]
        },
        {
          "output_type": "stream",
          "name": "stderr",
          "text": [
            "\rProcessing: other_cats:  59%|█████████████████████▊               | 234/398 [01:08<00:50,  3.26it/s]"
          ]
        },
        {
          "output_type": "stream",
          "name": "stdout",
          "text": [
            "No object detected, deleting /content/drive/MyDrive/datasets/dataset_fla_other/images/other_cats/657.jpg\n",
            "\n",
            "0: 640x256 (no detections), 186.1ms\n",
            "Speed: 2.2ms preprocess, 186.1ms inference, 0.8ms postprocess per image at shape (1, 3, 640, 256)\n"
          ]
        },
        {
          "output_type": "stream",
          "name": "stderr",
          "text": [
            "\rProcessing: other_cats:  59%|█████████████████████▊               | 235/398 [01:08<00:45,  3.59it/s]"
          ]
        },
        {
          "output_type": "stream",
          "name": "stdout",
          "text": [
            "No object detected, deleting /content/drive/MyDrive/datasets/dataset_fla_other/images/other_cats/664.jpg\n",
            "\n",
            "0: 480x640 1 cat, 274.4ms\n",
            "Speed: 7.6ms preprocess, 274.4ms inference, 1.6ms postprocess per image at shape (1, 3, 480, 640)\n"
          ]
        },
        {
          "output_type": "stream",
          "name": "stderr",
          "text": [
            "\rProcessing: other_cats:  59%|█████████████████████▉               | 236/398 [01:08<00:47,  3.43it/s]"
          ]
        },
        {
          "output_type": "stream",
          "name": "stdout",
          "text": [
            "\n",
            "0: 480x640 1 cat, 297.6ms\n",
            "Speed: 9.0ms preprocess, 297.6ms inference, 1.7ms postprocess per image at shape (1, 3, 480, 640)\n"
          ]
        },
        {
          "output_type": "stream",
          "name": "stderr",
          "text": [
            "\rProcessing: other_cats:  60%|██████████████████████               | 237/398 [01:09<00:49,  3.24it/s]"
          ]
        },
        {
          "output_type": "stream",
          "name": "stdout",
          "text": [
            "\n",
            "0: 640x544 1 cat, 323.8ms\n",
            "Speed: 14.3ms preprocess, 323.8ms inference, 1.7ms postprocess per image at shape (1, 3, 640, 544)\n"
          ]
        },
        {
          "output_type": "stream",
          "name": "stderr",
          "text": [
            "\rProcessing: other_cats:  60%|██████████████████████▏              | 238/398 [01:09<00:52,  3.05it/s]"
          ]
        },
        {
          "output_type": "stream",
          "name": "stdout",
          "text": [
            "\n",
            "0: 480x640 1 cat, 276.5ms\n",
            "Speed: 4.2ms preprocess, 276.5ms inference, 1.7ms postprocess per image at shape (1, 3, 480, 640)\n"
          ]
        },
        {
          "output_type": "stream",
          "name": "stderr",
          "text": [
            "\rProcessing: other_cats:  60%|██████████████████████▏              | 239/398 [01:09<00:51,  3.08it/s]"
          ]
        },
        {
          "output_type": "stream",
          "name": "stdout",
          "text": [
            "\n",
            "0: 480x640 1 cat, 285.2ms\n",
            "Speed: 10.5ms preprocess, 285.2ms inference, 1.6ms postprocess per image at shape (1, 3, 480, 640)\n"
          ]
        },
        {
          "output_type": "stream",
          "name": "stderr",
          "text": [
            "\rProcessing: other_cats:  60%|██████████████████████▎              | 240/398 [01:10<00:51,  3.05it/s]"
          ]
        },
        {
          "output_type": "stream",
          "name": "stdout",
          "text": [
            "\n",
            "0: 480x640 1 cat, 293.8ms\n",
            "Speed: 10.3ms preprocess, 293.8ms inference, 1.5ms postprocess per image at shape (1, 3, 480, 640)\n"
          ]
        },
        {
          "output_type": "stream",
          "name": "stderr",
          "text": [
            "\rProcessing: other_cats:  61%|██████████████████████▍              | 241/398 [01:10<00:52,  3.00it/s]"
          ]
        },
        {
          "output_type": "stream",
          "name": "stdout",
          "text": [
            "\n",
            "0: 448x640 1 cat, 255.2ms\n",
            "Speed: 11.3ms preprocess, 255.2ms inference, 1.7ms postprocess per image at shape (1, 3, 448, 640)\n"
          ]
        },
        {
          "output_type": "stream",
          "name": "stderr",
          "text": [
            "\rProcessing: other_cats:  61%|██████████████████████▍              | 242/398 [01:10<00:50,  3.08it/s]"
          ]
        },
        {
          "output_type": "stream",
          "name": "stdout",
          "text": [
            "\n",
            "0: 480x640 1 cat, 291.1ms\n",
            "Speed: 11.1ms preprocess, 291.1ms inference, 1.8ms postprocess per image at shape (1, 3, 480, 640)\n"
          ]
        },
        {
          "output_type": "stream",
          "name": "stderr",
          "text": [
            "\rProcessing: other_cats:  61%|██████████████████████▌              | 243/398 [01:11<00:51,  3.00it/s]"
          ]
        },
        {
          "output_type": "stream",
          "name": "stdout",
          "text": [
            "\n",
            "0: 480x640 1 cat, 287.4ms\n",
            "Speed: 10.1ms preprocess, 287.4ms inference, 1.7ms postprocess per image at shape (1, 3, 480, 640)\n"
          ]
        },
        {
          "output_type": "stream",
          "name": "stderr",
          "text": [
            "\rProcessing: other_cats:  61%|██████████████████████▋              | 244/398 [01:11<00:51,  2.98it/s]"
          ]
        },
        {
          "output_type": "stream",
          "name": "stdout",
          "text": [
            "\n",
            "0: 640x416 1 cat, 295.2ms\n",
            "Speed: 7.3ms preprocess, 295.2ms inference, 1.8ms postprocess per image at shape (1, 3, 640, 416)\n"
          ]
        },
        {
          "output_type": "stream",
          "name": "stderr",
          "text": [
            "\rProcessing: other_cats:  62%|██████████████████████▊              | 245/398 [01:11<00:51,  2.99it/s]"
          ]
        },
        {
          "output_type": "stream",
          "name": "stdout",
          "text": [
            "\n",
            "0: 480x640 1 cat, 307.6ms\n",
            "Speed: 12.3ms preprocess, 307.6ms inference, 1.8ms postprocess per image at shape (1, 3, 480, 640)\n"
          ]
        },
        {
          "output_type": "stream",
          "name": "stderr",
          "text": [
            "\rProcessing: other_cats:  62%|██████████████████████▊              | 246/398 [01:12<00:51,  2.93it/s]"
          ]
        },
        {
          "output_type": "stream",
          "name": "stdout",
          "text": [
            "\n",
            "0: 640x512 1 cat, 224.0ms\n",
            "Speed: 4.4ms preprocess, 224.0ms inference, 1.2ms postprocess per image at shape (1, 3, 640, 512)\n"
          ]
        },
        {
          "output_type": "stream",
          "name": "stderr",
          "text": [
            "\rProcessing: other_cats:  62%|██████████████████████▉              | 247/398 [01:12<00:47,  3.16it/s]"
          ]
        },
        {
          "output_type": "stream",
          "name": "stdout",
          "text": [
            "\n",
            "0: 480x640 1 cat, 171.0ms\n",
            "Speed: 4.5ms preprocess, 171.0ms inference, 1.4ms postprocess per image at shape (1, 3, 480, 640)\n"
          ]
        },
        {
          "output_type": "stream",
          "name": "stderr",
          "text": [
            "\rProcessing: other_cats:  62%|███████████████████████              | 248/398 [01:12<00:42,  3.55it/s]"
          ]
        },
        {
          "output_type": "stream",
          "name": "stdout",
          "text": [
            "\n",
            "0: 480x640 1 cat, 189.4ms\n",
            "Speed: 4.6ms preprocess, 189.4ms inference, 2.2ms postprocess per image at shape (1, 3, 480, 640)\n"
          ]
        },
        {
          "output_type": "stream",
          "name": "stderr",
          "text": [
            "\rProcessing: other_cats:  63%|███████████████████████▏             | 249/398 [01:12<00:39,  3.79it/s]"
          ]
        },
        {
          "output_type": "stream",
          "name": "stdout",
          "text": [
            "\n",
            "0: 576x640 1 cat, 282.6ms\n",
            "Speed: 6.1ms preprocess, 282.6ms inference, 1.7ms postprocess per image at shape (1, 3, 576, 640)\n"
          ]
        },
        {
          "output_type": "stream",
          "name": "stderr",
          "text": [
            "\rProcessing: other_cats:  63%|███████████████████████▏             | 250/398 [01:13<00:41,  3.55it/s]"
          ]
        },
        {
          "output_type": "stream",
          "name": "stdout",
          "text": [
            "\n",
            "0: 640x544 (no detections), 311.0ms\n",
            "Speed: 4.5ms preprocess, 311.0ms inference, 2.0ms postprocess per image at shape (1, 3, 640, 544)\n"
          ]
        },
        {
          "output_type": "stream",
          "name": "stderr",
          "text": [
            "\rProcessing: other_cats:  63%|███████████████████████▎             | 251/398 [01:13<00:43,  3.36it/s]"
          ]
        },
        {
          "output_type": "stream",
          "name": "stdout",
          "text": [
            "No object detected, deleting /content/drive/MyDrive/datasets/dataset_fla_other/images/other_cats/679.jpg\n",
            "\n",
            "0: 640x640 3 cats, 272.1ms\n",
            "Speed: 10.3ms preprocess, 272.1ms inference, 1.4ms postprocess per image at shape (1, 3, 640, 640)\n"
          ]
        },
        {
          "output_type": "stream",
          "name": "stderr",
          "text": [
            "\rProcessing: other_cats:  63%|███████████████████████▍             | 252/398 [01:13<00:45,  3.18it/s]"
          ]
        },
        {
          "output_type": "stream",
          "name": "stdout",
          "text": [
            "\n",
            "0: 640x480 1 cat, 189.6ms\n",
            "Speed: 7.0ms preprocess, 189.6ms inference, 1.2ms postprocess per image at shape (1, 3, 640, 480)\n"
          ]
        },
        {
          "output_type": "stream",
          "name": "stderr",
          "text": [
            "\rProcessing: other_cats:  64%|███████████████████████▌             | 253/398 [01:14<00:41,  3.47it/s]"
          ]
        },
        {
          "output_type": "stream",
          "name": "stdout",
          "text": [
            "\n",
            "0: 512x640 1 cat, 201.2ms\n",
            "Speed: 7.9ms preprocess, 201.2ms inference, 1.2ms postprocess per image at shape (1, 3, 512, 640)\n"
          ]
        },
        {
          "output_type": "stream",
          "name": "stderr",
          "text": [
            "\rProcessing: other_cats:  64%|███████████████████████▌             | 254/398 [01:14<00:39,  3.67it/s]"
          ]
        },
        {
          "output_type": "stream",
          "name": "stdout",
          "text": [
            "\n",
            "0: 640x640 (no detections), 247.7ms\n",
            "Speed: 5.3ms preprocess, 247.7ms inference, 0.9ms postprocess per image at shape (1, 3, 640, 640)\n"
          ]
        },
        {
          "output_type": "stream",
          "name": "stderr",
          "text": [
            "\rProcessing: other_cats:  64%|███████████████████████▋             | 255/398 [01:14<00:39,  3.65it/s]"
          ]
        },
        {
          "output_type": "stream",
          "name": "stdout",
          "text": [
            "No object detected, deleting /content/drive/MyDrive/datasets/dataset_fla_other/images/other_cats/685.jpg\n",
            "\n",
            "0: 480x640 1 cat, 190.6ms\n",
            "Speed: 10.4ms preprocess, 190.6ms inference, 1.5ms postprocess per image at shape (1, 3, 480, 640)\n"
          ]
        },
        {
          "output_type": "stream",
          "name": "stderr",
          "text": [
            "\rProcessing: other_cats:  64%|███████████████████████▊             | 256/398 [01:14<00:38,  3.73it/s]"
          ]
        },
        {
          "output_type": "stream",
          "name": "stdout",
          "text": [
            "\n",
            "0: 640x640 1 cat, 246.3ms\n",
            "Speed: 5.5ms preprocess, 246.3ms inference, 1.4ms postprocess per image at shape (1, 3, 640, 640)\n"
          ]
        },
        {
          "output_type": "stream",
          "name": "stderr",
          "text": [
            "\rProcessing: other_cats:  65%|███████████████████████▉             | 257/398 [01:15<00:38,  3.65it/s]"
          ]
        },
        {
          "output_type": "stream",
          "name": "stdout",
          "text": [
            "\n",
            "0: 512x640 1 cat, 218.3ms\n",
            "Speed: 6.2ms preprocess, 218.3ms inference, 1.2ms postprocess per image at shape (1, 3, 512, 640)\n"
          ]
        },
        {
          "output_type": "stream",
          "name": "stderr",
          "text": [
            "\rProcessing: other_cats:  65%|███████████████████████▉             | 258/398 [01:15<00:37,  3.74it/s]"
          ]
        },
        {
          "output_type": "stream",
          "name": "stdout",
          "text": [
            "\n",
            "0: 480x640 1 cat, 175.2ms\n",
            "Speed: 4.5ms preprocess, 175.2ms inference, 1.2ms postprocess per image at shape (1, 3, 480, 640)\n"
          ]
        },
        {
          "output_type": "stream",
          "name": "stderr",
          "text": [
            "\rProcessing: other_cats:  65%|████████████████████████             | 259/398 [01:15<00:34,  4.01it/s]"
          ]
        },
        {
          "output_type": "stream",
          "name": "stdout",
          "text": [
            "\n",
            "0: 576x640 1 cat, 236.2ms\n",
            "Speed: 8.7ms preprocess, 236.2ms inference, 1.7ms postprocess per image at shape (1, 3, 576, 640)\n"
          ]
        },
        {
          "output_type": "stream",
          "name": "stderr",
          "text": [
            "\rProcessing: other_cats:  65%|████████████████████████▏            | 260/398 [01:15<00:35,  3.91it/s]"
          ]
        },
        {
          "output_type": "stream",
          "name": "stdout",
          "text": [
            "\n",
            "0: 512x640 1 cat, 207.5ms\n",
            "Speed: 4.6ms preprocess, 207.5ms inference, 1.2ms postprocess per image at shape (1, 3, 512, 640)\n"
          ]
        },
        {
          "output_type": "stream",
          "name": "stderr",
          "text": [
            "\rProcessing: other_cats:  66%|████████████████████████▎            | 261/398 [01:16<00:34,  3.99it/s]"
          ]
        },
        {
          "output_type": "stream",
          "name": "stdout",
          "text": [
            "\n",
            "0: 544x640 2 cats, 200.1ms\n",
            "Speed: 5.1ms preprocess, 200.1ms inference, 1.5ms postprocess per image at shape (1, 3, 544, 640)\n"
          ]
        },
        {
          "output_type": "stream",
          "name": "stderr",
          "text": [
            "\rProcessing: other_cats:  66%|████████████████████████▎            | 262/398 [01:16<00:33,  4.05it/s]"
          ]
        },
        {
          "output_type": "stream",
          "name": "stdout",
          "text": [
            "\n",
            "0: 640x416 (no detections), 157.6ms\n",
            "Speed: 4.9ms preprocess, 157.6ms inference, 0.9ms postprocess per image at shape (1, 3, 640, 416)\n",
            "No object detected, deleting /content/drive/MyDrive/datasets/dataset_fla_other/images/other_cats/689.jpg\n"
          ]
        },
        {
          "output_type": "stream",
          "name": "stderr",
          "text": [
            "\rProcessing: other_cats:  66%|████████████████████████▍            | 263/398 [01:16<00:30,  4.40it/s]"
          ]
        },
        {
          "output_type": "stream",
          "name": "stdout",
          "text": [
            "\n",
            "0: 576x640 1 cat, 227.6ms\n",
            "Speed: 7.0ms preprocess, 227.6ms inference, 1.3ms postprocess per image at shape (1, 3, 576, 640)\n"
          ]
        },
        {
          "output_type": "stream",
          "name": "stderr",
          "text": [
            "\rProcessing: other_cats:  66%|████████████████████████▌            | 264/398 [01:16<00:31,  4.22it/s]"
          ]
        },
        {
          "output_type": "stream",
          "name": "stdout",
          "text": [
            "\n",
            "0: 608x640 1 cat, 233.4ms\n",
            "Speed: 6.6ms preprocess, 233.4ms inference, 1.2ms postprocess per image at shape (1, 3, 608, 640)\n"
          ]
        },
        {
          "output_type": "stream",
          "name": "stderr",
          "text": [
            "\rProcessing: other_cats:  67%|████████████████████████▋            | 265/398 [01:17<00:32,  4.05it/s]"
          ]
        },
        {
          "output_type": "stream",
          "name": "stdout",
          "text": [
            "\n",
            "0: 576x640 1 cat, 212.7ms\n",
            "Speed: 4.9ms preprocess, 212.7ms inference, 1.4ms postprocess per image at shape (1, 3, 576, 640)\n"
          ]
        },
        {
          "output_type": "stream",
          "name": "stderr",
          "text": [
            "\rProcessing: other_cats:  67%|████████████████████████▋            | 266/398 [01:17<00:32,  4.06it/s]"
          ]
        },
        {
          "output_type": "stream",
          "name": "stdout",
          "text": [
            "\n",
            "0: 416x640 1 cat, 152.5ms\n",
            "Speed: 3.5ms preprocess, 152.5ms inference, 1.2ms postprocess per image at shape (1, 3, 416, 640)\n"
          ]
        },
        {
          "output_type": "stream",
          "name": "stderr",
          "text": [
            "\rProcessing: other_cats:  67%|████████████████████████▊            | 267/398 [01:17<00:29,  4.42it/s]"
          ]
        },
        {
          "output_type": "stream",
          "name": "stdout",
          "text": [
            "\n",
            "0: 640x480 1 cat, 178.5ms\n",
            "Speed: 4.1ms preprocess, 178.5ms inference, 1.1ms postprocess per image at shape (1, 3, 640, 480)\n"
          ]
        },
        {
          "output_type": "stream",
          "name": "stderr",
          "text": [
            "\rProcessing: other_cats:  67%|████████████████████████▉            | 268/398 [01:17<00:28,  4.50it/s]"
          ]
        },
        {
          "output_type": "stream",
          "name": "stdout",
          "text": [
            "\n",
            "0: 640x576 1 cat, 224.7ms\n",
            "Speed: 8.2ms preprocess, 224.7ms inference, 1.3ms postprocess per image at shape (1, 3, 640, 576)\n"
          ]
        },
        {
          "output_type": "stream",
          "name": "stderr",
          "text": [
            "\rProcessing: other_cats:  68%|█████████████████████████            | 269/398 [01:17<00:30,  4.19it/s]"
          ]
        },
        {
          "output_type": "stream",
          "name": "stdout",
          "text": [
            "\n",
            "0: 448x640 1 cat, 169.3ms\n",
            "Speed: 3.9ms preprocess, 169.3ms inference, 2.0ms postprocess per image at shape (1, 3, 448, 640)\n"
          ]
        },
        {
          "output_type": "stream",
          "name": "stderr",
          "text": [
            "\rProcessing: other_cats:  68%|█████████████████████████            | 270/398 [01:18<00:29,  4.40it/s]"
          ]
        },
        {
          "output_type": "stream",
          "name": "stdout",
          "text": [
            "\n",
            "0: 608x640 (no detections), 229.7ms\n",
            "Speed: 8.0ms preprocess, 229.7ms inference, 0.9ms postprocess per image at shape (1, 3, 608, 640)\n"
          ]
        },
        {
          "output_type": "stream",
          "name": "stderr",
          "text": [
            "\rProcessing: other_cats:  68%|█████████████████████████▏           | 271/398 [01:18<00:30,  4.23it/s]"
          ]
        },
        {
          "output_type": "stream",
          "name": "stdout",
          "text": [
            "No object detected, deleting /content/drive/MyDrive/datasets/dataset_fla_other/images/other_cats/700.jpg\n",
            "\n",
            "0: 480x640 1 cat, 178.2ms\n",
            "Speed: 6.5ms preprocess, 178.2ms inference, 1.1ms postprocess per image at shape (1, 3, 480, 640)\n"
          ]
        },
        {
          "output_type": "stream",
          "name": "stderr",
          "text": [
            "\rProcessing: other_cats:  68%|█████████████████████████▎           | 272/398 [01:18<00:28,  4.35it/s]"
          ]
        },
        {
          "output_type": "stream",
          "name": "stdout",
          "text": [
            "\n",
            "0: 640x544 1 cat, 211.2ms\n",
            "Speed: 7.5ms preprocess, 211.2ms inference, 1.3ms postprocess per image at shape (1, 3, 640, 544)\n"
          ]
        },
        {
          "output_type": "stream",
          "name": "stderr",
          "text": [
            "\rProcessing: other_cats:  69%|█████████████████████████▍           | 273/398 [01:18<00:29,  4.27it/s]"
          ]
        },
        {
          "output_type": "stream",
          "name": "stdout",
          "text": [
            "\n",
            "0: 512x640 1 cat, 184.9ms\n",
            "Speed: 4.3ms preprocess, 184.9ms inference, 1.3ms postprocess per image at shape (1, 3, 512, 640)\n"
          ]
        },
        {
          "output_type": "stream",
          "name": "stderr",
          "text": [
            "\rProcessing: other_cats:  69%|█████████████████████████▍           | 274/398 [01:19<00:28,  4.28it/s]"
          ]
        },
        {
          "output_type": "stream",
          "name": "stdout",
          "text": [
            "\n",
            "0: 480x640 1 cat, 185.0ms\n",
            "Speed: 4.1ms preprocess, 185.0ms inference, 1.4ms postprocess per image at shape (1, 3, 480, 640)\n"
          ]
        },
        {
          "output_type": "stream",
          "name": "stderr",
          "text": [
            "\rProcessing: other_cats:  69%|█████████████████████████▌           | 275/398 [01:19<00:28,  4.37it/s]"
          ]
        },
        {
          "output_type": "stream",
          "name": "stdout",
          "text": [
            "\n",
            "0: 640x640 (no detections), 250.6ms\n",
            "Speed: 7.9ms preprocess, 250.6ms inference, 1.1ms postprocess per image at shape (1, 3, 640, 640)\n"
          ]
        },
        {
          "output_type": "stream",
          "name": "stderr",
          "text": [
            "\rProcessing: other_cats:  69%|█████████████████████████▋           | 276/398 [01:19<00:29,  4.08it/s]"
          ]
        },
        {
          "output_type": "stream",
          "name": "stdout",
          "text": [
            "No object detected, deleting /content/drive/MyDrive/datasets/dataset_fla_other/images/other_cats/702.jpg\n",
            "\n",
            "0: 480x640 1 cat, 177.1ms\n",
            "Speed: 6.6ms preprocess, 177.1ms inference, 1.7ms postprocess per image at shape (1, 3, 480, 640)\n"
          ]
        },
        {
          "output_type": "stream",
          "name": "stderr",
          "text": [
            "\rProcessing: other_cats:  70%|█████████████████████████▊           | 277/398 [01:19<00:28,  4.21it/s]"
          ]
        },
        {
          "output_type": "stream",
          "name": "stdout",
          "text": [
            "\n",
            "0: 512x640 1 cat, 190.9ms\n",
            "Speed: 7.0ms preprocess, 190.9ms inference, 1.3ms postprocess per image at shape (1, 3, 512, 640)\n"
          ]
        },
        {
          "output_type": "stream",
          "name": "stderr",
          "text": [
            "\rProcessing: other_cats:  70%|█████████████████████████▊           | 278/398 [01:20<00:28,  4.26it/s]"
          ]
        },
        {
          "output_type": "stream",
          "name": "stdout",
          "text": [
            "\n",
            "0: 480x640 1 cat, 191.4ms\n",
            "Speed: 4.2ms preprocess, 191.4ms inference, 1.2ms postprocess per image at shape (1, 3, 480, 640)\n"
          ]
        },
        {
          "output_type": "stream",
          "name": "stderr",
          "text": [
            "\rProcessing: other_cats:  70%|█████████████████████████▉           | 279/398 [01:20<00:28,  4.22it/s]"
          ]
        },
        {
          "output_type": "stream",
          "name": "stdout",
          "text": [
            "\n",
            "0: 640x512 1 cat, 194.0ms\n",
            "Speed: 7.5ms preprocess, 194.0ms inference, 1.4ms postprocess per image at shape (1, 3, 640, 512)\n"
          ]
        },
        {
          "output_type": "stream",
          "name": "stderr",
          "text": [
            "\rProcessing: other_cats:  70%|██████████████████████████           | 280/398 [01:20<00:28,  4.21it/s]"
          ]
        },
        {
          "output_type": "stream",
          "name": "stdout",
          "text": [
            "\n",
            "0: 480x640 1 cat, 172.8ms\n",
            "Speed: 4.0ms preprocess, 172.8ms inference, 1.2ms postprocess per image at shape (1, 3, 480, 640)\n"
          ]
        },
        {
          "output_type": "stream",
          "name": "stderr",
          "text": [
            "\rProcessing: other_cats:  71%|██████████████████████████           | 281/398 [01:20<00:26,  4.40it/s]"
          ]
        },
        {
          "output_type": "stream",
          "name": "stdout",
          "text": [
            "\n",
            "0: 512x640 2 cats, 205.7ms\n",
            "Speed: 6.8ms preprocess, 205.7ms inference, 1.2ms postprocess per image at shape (1, 3, 512, 640)\n"
          ]
        },
        {
          "output_type": "stream",
          "name": "stderr",
          "text": [
            "\rProcessing: other_cats:  71%|██████████████████████████▏          | 282/398 [01:20<00:27,  4.28it/s]"
          ]
        },
        {
          "output_type": "stream",
          "name": "stdout",
          "text": [
            "\n",
            "0: 640x288 4 cats, 126.1ms\n",
            "Speed: 2.6ms preprocess, 126.1ms inference, 1.1ms postprocess per image at shape (1, 3, 640, 288)\n"
          ]
        },
        {
          "output_type": "stream",
          "name": "stderr",
          "text": [
            "\rProcessing: other_cats:  71%|██████████████████████████▎          | 283/398 [01:21<00:24,  4.64it/s]"
          ]
        },
        {
          "output_type": "stream",
          "name": "stdout",
          "text": [
            "\n",
            "0: 512x640 2 cats, 204.0ms\n",
            "Speed: 4.3ms preprocess, 204.0ms inference, 1.2ms postprocess per image at shape (1, 3, 512, 640)\n"
          ]
        },
        {
          "output_type": "stream",
          "name": "stderr",
          "text": [
            "\rProcessing: other_cats:  71%|██████████████████████████▍          | 284/398 [01:21<00:25,  4.49it/s]"
          ]
        },
        {
          "output_type": "stream",
          "name": "stdout",
          "text": [
            "\n",
            "0: 480x640 1 cat, 177.1ms\n",
            "Speed: 3.7ms preprocess, 177.1ms inference, 1.5ms postprocess per image at shape (1, 3, 480, 640)\n"
          ]
        },
        {
          "output_type": "stream",
          "name": "stderr",
          "text": [
            "\rProcessing: other_cats:  72%|██████████████████████████▍          | 285/398 [01:21<00:25,  4.42it/s]"
          ]
        },
        {
          "output_type": "stream",
          "name": "stdout",
          "text": [
            "\n",
            "0: 448x640 1 cat, 178.9ms\n",
            "Speed: 10.6ms preprocess, 178.9ms inference, 1.4ms postprocess per image at shape (1, 3, 448, 640)\n"
          ]
        },
        {
          "output_type": "stream",
          "name": "stderr",
          "text": [
            "\rProcessing: other_cats:  72%|██████████████████████████▌          | 286/398 [01:21<00:25,  4.46it/s]"
          ]
        },
        {
          "output_type": "stream",
          "name": "stdout",
          "text": [
            "\n",
            "0: 640x512 2 cats, 191.6ms\n",
            "Speed: 6.8ms preprocess, 191.6ms inference, 1.4ms postprocess per image at shape (1, 3, 640, 512)\n"
          ]
        },
        {
          "output_type": "stream",
          "name": "stderr",
          "text": [
            "\rProcessing: other_cats:  72%|██████████████████████████▋          | 287/398 [01:22<00:25,  4.41it/s]"
          ]
        },
        {
          "output_type": "stream",
          "name": "stdout",
          "text": [
            "\n",
            "0: 352x640 1 cat, 128.9ms\n",
            "Speed: 3.4ms preprocess, 128.9ms inference, 1.2ms postprocess per image at shape (1, 3, 352, 640)\n"
          ]
        },
        {
          "output_type": "stream",
          "name": "stderr",
          "text": [
            "\rProcessing: other_cats:  72%|██████████████████████████▊          | 288/398 [01:22<00:22,  4.86it/s]"
          ]
        },
        {
          "output_type": "stream",
          "name": "stdout",
          "text": [
            "\n",
            "0: 480x640 1 cat, 291.4ms\n",
            "Speed: 6.3ms preprocess, 291.4ms inference, 1.8ms postprocess per image at shape (1, 3, 480, 640)\n"
          ]
        },
        {
          "output_type": "stream",
          "name": "stderr",
          "text": [
            "\rProcessing: other_cats:  73%|██████████████████████████▊          | 289/398 [01:22<00:26,  4.13it/s]"
          ]
        },
        {
          "output_type": "stream",
          "name": "stdout",
          "text": [
            "\n",
            "0: 512x640 1 cat, 304.2ms\n",
            "Speed: 6.7ms preprocess, 304.2ms inference, 1.5ms postprocess per image at shape (1, 3, 512, 640)\n"
          ]
        },
        {
          "output_type": "stream",
          "name": "stderr",
          "text": [
            "\rProcessing: other_cats:  73%|██████████████████████████▉          | 290/398 [01:22<00:29,  3.67it/s]"
          ]
        },
        {
          "output_type": "stream",
          "name": "stdout",
          "text": [
            "\n",
            "0: 480x640 1 cat, 280.4ms\n",
            "Speed: 4.1ms preprocess, 280.4ms inference, 1.6ms postprocess per image at shape (1, 3, 480, 640)\n"
          ]
        },
        {
          "output_type": "stream",
          "name": "stderr",
          "text": [
            "\rProcessing: other_cats:  73%|███████████████████████████          | 291/398 [01:23<00:30,  3.51it/s]"
          ]
        },
        {
          "output_type": "stream",
          "name": "stdout",
          "text": [
            "\n",
            "0: 480x640 1 cat, 269.1ms\n",
            "Speed: 6.1ms preprocess, 269.1ms inference, 1.7ms postprocess per image at shape (1, 3, 480, 640)\n"
          ]
        },
        {
          "output_type": "stream",
          "name": "stderr",
          "text": [
            "\rProcessing: other_cats:  73%|███████████████████████████▏         | 292/398 [01:23<00:30,  3.46it/s]"
          ]
        },
        {
          "output_type": "stream",
          "name": "stdout",
          "text": [
            "\n",
            "0: 640x448 1 cat, 256.4ms\n",
            "Speed: 6.2ms preprocess, 256.4ms inference, 1.6ms postprocess per image at shape (1, 3, 640, 448)\n"
          ]
        },
        {
          "output_type": "stream",
          "name": "stderr",
          "text": [
            "\rProcessing: other_cats:  74%|███████████████████████████▏         | 293/398 [01:23<00:30,  3.46it/s]"
          ]
        },
        {
          "output_type": "stream",
          "name": "stdout",
          "text": [
            "\n",
            "0: 640x544 (no detections), 316.3ms\n",
            "Speed: 7.5ms preprocess, 316.3ms inference, 1.3ms postprocess per image at shape (1, 3, 640, 544)\n"
          ]
        },
        {
          "output_type": "stream",
          "name": "stderr",
          "text": [
            "\rProcessing: other_cats:  74%|███████████████████████████▎         | 294/398 [01:24<00:31,  3.25it/s]"
          ]
        },
        {
          "output_type": "stream",
          "name": "stdout",
          "text": [
            "No object detected, deleting /content/drive/MyDrive/datasets/dataset_fla_other/images/other_cats/724.jpg\n",
            "\n",
            "0: 480x640 1 cat, 299.9ms\n",
            "Speed: 9.8ms preprocess, 299.9ms inference, 1.7ms postprocess per image at shape (1, 3, 480, 640)\n"
          ]
        },
        {
          "output_type": "stream",
          "name": "stderr",
          "text": [
            "\rProcessing: other_cats:  74%|███████████████████████████▍         | 295/398 [01:24<00:33,  3.09it/s]"
          ]
        },
        {
          "output_type": "stream",
          "name": "stdout",
          "text": [
            "\n",
            "0: 640x576 (no detections), 382.2ms\n",
            "Speed: 8.9ms preprocess, 382.2ms inference, 1.6ms postprocess per image at shape (1, 3, 640, 576)\n"
          ]
        },
        {
          "output_type": "stream",
          "name": "stderr",
          "text": [
            "\rProcessing: other_cats:  74%|███████████████████████████▌         | 296/398 [01:24<00:35,  2.85it/s]"
          ]
        },
        {
          "output_type": "stream",
          "name": "stdout",
          "text": [
            "No object detected, deleting /content/drive/MyDrive/datasets/dataset_fla_other/images/other_cats/725.jpg\n",
            "\n",
            "0: 384x640 2 cats, 220.3ms\n",
            "Speed: 7.0ms preprocess, 220.3ms inference, 1.7ms postprocess per image at shape (1, 3, 384, 640)\n"
          ]
        },
        {
          "output_type": "stream",
          "name": "stderr",
          "text": [
            "\rProcessing: other_cats:  75%|███████████████████████████▌         | 297/398 [01:25<00:33,  3.06it/s]"
          ]
        },
        {
          "output_type": "stream",
          "name": "stdout",
          "text": [
            "\n",
            "0: 256x640 1 cat, 170.2ms\n",
            "Speed: 2.4ms preprocess, 170.2ms inference, 1.4ms postprocess per image at shape (1, 3, 256, 640)\n"
          ]
        },
        {
          "output_type": "stream",
          "name": "stderr",
          "text": [
            "\rProcessing: other_cats:  75%|███████████████████████████▋         | 298/398 [01:25<00:29,  3.45it/s]"
          ]
        },
        {
          "output_type": "stream",
          "name": "stdout",
          "text": [
            "\n",
            "0: 640x640 1 cat, 400.0ms\n",
            "Speed: 5.2ms preprocess, 400.0ms inference, 1.6ms postprocess per image at shape (1, 3, 640, 640)\n"
          ]
        },
        {
          "output_type": "stream",
          "name": "stderr",
          "text": [
            "\rProcessing: other_cats:  75%|███████████████████████████▊         | 299/398 [01:25<00:33,  2.96it/s]"
          ]
        },
        {
          "output_type": "stream",
          "name": "stdout",
          "text": [
            "\n",
            "0: 448x640 1 cat, 271.2ms\n",
            "Speed: 6.0ms preprocess, 271.2ms inference, 1.6ms postprocess per image at shape (1, 3, 448, 640)\n"
          ]
        },
        {
          "output_type": "stream",
          "name": "stderr",
          "text": [
            "\rProcessing: other_cats:  75%|███████████████████████████▉         | 300/398 [01:26<00:32,  3.03it/s]"
          ]
        },
        {
          "output_type": "stream",
          "name": "stdout",
          "text": [
            "\n",
            "0: 576x640 1 cat, 363.3ms\n",
            "Speed: 9.8ms preprocess, 363.3ms inference, 1.8ms postprocess per image at shape (1, 3, 576, 640)\n"
          ]
        },
        {
          "output_type": "stream",
          "name": "stderr",
          "text": [
            "\rProcessing: other_cats:  76%|███████████████████████████▉         | 301/398 [01:26<00:34,  2.83it/s]"
          ]
        },
        {
          "output_type": "stream",
          "name": "stdout",
          "text": [
            "\n",
            "0: 640x448 1 cat, 277.2ms\n",
            "Speed: 5.3ms preprocess, 277.2ms inference, 1.7ms postprocess per image at shape (1, 3, 640, 448)\n"
          ]
        },
        {
          "output_type": "stream",
          "name": "stderr",
          "text": [
            "\rProcessing: other_cats:  76%|████████████████████████████         | 302/398 [01:26<00:33,  2.90it/s]"
          ]
        },
        {
          "output_type": "stream",
          "name": "stdout",
          "text": [
            "\n",
            "0: 448x640 1 cat, 265.3ms\n",
            "Speed: 11.1ms preprocess, 265.3ms inference, 1.7ms postprocess per image at shape (1, 3, 448, 640)\n"
          ]
        },
        {
          "output_type": "stream",
          "name": "stderr",
          "text": [
            "\rProcessing: other_cats:  76%|████████████████████████████▏        | 303/398 [01:27<00:32,  2.92it/s]"
          ]
        },
        {
          "output_type": "stream",
          "name": "stdout",
          "text": [
            "\n",
            "0: 640x480 1 cat, 281.5ms\n",
            "Speed: 7.5ms preprocess, 281.5ms inference, 1.2ms postprocess per image at shape (1, 3, 640, 480)\n"
          ]
        },
        {
          "output_type": "stream",
          "name": "stderr",
          "text": [
            "\rProcessing: other_cats:  76%|████████████████████████████▎        | 304/398 [01:27<00:31,  2.98it/s]"
          ]
        },
        {
          "output_type": "stream",
          "name": "stdout",
          "text": [
            "\n",
            "0: 640x544 1 cat, 224.7ms\n",
            "Speed: 7.2ms preprocess, 224.7ms inference, 1.7ms postprocess per image at shape (1, 3, 640, 544)\n"
          ]
        },
        {
          "output_type": "stream",
          "name": "stderr",
          "text": [
            "\rProcessing: other_cats:  77%|████████████████████████████▎        | 305/398 [01:27<00:29,  3.18it/s]"
          ]
        },
        {
          "output_type": "stream",
          "name": "stdout",
          "text": [
            "\n",
            "0: 448x640 1 cat, 209.6ms\n",
            "Speed: 6.5ms preprocess, 209.6ms inference, 1.4ms postprocess per image at shape (1, 3, 448, 640)\n"
          ]
        },
        {
          "output_type": "stream",
          "name": "stderr",
          "text": [
            "\rProcessing: other_cats:  77%|████████████████████████████▍        | 306/398 [01:28<00:27,  3.39it/s]"
          ]
        },
        {
          "output_type": "stream",
          "name": "stdout",
          "text": [
            "\n",
            "0: 512x640 1 cat, 267.9ms\n",
            "Speed: 7.1ms preprocess, 267.9ms inference, 1.6ms postprocess per image at shape (1, 3, 512, 640)\n"
          ]
        },
        {
          "output_type": "stream",
          "name": "stderr",
          "text": [
            "\rProcessing: other_cats:  77%|████████████████████████████▌        | 307/398 [01:28<00:27,  3.34it/s]"
          ]
        },
        {
          "output_type": "stream",
          "name": "stdout",
          "text": [
            "\n",
            "0: 480x640 1 cat, 236.9ms\n",
            "Speed: 10.6ms preprocess, 236.9ms inference, 1.7ms postprocess per image at shape (1, 3, 480, 640)\n"
          ]
        },
        {
          "output_type": "stream",
          "name": "stderr",
          "text": [
            "\rProcessing: other_cats:  77%|████████████████████████████▋        | 308/398 [01:28<00:27,  3.33it/s]"
          ]
        },
        {
          "output_type": "stream",
          "name": "stdout",
          "text": [
            "\n",
            "0: 480x640 (no detections), 176.5ms\n",
            "Speed: 7.2ms preprocess, 176.5ms inference, 1.0ms postprocess per image at shape (1, 3, 480, 640)\n"
          ]
        },
        {
          "output_type": "stream",
          "name": "stderr",
          "text": [
            "\rProcessing: other_cats:  78%|████████████████████████████▋        | 309/398 [01:28<00:24,  3.70it/s]"
          ]
        },
        {
          "output_type": "stream",
          "name": "stdout",
          "text": [
            "No object detected, deleting /content/drive/MyDrive/datasets/dataset_fla_other/images/other_cats/737.jpg\n",
            "\n",
            "0: 448x640 1 cat, 165.9ms\n",
            "Speed: 4.1ms preprocess, 165.9ms inference, 1.1ms postprocess per image at shape (1, 3, 448, 640)\n"
          ]
        },
        {
          "output_type": "stream",
          "name": "stderr",
          "text": [
            "\rProcessing: other_cats:  78%|████████████████████████████▊        | 310/398 [01:29<00:22,  3.99it/s]"
          ]
        },
        {
          "output_type": "stream",
          "name": "stdout",
          "text": [
            "\n",
            "0: 480x640 1 cat, 173.3ms\n",
            "Speed: 6.2ms preprocess, 173.3ms inference, 1.2ms postprocess per image at shape (1, 3, 480, 640)\n"
          ]
        },
        {
          "output_type": "stream",
          "name": "stderr",
          "text": [
            "\rProcessing: other_cats:  78%|████████████████████████████▉        | 311/398 [01:29<00:21,  4.14it/s]"
          ]
        },
        {
          "output_type": "stream",
          "name": "stdout",
          "text": [
            "\n",
            "0: 288x640 1 cat, 118.0ms\n",
            "Speed: 4.1ms preprocess, 118.0ms inference, 1.0ms postprocess per image at shape (1, 3, 288, 640)\n"
          ]
        },
        {
          "output_type": "stream",
          "name": "stderr",
          "text": [
            "\rProcessing: other_cats:  78%|█████████████████████████████        | 312/398 [01:29<00:18,  4.68it/s]"
          ]
        },
        {
          "output_type": "stream",
          "name": "stdout",
          "text": [
            "\n",
            "0: 448x640 1 cat, 160.8ms\n",
            "Speed: 4.2ms preprocess, 160.8ms inference, 1.1ms postprocess per image at shape (1, 3, 448, 640)\n"
          ]
        },
        {
          "output_type": "stream",
          "name": "stderr",
          "text": [
            "\rProcessing: other_cats:  79%|█████████████████████████████        | 313/398 [01:29<00:17,  4.85it/s]"
          ]
        },
        {
          "output_type": "stream",
          "name": "stdout",
          "text": [
            "\n",
            "0: 480x640 1 cat, 196.1ms\n",
            "Speed: 7.0ms preprocess, 196.1ms inference, 1.2ms postprocess per image at shape (1, 3, 480, 640)\n"
          ]
        },
        {
          "output_type": "stream",
          "name": "stderr",
          "text": [
            "\rProcessing: other_cats:  79%|█████████████████████████████▏       | 314/398 [01:29<00:18,  4.58it/s]"
          ]
        },
        {
          "output_type": "stream",
          "name": "stdout",
          "text": [
            "\n",
            "0: 480x640 1 cat, 172.8ms\n",
            "Speed: 6.8ms preprocess, 172.8ms inference, 1.2ms postprocess per image at shape (1, 3, 480, 640)\n"
          ]
        },
        {
          "output_type": "stream",
          "name": "stderr",
          "text": [
            "\rProcessing: other_cats:  79%|█████████████████████████████▎       | 315/398 [01:30<00:17,  4.67it/s]"
          ]
        },
        {
          "output_type": "stream",
          "name": "stdout",
          "text": [
            "\n",
            "0: 448x640 1 cat, 166.5ms\n",
            "Speed: 6.3ms preprocess, 166.5ms inference, 1.1ms postprocess per image at shape (1, 3, 448, 640)\n"
          ]
        },
        {
          "output_type": "stream",
          "name": "stderr",
          "text": [
            "\rProcessing: other_cats:  79%|█████████████████████████████▍       | 316/398 [01:30<00:17,  4.74it/s]"
          ]
        },
        {
          "output_type": "stream",
          "name": "stdout",
          "text": [
            "\n",
            "0: 640x480 1 cat, 175.2ms\n",
            "Speed: 4.4ms preprocess, 175.2ms inference, 1.2ms postprocess per image at shape (1, 3, 640, 480)\n"
          ]
        },
        {
          "output_type": "stream",
          "name": "stderr",
          "text": [
            "\rProcessing: other_cats:  80%|█████████████████████████████▍       | 317/398 [01:30<00:17,  4.74it/s]"
          ]
        },
        {
          "output_type": "stream",
          "name": "stdout",
          "text": [
            "\n",
            "0: 512x640 1 cat, 200.2ms\n",
            "Speed: 5.7ms preprocess, 200.2ms inference, 2.1ms postprocess per image at shape (1, 3, 512, 640)\n"
          ]
        },
        {
          "output_type": "stream",
          "name": "stderr",
          "text": [
            "\rProcessing: other_cats:  80%|█████████████████████████████▌       | 318/398 [01:30<00:17,  4.58it/s]"
          ]
        },
        {
          "output_type": "stream",
          "name": "stdout",
          "text": [
            "\n",
            "0: 480x640 1 cat, 194.2ms\n",
            "Speed: 6.1ms preprocess, 194.2ms inference, 1.3ms postprocess per image at shape (1, 3, 480, 640)\n"
          ]
        },
        {
          "output_type": "stream",
          "name": "stderr",
          "text": [
            "\rProcessing: other_cats:  80%|█████████████████████████████▋       | 319/398 [01:30<00:17,  4.52it/s]"
          ]
        },
        {
          "output_type": "stream",
          "name": "stdout",
          "text": [
            "\n",
            "0: 544x640 (no detections), 211.9ms\n",
            "Speed: 7.3ms preprocess, 211.9ms inference, 1.4ms postprocess per image at shape (1, 3, 544, 640)\n"
          ]
        },
        {
          "output_type": "stream",
          "name": "stderr",
          "text": [
            "\rProcessing: other_cats:  80%|█████████████████████████████▋       | 320/398 [01:31<00:17,  4.38it/s]"
          ]
        },
        {
          "output_type": "stream",
          "name": "stdout",
          "text": [
            "No object detected, deleting /content/drive/MyDrive/datasets/dataset_fla_other/images/other_cats/753.jpg\n",
            "\n",
            "0: 512x640 1 cat, 199.7ms\n",
            "Speed: 10.6ms preprocess, 199.7ms inference, 1.3ms postprocess per image at shape (1, 3, 512, 640)\n"
          ]
        },
        {
          "output_type": "stream",
          "name": "stderr",
          "text": [
            "\rProcessing: other_cats:  81%|█████████████████████████████▊       | 321/398 [01:31<00:18,  4.23it/s]"
          ]
        },
        {
          "output_type": "stream",
          "name": "stdout",
          "text": [
            "\n",
            "0: 480x640 1 cat, 171.3ms\n",
            "Speed: 6.6ms preprocess, 171.3ms inference, 1.2ms postprocess per image at shape (1, 3, 480, 640)\n"
          ]
        },
        {
          "output_type": "stream",
          "name": "stderr",
          "text": [
            "\rProcessing: other_cats:  81%|█████████████████████████████▉       | 322/398 [01:31<00:17,  4.40it/s]"
          ]
        },
        {
          "output_type": "stream",
          "name": "stdout",
          "text": [
            "\n",
            "0: 480x640 1 cat, 192.0ms\n",
            "Speed: 6.4ms preprocess, 192.0ms inference, 1.2ms postprocess per image at shape (1, 3, 480, 640)\n"
          ]
        },
        {
          "output_type": "stream",
          "name": "stderr",
          "text": [
            "\rProcessing: other_cats:  81%|██████████████████████████████       | 323/398 [01:31<00:17,  4.41it/s]"
          ]
        },
        {
          "output_type": "stream",
          "name": "stdout",
          "text": [
            "\n",
            "0: 608x640 1 cat, 229.3ms\n",
            "Speed: 8.2ms preprocess, 229.3ms inference, 1.3ms postprocess per image at shape (1, 3, 608, 640)\n"
          ]
        },
        {
          "output_type": "stream",
          "name": "stderr",
          "text": [
            "\rProcessing: other_cats:  81%|██████████████████████████████       | 324/398 [01:32<00:18,  4.10it/s]"
          ]
        },
        {
          "output_type": "stream",
          "name": "stdout",
          "text": [
            "\n",
            "0: 480x640 1 cat, 175.3ms\n",
            "Speed: 8.4ms preprocess, 175.3ms inference, 1.2ms postprocess per image at shape (1, 3, 480, 640)\n"
          ]
        },
        {
          "output_type": "stream",
          "name": "stderr",
          "text": [
            "\rProcessing: other_cats:  82%|██████████████████████████████▏      | 325/398 [01:32<00:17,  4.27it/s]"
          ]
        },
        {
          "output_type": "stream",
          "name": "stdout",
          "text": [
            "\n",
            "0: 640x544 1 cat, 205.4ms\n",
            "Speed: 8.9ms preprocess, 205.4ms inference, 1.3ms postprocess per image at shape (1, 3, 640, 544)\n"
          ]
        },
        {
          "output_type": "stream",
          "name": "stderr",
          "text": [
            "\rProcessing: other_cats:  82%|██████████████████████████████▎      | 326/398 [01:32<00:17,  4.22it/s]"
          ]
        },
        {
          "output_type": "stream",
          "name": "stdout",
          "text": [
            "\n",
            "0: 480x640 (no detections), 200.9ms\n",
            "Speed: 6.5ms preprocess, 200.9ms inference, 0.8ms postprocess per image at shape (1, 3, 480, 640)\n"
          ]
        },
        {
          "output_type": "stream",
          "name": "stderr",
          "text": [
            "\rProcessing: other_cats:  82%|██████████████████████████████▍      | 327/398 [01:32<00:16,  4.28it/s]"
          ]
        },
        {
          "output_type": "stream",
          "name": "stdout",
          "text": [
            "No object detected, deleting /content/drive/MyDrive/datasets/dataset_fla_other/images/other_cats/758.jpg\n",
            "\n",
            "0: 512x640 1 cat, 198.0ms\n",
            "Speed: 8.4ms preprocess, 198.0ms inference, 1.6ms postprocess per image at shape (1, 3, 512, 640)\n"
          ]
        },
        {
          "output_type": "stream",
          "name": "stderr",
          "text": [
            "\rProcessing: other_cats:  82%|██████████████████████████████▍      | 328/398 [01:33<00:16,  4.28it/s]"
          ]
        },
        {
          "output_type": "stream",
          "name": "stdout",
          "text": [
            "\n",
            "0: 512x640 1 cat, 191.7ms\n",
            "Speed: 4.3ms preprocess, 191.7ms inference, 1.2ms postprocess per image at shape (1, 3, 512, 640)\n"
          ]
        },
        {
          "output_type": "stream",
          "name": "stderr",
          "text": [
            "\rProcessing: other_cats:  83%|██████████████████████████████▌      | 329/398 [01:33<00:15,  4.33it/s]"
          ]
        },
        {
          "output_type": "stream",
          "name": "stdout",
          "text": [
            "\n",
            "0: 640x544 1 cat, 208.1ms\n",
            "Speed: 7.7ms preprocess, 208.1ms inference, 1.4ms postprocess per image at shape (1, 3, 640, 544)\n"
          ]
        },
        {
          "output_type": "stream",
          "name": "stderr",
          "text": [
            "\rProcessing: other_cats:  83%|██████████████████████████████▋      | 330/398 [01:33<00:16,  4.18it/s]"
          ]
        },
        {
          "output_type": "stream",
          "name": "stdout",
          "text": [
            "\n",
            "0: 480x640 3 cats, 199.3ms\n",
            "Speed: 6.9ms preprocess, 199.3ms inference, 1.6ms postprocess per image at shape (1, 3, 480, 640)\n"
          ]
        },
        {
          "output_type": "stream",
          "name": "stderr",
          "text": [
            "\rProcessing: other_cats:  83%|██████████████████████████████▊      | 331/398 [01:33<00:16,  4.11it/s]"
          ]
        },
        {
          "output_type": "stream",
          "name": "stdout",
          "text": [
            "\n",
            "0: 480x640 1 cat, 213.7ms\n",
            "Speed: 6.2ms preprocess, 213.7ms inference, 2.3ms postprocess per image at shape (1, 3, 480, 640)\n"
          ]
        },
        {
          "output_type": "stream",
          "name": "stderr",
          "text": [
            "\rProcessing: other_cats:  83%|██████████████████████████████▊      | 332/398 [01:34<00:16,  4.08it/s]"
          ]
        },
        {
          "output_type": "stream",
          "name": "stdout",
          "text": [
            "\n",
            "0: 576x640 1 cat, 219.2ms\n",
            "Speed: 8.1ms preprocess, 219.2ms inference, 1.2ms postprocess per image at shape (1, 3, 576, 640)\n"
          ]
        },
        {
          "output_type": "stream",
          "name": "stderr",
          "text": [
            "\rProcessing: other_cats:  84%|██████████████████████████████▉      | 333/398 [01:34<00:16,  3.93it/s]"
          ]
        },
        {
          "output_type": "stream",
          "name": "stdout",
          "text": [
            "\n",
            "0: 640x512 1 cat, 218.7ms\n",
            "Speed: 6.4ms preprocess, 218.7ms inference, 1.2ms postprocess per image at shape (1, 3, 640, 512)\n"
          ]
        },
        {
          "output_type": "stream",
          "name": "stderr",
          "text": [
            "\rProcessing: other_cats:  84%|███████████████████████████████      | 334/398 [01:34<00:16,  3.93it/s]"
          ]
        },
        {
          "output_type": "stream",
          "name": "stdout",
          "text": [
            "\n",
            "0: 640x576 1 cat, 239.4ms\n",
            "Speed: 5.0ms preprocess, 239.4ms inference, 1.3ms postprocess per image at shape (1, 3, 640, 576)\n"
          ]
        },
        {
          "output_type": "stream",
          "name": "stderr",
          "text": [
            "\rProcessing: other_cats:  84%|███████████████████████████████▏     | 335/398 [01:34<00:16,  3.84it/s]"
          ]
        },
        {
          "output_type": "stream",
          "name": "stdout",
          "text": [
            "\n",
            "0: 640x416 1 cat, 175.9ms\n",
            "Speed: 5.7ms preprocess, 175.9ms inference, 1.1ms postprocess per image at shape (1, 3, 640, 416)\n"
          ]
        },
        {
          "output_type": "stream",
          "name": "stderr",
          "text": [
            "\rProcessing: other_cats:  84%|███████████████████████████████▏     | 336/398 [01:35<00:15,  4.08it/s]"
          ]
        },
        {
          "output_type": "stream",
          "name": "stdout",
          "text": [
            "\n",
            "0: 576x640 1 cat, 219.8ms\n",
            "Speed: 4.7ms preprocess, 219.8ms inference, 1.6ms postprocess per image at shape (1, 3, 576, 640)\n"
          ]
        },
        {
          "output_type": "stream",
          "name": "stderr",
          "text": [
            "\rProcessing: other_cats:  85%|███████████████████████████████▎     | 337/398 [01:35<00:15,  4.01it/s]"
          ]
        },
        {
          "output_type": "stream",
          "name": "stdout",
          "text": [
            "\n",
            "0: 448x640 1 cat, 202.4ms\n",
            "Speed: 9.7ms preprocess, 202.4ms inference, 1.4ms postprocess per image at shape (1, 3, 448, 640)\n"
          ]
        },
        {
          "output_type": "stream",
          "name": "stderr",
          "text": [
            "\rProcessing: other_cats:  85%|███████████████████████████████▍     | 338/398 [01:35<00:14,  4.06it/s]"
          ]
        },
        {
          "output_type": "stream",
          "name": "stdout",
          "text": [
            "\n",
            "0: 480x640 1 cat, 192.4ms\n",
            "Speed: 6.4ms preprocess, 192.4ms inference, 2.9ms postprocess per image at shape (1, 3, 480, 640)\n"
          ]
        },
        {
          "output_type": "stream",
          "name": "stderr",
          "text": [
            "\rProcessing: other_cats:  85%|███████████████████████████████▌     | 339/398 [01:35<00:14,  4.01it/s]"
          ]
        },
        {
          "output_type": "stream",
          "name": "stdout",
          "text": [
            "\n",
            "0: 480x640 1 cat, 180.0ms\n",
            "Speed: 5.3ms preprocess, 180.0ms inference, 1.3ms postprocess per image at shape (1, 3, 480, 640)\n"
          ]
        },
        {
          "output_type": "stream",
          "name": "stderr",
          "text": [
            "\rProcessing: other_cats:  85%|███████████████████████████████▌     | 340/398 [01:36<00:13,  4.17it/s]"
          ]
        },
        {
          "output_type": "stream",
          "name": "stdout",
          "text": [
            "\n",
            "0: 544x640 1 cat, 207.1ms\n",
            "Speed: 4.8ms preprocess, 207.1ms inference, 1.4ms postprocess per image at shape (1, 3, 544, 640)\n"
          ]
        },
        {
          "output_type": "stream",
          "name": "stderr",
          "text": [
            "\rProcessing: other_cats:  86%|███████████████████████████████▋     | 341/398 [01:36<00:13,  4.17it/s]"
          ]
        },
        {
          "output_type": "stream",
          "name": "stdout",
          "text": [
            "\n",
            "0: 640x640 1 cat, 240.4ms\n",
            "Speed: 10.7ms preprocess, 240.4ms inference, 1.3ms postprocess per image at shape (1, 3, 640, 640)\n"
          ]
        },
        {
          "output_type": "stream",
          "name": "stderr",
          "text": [
            "\rProcessing: other_cats:  86%|███████████████████████████████▊     | 342/398 [01:36<00:14,  3.87it/s]"
          ]
        },
        {
          "output_type": "stream",
          "name": "stdout",
          "text": [
            "\n",
            "0: 480x640 1 cat, 188.3ms\n",
            "Speed: 6.4ms preprocess, 188.3ms inference, 1.2ms postprocess per image at shape (1, 3, 480, 640)\n"
          ]
        },
        {
          "output_type": "stream",
          "name": "stderr",
          "text": [
            "\rProcessing: other_cats:  86%|███████████████████████████████▉     | 343/398 [01:36<00:13,  4.04it/s]"
          ]
        },
        {
          "output_type": "stream",
          "name": "stdout",
          "text": [
            "\n",
            "0: 640x512 1 cat, 218.8ms\n",
            "Speed: 6.8ms preprocess, 218.8ms inference, 1.3ms postprocess per image at shape (1, 3, 640, 512)\n"
          ]
        },
        {
          "output_type": "stream",
          "name": "stderr",
          "text": [
            "\rProcessing: other_cats:  86%|███████████████████████████████▉     | 344/398 [01:37<00:13,  4.02it/s]"
          ]
        },
        {
          "output_type": "stream",
          "name": "stdout",
          "text": [
            "\n",
            "0: 480x640 1 cat, 165.5ms\n",
            "Speed: 5.2ms preprocess, 165.5ms inference, 1.2ms postprocess per image at shape (1, 3, 480, 640)\n"
          ]
        },
        {
          "output_type": "stream",
          "name": "stderr",
          "text": [
            "\rProcessing: other_cats:  87%|████████████████████████████████     | 345/398 [01:37<00:12,  4.26it/s]"
          ]
        },
        {
          "output_type": "stream",
          "name": "stdout",
          "text": [
            "\n",
            "0: 480x640 1 cat, 177.4ms\n",
            "Speed: 6.5ms preprocess, 177.4ms inference, 1.2ms postprocess per image at shape (1, 3, 480, 640)\n"
          ]
        },
        {
          "output_type": "stream",
          "name": "stderr",
          "text": [
            "\rProcessing: other_cats:  87%|████████████████████████████████▏    | 346/398 [01:37<00:11,  4.38it/s]"
          ]
        },
        {
          "output_type": "stream",
          "name": "stdout",
          "text": [
            "\n",
            "0: 448x640 1 cat, 257.3ms\n",
            "Speed: 6.5ms preprocess, 257.3ms inference, 1.7ms postprocess per image at shape (1, 3, 448, 640)\n"
          ]
        },
        {
          "output_type": "stream",
          "name": "stderr",
          "text": [
            "\rProcessing: other_cats:  87%|████████████████████████████████▎    | 347/398 [01:37<00:12,  3.99it/s]"
          ]
        },
        {
          "output_type": "stream",
          "name": "stdout",
          "text": [
            "\n",
            "0: 576x640 1 cat, 337.8ms\n",
            "Speed: 6.5ms preprocess, 337.8ms inference, 1.6ms postprocess per image at shape (1, 3, 576, 640)\n"
          ]
        },
        {
          "output_type": "stream",
          "name": "stderr",
          "text": [
            "\rProcessing: other_cats:  87%|████████████████████████████████▎    | 348/398 [01:38<00:14,  3.45it/s]"
          ]
        },
        {
          "output_type": "stream",
          "name": "stdout",
          "text": [
            "\n",
            "0: 480x640 1 cat, 295.2ms\n",
            "Speed: 6.7ms preprocess, 295.2ms inference, 1.6ms postprocess per image at shape (1, 3, 480, 640)\n"
          ]
        },
        {
          "output_type": "stream",
          "name": "stderr",
          "text": [
            "\rProcessing: other_cats:  88%|████████████████████████████████▍    | 349/398 [01:38<00:14,  3.29it/s]"
          ]
        },
        {
          "output_type": "stream",
          "name": "stdout",
          "text": [
            "\n",
            "0: 640x608 1 cat, 359.5ms\n",
            "Speed: 10.0ms preprocess, 359.5ms inference, 1.6ms postprocess per image at shape (1, 3, 640, 608)\n"
          ]
        },
        {
          "output_type": "stream",
          "name": "stderr",
          "text": [
            "\rProcessing: other_cats:  88%|████████████████████████████████▌    | 350/398 [01:38<00:16,  2.99it/s]"
          ]
        },
        {
          "output_type": "stream",
          "name": "stdout",
          "text": [
            "\n",
            "0: 640x640 (no detections), 397.7ms\n",
            "Speed: 9.6ms preprocess, 397.7ms inference, 1.3ms postprocess per image at shape (1, 3, 640, 640)\n"
          ]
        },
        {
          "output_type": "stream",
          "name": "stderr",
          "text": [
            "\rProcessing: other_cats:  88%|████████████████████████████████▋    | 351/398 [01:39<00:17,  2.74it/s]"
          ]
        },
        {
          "output_type": "stream",
          "name": "stdout",
          "text": [
            "No object detected, deleting /content/drive/MyDrive/datasets/dataset_fla_other/images/other_cats/787.jpg\n",
            "\n",
            "0: 640x480 1 cat, 286.0ms\n",
            "Speed: 6.5ms preprocess, 286.0ms inference, 1.5ms postprocess per image at shape (1, 3, 640, 480)\n"
          ]
        },
        {
          "output_type": "stream",
          "name": "stderr",
          "text": [
            "\rProcessing: other_cats:  88%|████████████████████████████████▋    | 352/398 [01:39<00:16,  2.77it/s]"
          ]
        },
        {
          "output_type": "stream",
          "name": "stdout",
          "text": [
            "\n",
            "0: 480x640 1 cat, 284.2ms\n",
            "Speed: 7.7ms preprocess, 284.2ms inference, 1.5ms postprocess per image at shape (1, 3, 480, 640)\n"
          ]
        },
        {
          "output_type": "stream",
          "name": "stderr",
          "text": [
            "\rProcessing: other_cats:  89%|████████████████████████████████▊    | 353/398 [01:40<00:15,  2.83it/s]"
          ]
        },
        {
          "output_type": "stream",
          "name": "stdout",
          "text": [
            "\n",
            "0: 640x640 2 cats, 368.4ms\n",
            "Speed: 7.6ms preprocess, 368.4ms inference, 1.7ms postprocess per image at shape (1, 3, 640, 640)\n"
          ]
        },
        {
          "output_type": "stream",
          "name": "stderr",
          "text": [
            "\rProcessing: other_cats:  89%|████████████████████████████████▉    | 354/398 [01:40<00:16,  2.66it/s]"
          ]
        },
        {
          "output_type": "stream",
          "name": "stdout",
          "text": [
            "\n",
            "0: 480x640 1 cat, 278.8ms\n",
            "Speed: 9.6ms preprocess, 278.8ms inference, 1.7ms postprocess per image at shape (1, 3, 480, 640)\n"
          ]
        },
        {
          "output_type": "stream",
          "name": "stderr",
          "text": [
            "\rProcessing: other_cats:  89%|█████████████████████████████████    | 355/398 [01:40<00:15,  2.76it/s]"
          ]
        },
        {
          "output_type": "stream",
          "name": "stdout",
          "text": [
            "\n",
            "0: 480x640 2 cats, 288.3ms\n",
            "Speed: 7.0ms preprocess, 288.3ms inference, 2.0ms postprocess per image at shape (1, 3, 480, 640)\n"
          ]
        },
        {
          "output_type": "stream",
          "name": "stderr",
          "text": [
            "\rProcessing: other_cats:  89%|█████████████████████████████████    | 356/398 [01:41<00:14,  2.80it/s]"
          ]
        },
        {
          "output_type": "stream",
          "name": "stdout",
          "text": [
            "\n",
            "0: 480x640 1 cat, 296.7ms\n",
            "Speed: 6.7ms preprocess, 296.7ms inference, 3.8ms postprocess per image at shape (1, 3, 480, 640)\n"
          ]
        },
        {
          "output_type": "stream",
          "name": "stderr",
          "text": [
            "\rProcessing: other_cats:  90%|█████████████████████████████████▏   | 357/398 [01:41<00:14,  2.85it/s]"
          ]
        },
        {
          "output_type": "stream",
          "name": "stdout",
          "text": [
            "\n",
            "0: 544x640 1 cat, 349.2ms\n",
            "Speed: 7.3ms preprocess, 349.2ms inference, 2.1ms postprocess per image at shape (1, 3, 544, 640)\n"
          ]
        },
        {
          "output_type": "stream",
          "name": "stderr",
          "text": [
            "\rProcessing: other_cats:  90%|█████████████████████████████████▎   | 358/398 [01:41<00:14,  2.75it/s]"
          ]
        },
        {
          "output_type": "stream",
          "name": "stdout",
          "text": [
            "\n",
            "0: 640x640 (no detections), 421.5ms\n",
            "Speed: 10.4ms preprocess, 421.5ms inference, 1.3ms postprocess per image at shape (1, 3, 640, 640)\n"
          ]
        },
        {
          "output_type": "stream",
          "name": "stderr",
          "text": [
            "\rProcessing: other_cats:  90%|█████████████████████████████████▎   | 359/398 [01:42<00:15,  2.50it/s]"
          ]
        },
        {
          "output_type": "stream",
          "name": "stdout",
          "text": [
            "No object detected, deleting /content/drive/MyDrive/datasets/dataset_fla_other/images/other_cats/790.jpg\n",
            "\n",
            "0: 640x544 1 cat, 316.3ms\n",
            "Speed: 10.5ms preprocess, 316.3ms inference, 1.4ms postprocess per image at shape (1, 3, 640, 544)\n"
          ]
        },
        {
          "output_type": "stream",
          "name": "stderr",
          "text": [
            "\rProcessing: other_cats:  90%|█████████████████████████████████▍   | 360/398 [01:42<00:14,  2.59it/s]"
          ]
        },
        {
          "output_type": "stream",
          "name": "stdout",
          "text": [
            "\n",
            "0: 416x640 1 cat, 192.9ms\n",
            "Speed: 6.2ms preprocess, 192.9ms inference, 1.6ms postprocess per image at shape (1, 3, 416, 640)\n"
          ]
        },
        {
          "output_type": "stream",
          "name": "stderr",
          "text": [
            "\rProcessing: other_cats:  91%|█████████████████████████████████▌   | 361/398 [01:42<00:12,  2.95it/s]"
          ]
        },
        {
          "output_type": "stream",
          "name": "stdout",
          "text": [
            "\n",
            "0: 448x640 1 cat, 219.6ms\n",
            "Speed: 6.2ms preprocess, 219.6ms inference, 1.5ms postprocess per image at shape (1, 3, 448, 640)\n"
          ]
        },
        {
          "output_type": "stream",
          "name": "stderr",
          "text": [
            "\rProcessing: other_cats:  91%|█████████████████████████████████▋   | 362/398 [01:43<00:11,  3.19it/s]"
          ]
        },
        {
          "output_type": "stream",
          "name": "stdout",
          "text": [
            "\n",
            "0: 480x640 1 cat, 272.6ms\n",
            "Speed: 6.8ms preprocess, 272.6ms inference, 1.4ms postprocess per image at shape (1, 3, 480, 640)\n"
          ]
        },
        {
          "output_type": "stream",
          "name": "stderr",
          "text": [
            "\rProcessing: other_cats:  91%|█████████████████████████████████▋   | 363/398 [01:43<00:10,  3.19it/s]"
          ]
        },
        {
          "output_type": "stream",
          "name": "stdout",
          "text": [
            "\n",
            "0: 480x640 1 cat, 203.2ms\n",
            "Speed: 7.0ms preprocess, 203.2ms inference, 1.2ms postprocess per image at shape (1, 3, 480, 640)\n"
          ]
        },
        {
          "output_type": "stream",
          "name": "stderr",
          "text": [
            "\rProcessing: other_cats:  91%|█████████████████████████████████▊   | 364/398 [01:43<00:09,  3.45it/s]"
          ]
        },
        {
          "output_type": "stream",
          "name": "stdout",
          "text": [
            "\n",
            "0: 480x640 1 cat, 171.7ms\n",
            "Speed: 4.4ms preprocess, 171.7ms inference, 1.2ms postprocess per image at shape (1, 3, 480, 640)\n"
          ]
        },
        {
          "output_type": "stream",
          "name": "stderr",
          "text": [
            "\rProcessing: other_cats:  92%|█████████████████████████████████▉   | 365/398 [01:43<00:08,  3.76it/s]"
          ]
        },
        {
          "output_type": "stream",
          "name": "stdout",
          "text": [
            "\n",
            "0: 640x640 1 cat, 238.2ms\n",
            "Speed: 7.9ms preprocess, 238.2ms inference, 1.3ms postprocess per image at shape (1, 3, 640, 640)\n"
          ]
        },
        {
          "output_type": "stream",
          "name": "stderr",
          "text": [
            "\rProcessing: other_cats:  92%|██████████████████████████████████   | 366/398 [01:44<00:08,  3.71it/s]"
          ]
        },
        {
          "output_type": "stream",
          "name": "stdout",
          "text": [
            "\n",
            "0: 640x608 1 cat, 261.2ms\n",
            "Speed: 8.6ms preprocess, 261.2ms inference, 1.2ms postprocess per image at shape (1, 3, 640, 608)\n"
          ]
        },
        {
          "output_type": "stream",
          "name": "stderr",
          "text": [
            "\rProcessing: other_cats:  92%|██████████████████████████████████   | 367/398 [01:44<00:08,  3.61it/s]"
          ]
        },
        {
          "output_type": "stream",
          "name": "stdout",
          "text": [
            "\n",
            "0: 576x640 1 cat, 210.3ms\n",
            "Speed: 5.1ms preprocess, 210.3ms inference, 1.7ms postprocess per image at shape (1, 3, 576, 640)\n"
          ]
        },
        {
          "output_type": "stream",
          "name": "stderr",
          "text": [
            "\rProcessing: other_cats:  92%|██████████████████████████████████▏  | 368/398 [01:44<00:08,  3.70it/s]"
          ]
        },
        {
          "output_type": "stream",
          "name": "stdout",
          "text": [
            "\n",
            "0: 640x512 1 cat, 203.9ms\n",
            "Speed: 8.1ms preprocess, 203.9ms inference, 1.3ms postprocess per image at shape (1, 3, 640, 512)\n"
          ]
        },
        {
          "output_type": "stream",
          "name": "stderr",
          "text": [
            "\rProcessing: other_cats:  93%|██████████████████████████████████▎  | 369/398 [01:45<00:07,  3.71it/s]"
          ]
        },
        {
          "output_type": "stream",
          "name": "stdout",
          "text": [
            "\n",
            "0: 480x640 1 cat, 173.1ms\n",
            "Speed: 5.5ms preprocess, 173.1ms inference, 1.2ms postprocess per image at shape (1, 3, 480, 640)\n"
          ]
        },
        {
          "output_type": "stream",
          "name": "stderr",
          "text": [
            "\rProcessing: other_cats:  93%|██████████████████████████████████▍  | 370/398 [01:45<00:07,  4.00it/s]"
          ]
        },
        {
          "output_type": "stream",
          "name": "stdout",
          "text": [
            "\n",
            "0: 608x640 1 cat, 241.4ms\n",
            "Speed: 11.2ms preprocess, 241.4ms inference, 1.4ms postprocess per image at shape (1, 3, 608, 640)\n"
          ]
        },
        {
          "output_type": "stream",
          "name": "stderr",
          "text": [
            "\rProcessing: other_cats:  93%|██████████████████████████████████▍  | 371/398 [01:45<00:07,  3.82it/s]"
          ]
        },
        {
          "output_type": "stream",
          "name": "stdout",
          "text": [
            "\n",
            "0: 448x640 1 cat, 169.7ms\n",
            "Speed: 6.1ms preprocess, 169.7ms inference, 1.1ms postprocess per image at shape (1, 3, 448, 640)\n"
          ]
        },
        {
          "output_type": "stream",
          "name": "stderr",
          "text": [
            "\rProcessing: other_cats:  93%|██████████████████████████████████▌  | 372/398 [01:45<00:06,  4.06it/s]"
          ]
        },
        {
          "output_type": "stream",
          "name": "stdout",
          "text": [
            "\n",
            "0: 640x512 1 cat, 214.8ms\n",
            "Speed: 6.8ms preprocess, 214.8ms inference, 1.3ms postprocess per image at shape (1, 3, 640, 512)\n"
          ]
        },
        {
          "output_type": "stream",
          "name": "stderr",
          "text": [
            "\rProcessing: other_cats:  94%|██████████████████████████████████▋  | 373/398 [01:46<00:06,  4.02it/s]"
          ]
        },
        {
          "output_type": "stream",
          "name": "stdout",
          "text": [
            "\n",
            "0: 480x640 1 cat, 181.5ms\n",
            "Speed: 4.4ms preprocess, 181.5ms inference, 1.3ms postprocess per image at shape (1, 3, 480, 640)\n"
          ]
        },
        {
          "output_type": "stream",
          "name": "stderr",
          "text": [
            "\rProcessing: other_cats:  94%|██████████████████████████████████▊  | 374/398 [01:46<00:05,  4.18it/s]"
          ]
        },
        {
          "output_type": "stream",
          "name": "stdout",
          "text": [
            "\n",
            "0: 512x640 1 cat, 208.5ms\n",
            "Speed: 8.9ms preprocess, 208.5ms inference, 1.3ms postprocess per image at shape (1, 3, 512, 640)\n"
          ]
        },
        {
          "output_type": "stream",
          "name": "stderr",
          "text": [
            "\rProcessing: other_cats:  94%|██████████████████████████████████▊  | 375/398 [01:46<00:05,  4.14it/s]"
          ]
        },
        {
          "output_type": "stream",
          "name": "stdout",
          "text": [
            "\n",
            "0: 448x640 1 cat, 178.1ms\n",
            "Speed: 4.6ms preprocess, 178.1ms inference, 1.1ms postprocess per image at shape (1, 3, 448, 640)\n"
          ]
        },
        {
          "output_type": "stream",
          "name": "stderr",
          "text": [
            "\rProcessing: other_cats:  94%|██████████████████████████████████▉  | 376/398 [01:46<00:05,  4.30it/s]"
          ]
        },
        {
          "output_type": "stream",
          "name": "stdout",
          "text": [
            "\n",
            "0: 512x640 2 cats, 204.0ms\n",
            "Speed: 7.1ms preprocess, 204.0ms inference, 1.4ms postprocess per image at shape (1, 3, 512, 640)\n"
          ]
        },
        {
          "output_type": "stream",
          "name": "stderr",
          "text": [
            "\rProcessing: other_cats:  95%|███████████████████████████████████  | 377/398 [01:46<00:04,  4.24it/s]"
          ]
        },
        {
          "output_type": "stream",
          "name": "stdout",
          "text": [
            "\n",
            "0: 480x640 1 cat, 165.3ms\n",
            "Speed: 4.2ms preprocess, 165.3ms inference, 1.2ms postprocess per image at shape (1, 3, 480, 640)\n"
          ]
        },
        {
          "output_type": "stream",
          "name": "stderr",
          "text": [
            "\rProcessing: other_cats:  95%|███████████████████████████████████▏ | 378/398 [01:47<00:04,  4.29it/s]"
          ]
        },
        {
          "output_type": "stream",
          "name": "stdout",
          "text": [
            "\n",
            "0: 480x640 1 cat, 171.0ms\n",
            "Speed: 6.8ms preprocess, 171.0ms inference, 1.2ms postprocess per image at shape (1, 3, 480, 640)\n"
          ]
        },
        {
          "output_type": "stream",
          "name": "stderr",
          "text": [
            "\rProcessing: other_cats:  95%|███████████████████████████████████▏ | 379/398 [01:47<00:04,  4.44it/s]"
          ]
        },
        {
          "output_type": "stream",
          "name": "stdout",
          "text": [
            "\n",
            "0: 640x640 1 cat, 257.7ms\n",
            "Speed: 8.8ms preprocess, 257.7ms inference, 1.3ms postprocess per image at shape (1, 3, 640, 640)\n"
          ]
        },
        {
          "output_type": "stream",
          "name": "stderr",
          "text": [
            "\rProcessing: other_cats:  95%|███████████████████████████████████▎ | 380/398 [01:47<00:04,  4.06it/s]"
          ]
        },
        {
          "output_type": "stream",
          "name": "stdout",
          "text": [
            "\n",
            "0: 480x640 (no detections), 182.0ms\n",
            "Speed: 6.8ms preprocess, 182.0ms inference, 0.8ms postprocess per image at shape (1, 3, 480, 640)\n"
          ]
        },
        {
          "output_type": "stream",
          "name": "stderr",
          "text": [
            "\rProcessing: other_cats:  96%|███████████████████████████████████▍ | 381/398 [01:47<00:04,  4.23it/s]"
          ]
        },
        {
          "output_type": "stream",
          "name": "stdout",
          "text": [
            "No object detected, deleting /content/drive/MyDrive/datasets/dataset_fla_other/images/other_cats/826.jpg\n",
            "\n",
            "0: 640x640 (no detections), 232.7ms\n",
            "Speed: 5.4ms preprocess, 232.7ms inference, 0.8ms postprocess per image at shape (1, 3, 640, 640)\n"
          ]
        },
        {
          "output_type": "stream",
          "name": "stderr",
          "text": [
            "\rProcessing: other_cats:  96%|███████████████████████████████████▌ | 382/398 [01:48<00:03,  4.13it/s]"
          ]
        },
        {
          "output_type": "stream",
          "name": "stdout",
          "text": [
            "No object detected, deleting /content/drive/MyDrive/datasets/dataset_fla_other/images/other_cats/822.jpg\n",
            "\n",
            "0: 544x640 1 cat, 202.3ms\n",
            "Speed: 4.9ms preprocess, 202.3ms inference, 1.2ms postprocess per image at shape (1, 3, 544, 640)\n"
          ]
        },
        {
          "output_type": "stream",
          "name": "stderr",
          "text": [
            "\rProcessing: other_cats:  96%|███████████████████████████████████▌ | 383/398 [01:48<00:03,  4.16it/s]"
          ]
        },
        {
          "output_type": "stream",
          "name": "stdout",
          "text": [
            "\n",
            "0: 448x640 3 cats, 168.5ms\n",
            "Speed: 6.1ms preprocess, 168.5ms inference, 1.4ms postprocess per image at shape (1, 3, 448, 640)\n"
          ]
        },
        {
          "output_type": "stream",
          "name": "stderr",
          "text": [
            "\rProcessing: other_cats:  96%|███████████████████████████████████▋ | 384/398 [01:48<00:03,  4.25it/s]"
          ]
        },
        {
          "output_type": "stream",
          "name": "stdout",
          "text": [
            "\n",
            "0: 640x544 1 cat, 216.7ms\n",
            "Speed: 7.4ms preprocess, 216.7ms inference, 1.3ms postprocess per image at shape (1, 3, 640, 544)\n"
          ]
        },
        {
          "output_type": "stream",
          "name": "stderr",
          "text": [
            "\rProcessing: other_cats:  97%|███████████████████████████████████▊ | 385/398 [01:48<00:03,  4.12it/s]"
          ]
        },
        {
          "output_type": "stream",
          "name": "stdout",
          "text": [
            "\n",
            "0: 640x576 1 cat, 220.6ms\n",
            "Speed: 5.2ms preprocess, 220.6ms inference, 1.5ms postprocess per image at shape (1, 3, 640, 576)\n"
          ]
        },
        {
          "output_type": "stream",
          "name": "stderr",
          "text": [
            "\rProcessing: other_cats:  97%|███████████████████████████████████▉ | 386/398 [01:49<00:02,  4.06it/s]"
          ]
        },
        {
          "output_type": "stream",
          "name": "stdout",
          "text": [
            "\n",
            "0: 448x640 1 cat, 165.2ms\n",
            "Speed: 5.8ms preprocess, 165.2ms inference, 1.2ms postprocess per image at shape (1, 3, 448, 640)\n"
          ]
        },
        {
          "output_type": "stream",
          "name": "stderr",
          "text": [
            "\rProcessing: other_cats:  97%|███████████████████████████████████▉ | 387/398 [01:49<00:02,  4.21it/s]"
          ]
        },
        {
          "output_type": "stream",
          "name": "stdout",
          "text": [
            "\n",
            "0: 480x640 2 cats, 186.9ms\n",
            "Speed: 6.0ms preprocess, 186.9ms inference, 1.7ms postprocess per image at shape (1, 3, 480, 640)\n"
          ]
        },
        {
          "output_type": "stream",
          "name": "stderr",
          "text": [
            "\rProcessing: other_cats:  97%|████████████████████████████████████ | 388/398 [01:49<00:02,  4.29it/s]"
          ]
        },
        {
          "output_type": "stream",
          "name": "stdout",
          "text": [
            "\n",
            "0: 640x512 1 cat, 231.2ms\n",
            "Speed: 6.8ms preprocess, 231.2ms inference, 1.7ms postprocess per image at shape (1, 3, 640, 512)\n"
          ]
        },
        {
          "output_type": "stream",
          "name": "stderr",
          "text": [
            "\rProcessing: other_cats:  98%|████████████████████████████████████▏| 389/398 [01:49<00:02,  4.11it/s]"
          ]
        },
        {
          "output_type": "stream",
          "name": "stdout",
          "text": [
            "\n",
            "0: 448x640 1 cat, 157.4ms\n",
            "Speed: 4.2ms preprocess, 157.4ms inference, 1.2ms postprocess per image at shape (1, 3, 448, 640)\n"
          ]
        },
        {
          "output_type": "stream",
          "name": "stderr",
          "text": [
            "\rProcessing: other_cats:  98%|████████████████████████████████████▎| 390/398 [01:50<00:01,  4.41it/s]"
          ]
        },
        {
          "output_type": "stream",
          "name": "stdout",
          "text": [
            "\n",
            "0: 640x640 2 cats, 245.5ms\n",
            "Speed: 8.6ms preprocess, 245.5ms inference, 1.4ms postprocess per image at shape (1, 3, 640, 640)\n"
          ]
        },
        {
          "output_type": "stream",
          "name": "stderr",
          "text": [
            "\rProcessing: other_cats:  98%|████████████████████████████████████▎| 391/398 [01:50<00:01,  4.04it/s]"
          ]
        },
        {
          "output_type": "stream",
          "name": "stdout",
          "text": [
            "\n",
            "0: 608x640 1 cat, 231.4ms\n",
            "Speed: 8.6ms preprocess, 231.4ms inference, 1.3ms postprocess per image at shape (1, 3, 608, 640)\n"
          ]
        },
        {
          "output_type": "stream",
          "name": "stderr",
          "text": [
            "\rProcessing: other_cats:  98%|████████████████████████████████████▍| 392/398 [01:50<00:01,  3.94it/s]"
          ]
        },
        {
          "output_type": "stream",
          "name": "stdout",
          "text": [
            "\n",
            "0: 640x640 (no detections), 265.9ms\n",
            "Speed: 7.8ms preprocess, 265.9ms inference, 1.0ms postprocess per image at shape (1, 3, 640, 640)\n"
          ]
        },
        {
          "output_type": "stream",
          "name": "stderr",
          "text": [
            "\rProcessing: other_cats:  99%|████████████████████████████████████▌| 393/398 [01:50<00:01,  3.76it/s]"
          ]
        },
        {
          "output_type": "stream",
          "name": "stdout",
          "text": [
            "No object detected, deleting /content/drive/MyDrive/datasets/dataset_fla_other/images/other_cats/835.jpg\n",
            "\n",
            "0: 384x640 1 cat, 146.4ms\n",
            "Speed: 5.7ms preprocess, 146.4ms inference, 1.2ms postprocess per image at shape (1, 3, 384, 640)\n"
          ]
        },
        {
          "output_type": "stream",
          "name": "stderr",
          "text": [
            "\rProcessing: other_cats:  99%|████████████████████████████████████▋| 394/398 [01:51<00:00,  4.16it/s]"
          ]
        },
        {
          "output_type": "stream",
          "name": "stdout",
          "text": [
            "\n",
            "0: 640x608 1 cat, 224.7ms\n",
            "Speed: 5.1ms preprocess, 224.7ms inference, 1.3ms postprocess per image at shape (1, 3, 640, 608)\n"
          ]
        },
        {
          "output_type": "stream",
          "name": "stderr",
          "text": [
            "\rProcessing: other_cats:  99%|████████████████████████████████████▋| 395/398 [01:51<00:00,  4.07it/s]"
          ]
        },
        {
          "output_type": "stream",
          "name": "stdout",
          "text": [
            "\n",
            "0: 576x640 1 cat, 209.3ms\n",
            "Speed: 4.3ms preprocess, 209.3ms inference, 1.4ms postprocess per image at shape (1, 3, 576, 640)\n"
          ]
        },
        {
          "output_type": "stream",
          "name": "stderr",
          "text": [
            "\rProcessing: other_cats:  99%|████████████████████████████████████▊| 396/398 [01:51<00:00,  4.09it/s]"
          ]
        },
        {
          "output_type": "stream",
          "name": "stdout",
          "text": [
            "\n",
            "0: 640x640 1 cat, 258.9ms\n",
            "Speed: 10.0ms preprocess, 258.9ms inference, 1.3ms postprocess per image at shape (1, 3, 640, 640)\n"
          ]
        },
        {
          "output_type": "stream",
          "name": "stderr",
          "text": [
            "\rProcessing: other_cats: 100%|████████████████████████████████████▉| 397/398 [01:51<00:00,  3.73it/s]"
          ]
        },
        {
          "output_type": "stream",
          "name": "stdout",
          "text": [
            "\n",
            "0: 544x640 1 cat, 201.1ms\n",
            "Speed: 7.4ms preprocess, 201.1ms inference, 1.3ms postprocess per image at shape (1, 3, 544, 640)\n"
          ]
        },
        {
          "output_type": "stream",
          "name": "stderr",
          "text": [
            "Processing: other_cats: 100%|█████████████████████████████████████| 398/398 [01:52<00:00,  3.55it/s]\n"
          ]
        }
      ],
      "source": [
        "model = YOLO(\"yolov8n.pt\")\n",
        "\n",
        "input_folder = \"/content/drive/MyDrive/datasets/dataset_fla_other/images\"\n",
        "output_folder = \"/content/drive/MyDrive/datasets/dataset_fla_other/preprocessed_images\"\n",
        "\n",
        "for category in [\"flaekli\", \"other_cats\"]:\n",
        "    os.makedirs(os.path.join(output_folder, category), exist_ok=True)\n",
        "\n",
        "category_mapping = {\n",
        "    \"flaekli\": \"flaekli\",\n",
        "    \"other_cats\": \"other_cats\"\n",
        "}\n",
        "\n",
        "for category, target_folder in category_mapping.items():\n",
        "    category_path = os.path.join(input_folder, category)\n",
        "    output_category_path = os.path.join(output_folder, target_folder)\n",
        "\n",
        "    if not os.path.exists(category_path):\n",
        "        continue\n",
        "\n",
        "    print(f\"Processing images in category: {category}\")\n",
        "\n",
        "    existing_files = [f for f in os.listdir(output_category_path) if f.endswith(\".jpg\") or f.endswith(\".png\")]\n",
        "    existing_numbers = [int(f.split('_')[-1].split('.')[0]) for f in existing_files if f.split('_')[-1].split('.')[0].isdigit()]\n",
        "    start_index = max(existing_numbers, default=0) + 1\n",
        "\n",
        "    img_files = [f for f in os.listdir(category_path) if f.endswith(\".jpg\") or f.endswith(\".png\")]\n",
        "\n",
        "    with tqdm(total=len(img_files), desc=f\"Processing: {category}\", ncols=100) as pbar:\n",
        "        for img_name in img_files:\n",
        "            img_path = os.path.join(category_path, img_name)\n",
        "\n",
        "            img = cv2.imread(img_path)\n",
        "            if img is None:\n",
        "                print(f\"Error loading {img_path}\")\n",
        "                os.remove(img_path)\n",
        "                continue\n",
        "\n",
        "            results = model.predict(source=img, conf=0.4, classes=[15])\n",
        "\n",
        "            if results[0].boxes:\n",
        "                boxes = results[0].boxes.xyxy.tolist()\n",
        "                for box in boxes:\n",
        "                    x_min, y_min, x_max, y_max = map(int, box)\n",
        "                    cropped_img = img[y_min:y_max, x_min:x_max]\n",
        "\n",
        "                    cropped_img_path = os.path.join(output_category_path, f\"{target_folder}_{start_index}.jpg\")\n",
        "                    cv2.imwrite(cropped_img_path, cropped_img)\n",
        "                    start_index += 1\n",
        "            else:\n",
        "                os.remove(img_path)\n",
        "                print(f\"No object detected, deleting {img_path}\")\n",
        "\n",
        "            pbar.update(1)\n"
      ]
    },
    {
      "cell_type": "markdown",
      "source": [
        "This code ensures both flaekli and other_cats folders contain the same number of images by removing excess images from the larger folder."
      ],
      "metadata": {
        "id": "3Yg9uXN_Y9Nq"
      }
    },
    {
      "cell_type": "code",
      "source": [
        "flaekli_files = [f for f in os.listdir(os.path.join(output_folder, \"flaekli\")) if f.endswith(\".jpg\") or f.endswith(\".png\")]\n",
        "other_cats_files = [f for f in os.listdir(os.path.join(output_folder, \"other_cats\")) if f.endswith(\".jpg\") or f.endswith(\".png\")]\n",
        "\n",
        "print(\"Files in 'flaekli' folder:\", flaekli_files)\n",
        "print(\"Files in 'other_cats' folder:\", other_cats_files)\n",
        "\n",
        "flaekli_count = len(flaekli_files)\n",
        "other_cats_count = len(other_cats_files)\n",
        "\n",
        "print(f\"flaekli count: {flaekli_count}, other_cats count: {other_cats_count}\")\n",
        "\n",
        "if flaekli_count != other_cats_count:\n",
        "    target_count = min(flaekli_count, other_cats_count)\n",
        "\n",
        "    if flaekli_count > target_count:\n",
        "        excess_files = random.sample(flaekli_files, flaekli_count - target_count)\n",
        "        for file in excess_files:\n",
        "            os.remove(os.path.join(output_folder, \"flaekli\", file))\n",
        "\n",
        "    elif other_cats_count > target_count:\n",
        "        excess_files = random.sample(other_cats_files, other_cats_count - target_count)\n",
        "        for file in excess_files:\n",
        "            os.remove(os.path.join(output_folder, \"other_cats\", file))\n",
        "\n",
        "    flaekli_files = [f for f in os.listdir(os.path.join(output_folder, \"flaekli\")) if f.endswith(\".jpg\") or f.endswith(\".png\")]\n",
        "    other_cats_files = [f for f in os.listdir(os.path.join(output_folder, \"other_cats\")) if f.endswith(\".jpg\") or f.endswith(\".png\")]\n",
        "\n",
        "    if flaekli_count < other_cats_count:\n",
        "        for i in range(target_count - flaekli_count):\n",
        "            file_to_copy = random.choice(other_cats_files)\n",
        "            shutil.copy(os.path.join(output_folder, \"other_cats\", file_to_copy),\n",
        "                        os.path.join(output_folder, \"flaekli\", file_to_copy))\n",
        "    elif other_cats_count < flaekli_count:\n",
        "        for i in range(target_count - other_cats_count):\n",
        "            file_to_copy = random.choice(flaekli_files)\n",
        "            shutil.copy(os.path.join(output_folder, \"flaekli\", file_to_copy),\n",
        "                        os.path.join(output_folder, \"other_cats\", file_to_copy))\n",
        "\n",
        "print(\"Images have been processed, balanced, and saved!\")"
      ],
      "metadata": {
        "colab": {
          "base_uri": "https://localhost:8080/"
        },
        "id": "SHZrHhD5Y-qy",
        "outputId": "c7992abd-a21d-44f5-eaca-b2a3beed219f"
      },
      "execution_count": null,
      "outputs": [
        {
          "output_type": "stream",
          "name": "stdout",
          "text": [
            "Files in 'flaekli' folder: ['flaekli_1.jpg', 'flaekli_2.jpg', 'flaekli_3.jpg', 'flaekli_4.jpg', 'flaekli_5.jpg', 'flaekli_6.jpg', 'flaekli_7.jpg', 'flaekli_8.jpg', 'flaekli_9.jpg', 'flaekli_10.jpg', 'flaekli_11.jpg', 'flaekli_12.jpg', 'flaekli_13.jpg', 'flaekli_14.jpg', 'flaekli_15.jpg', 'flaekli_16.jpg', 'flaekli_17.jpg', 'flaekli_18.jpg', 'flaekli_19.jpg', 'flaekli_20.jpg', 'flaekli_21.jpg', 'flaekli_22.jpg', 'flaekli_23.jpg', 'flaekli_24.jpg', 'flaekli_25.jpg', 'flaekli_26.jpg', 'flaekli_27.jpg', 'flaekli_28.jpg', 'flaekli_29.jpg', 'flaekli_30.jpg', 'flaekli_31.jpg', 'flaekli_32.jpg', 'flaekli_33.jpg', 'flaekli_34.jpg', 'flaekli_35.jpg', 'flaekli_36.jpg', 'flaekli_37.jpg', 'flaekli_38.jpg', 'flaekli_39.jpg', 'flaekli_40.jpg', 'flaekli_41.jpg', 'flaekli_42.jpg', 'flaekli_43.jpg', 'flaekli_44.jpg', 'flaekli_45.jpg', 'flaekli_46.jpg', 'flaekli_47.jpg', 'flaekli_48.jpg', 'flaekli_49.jpg', 'flaekli_50.jpg', 'flaekli_51.jpg', 'flaekli_52.jpg', 'flaekli_53.jpg', 'flaekli_54.jpg', 'flaekli_55.jpg', 'flaekli_56.jpg', 'flaekli_57.jpg', 'flaekli_58.jpg', 'flaekli_59.jpg', 'flaekli_60.jpg', 'flaekli_61.jpg', 'flaekli_62.jpg', 'flaekli_63.jpg', 'flaekli_64.jpg', 'flaekli_65.jpg', 'flaekli_66.jpg', 'flaekli_67.jpg', 'flaekli_68.jpg', 'flaekli_69.jpg', 'flaekli_70.jpg', 'flaekli_71.jpg', 'flaekli_72.jpg', 'flaekli_73.jpg', 'flaekli_74.jpg', 'flaekli_75.jpg', 'flaekli_76.jpg', 'flaekli_77.jpg', 'flaekli_78.jpg', 'flaekli_79.jpg', 'flaekli_80.jpg', 'flaekli_81.jpg', 'flaekli_82.jpg', 'flaekli_83.jpg', 'flaekli_84.jpg', 'flaekli_85.jpg', 'flaekli_86.jpg', 'flaekli_87.jpg', 'flaekli_88.jpg', 'flaekli_89.jpg', 'flaekli_90.jpg', 'flaekli_91.jpg', 'flaekli_92.jpg', 'flaekli_93.jpg', 'flaekli_94.jpg', 'flaekli_95.jpg', 'flaekli_96.jpg', 'flaekli_97.jpg', 'flaekli_98.jpg', 'flaekli_99.jpg', 'flaekli_100.jpg', 'flaekli_101.jpg', 'flaekli_102.jpg', 'flaekli_103.jpg', 'flaekli_104.jpg', 'flaekli_105.jpg', 'flaekli_106.jpg', 'flaekli_107.jpg', 'flaekli_108.jpg', 'flaekli_109.jpg', 'flaekli_110.jpg', 'flaekli_111.jpg', 'flaekli_112.jpg', 'flaekli_113.jpg', 'flaekli_114.jpg', 'flaekli_115.jpg', 'flaekli_116.jpg', 'flaekli_117.jpg', 'flaekli_118.jpg', 'flaekli_119.jpg', 'flaekli_120.jpg', 'flaekli_121.jpg', 'flaekli_122.jpg', 'flaekli_123.jpg', 'flaekli_124.jpg', 'flaekli_125.jpg', 'flaekli_126.jpg', 'flaekli_127.jpg', 'flaekli_128.jpg', 'flaekli_129.jpg', 'flaekli_130.jpg', 'flaekli_131.jpg', 'flaekli_132.jpg', 'flaekli_133.jpg', 'flaekli_134.jpg', 'flaekli_135.jpg', 'flaekli_136.jpg', 'flaekli_137.jpg', 'flaekli_138.jpg', 'flaekli_139.jpg', 'flaekli_140.jpg', 'flaekli_141.jpg', 'flaekli_142.jpg', 'flaekli_143.jpg', 'flaekli_144.jpg', 'flaekli_145.jpg', 'flaekli_146.jpg', 'flaekli_147.jpg', 'flaekli_148.jpg', 'flaekli_149.jpg', 'flaekli_150.jpg', 'flaekli_151.jpg', 'flaekli_152.jpg', 'flaekli_153.jpg', 'flaekli_154.jpg', 'flaekli_155.jpg', 'flaekli_156.jpg', 'flaekli_157.jpg', 'flaekli_158.jpg', 'flaekli_159.jpg', 'flaekli_160.jpg', 'flaekli_161.jpg', 'flaekli_162.jpg', 'flaekli_163.jpg', 'flaekli_164.jpg', 'flaekli_165.jpg', 'flaekli_166.jpg', 'flaekli_167.jpg', 'flaekli_168.jpg', 'flaekli_169.jpg', 'flaekli_170.jpg', 'flaekli_171.jpg', 'flaekli_172.jpg', 'flaekli_173.jpg', 'flaekli_174.jpg', 'flaekli_175.jpg', 'flaekli_176.jpg', 'flaekli_177.jpg', 'flaekli_178.jpg', 'flaekli_179.jpg']\n",
            "Files in 'other_cats' folder: ['other_cats_1.jpg', 'other_cats_3.jpg', 'other_cats_13.jpg', 'other_cats_14.jpg', 'other_cats_16.jpg', 'other_cats_17.jpg', 'other_cats_20.jpg', 'other_cats_21.jpg', 'other_cats_24.jpg', 'other_cats_25.jpg', 'other_cats_27.jpg', 'other_cats_29.jpg', 'other_cats_30.jpg', 'other_cats_31.jpg', 'other_cats_32.jpg', 'other_cats_36.jpg', 'other_cats_37.jpg', 'other_cats_38.jpg', 'other_cats_41.jpg', 'other_cats_43.jpg', 'other_cats_44.jpg', 'other_cats_45.jpg', 'other_cats_48.jpg', 'other_cats_50.jpg', 'other_cats_53.jpg', 'other_cats_54.jpg', 'other_cats_55.jpg', 'other_cats_58.jpg', 'other_cats_59.jpg', 'other_cats_62.jpg', 'other_cats_63.jpg', 'other_cats_65.jpg', 'other_cats_68.jpg', 'other_cats_71.jpg', 'other_cats_73.jpg', 'other_cats_74.jpg', 'other_cats_78.jpg', 'other_cats_82.jpg', 'other_cats_84.jpg', 'other_cats_85.jpg', 'other_cats_87.jpg', 'other_cats_88.jpg', 'other_cats_90.jpg', 'other_cats_91.jpg', 'other_cats_93.jpg', 'other_cats_95.jpg', 'other_cats_96.jpg', 'other_cats_98.jpg', 'other_cats_100.jpg', 'other_cats_102.jpg', 'other_cats_103.jpg', 'other_cats_104.jpg', 'other_cats_105.jpg', 'other_cats_108.jpg', 'other_cats_110.jpg', 'other_cats_114.jpg', 'other_cats_119.jpg', 'other_cats_124.jpg', 'other_cats_125.jpg', 'other_cats_126.jpg', 'other_cats_129.jpg', 'other_cats_130.jpg', 'other_cats_131.jpg', 'other_cats_132.jpg', 'other_cats_135.jpg', 'other_cats_138.jpg', 'other_cats_139.jpg', 'other_cats_144.jpg', 'other_cats_145.jpg', 'other_cats_148.jpg', 'other_cats_149.jpg', 'other_cats_151.jpg', 'other_cats_159.jpg', 'other_cats_163.jpg', 'other_cats_164.jpg', 'other_cats_166.jpg', 'other_cats_167.jpg', 'other_cats_168.jpg', 'other_cats_171.jpg', 'other_cats_173.jpg', 'other_cats_174.jpg', 'other_cats_175.jpg', 'other_cats_176.jpg', 'other_cats_180.jpg', 'other_cats_183.jpg', 'other_cats_185.jpg', 'other_cats_188.jpg', 'other_cats_191.jpg', 'other_cats_192.jpg', 'other_cats_195.jpg', 'other_cats_197.jpg', 'other_cats_198.jpg', 'other_cats_199.jpg', 'other_cats_202.jpg', 'other_cats_204.jpg', 'other_cats_207.jpg', 'other_cats_208.jpg', 'other_cats_209.jpg', 'other_cats_211.jpg', 'other_cats_213.jpg', 'other_cats_222.jpg', 'other_cats_226.jpg', 'other_cats_227.jpg', 'other_cats_229.jpg', 'other_cats_230.jpg', 'other_cats_233.jpg', 'other_cats_237.jpg', 'other_cats_238.jpg', 'other_cats_240.jpg', 'other_cats_248.jpg', 'other_cats_250.jpg', 'other_cats_251.jpg', 'other_cats_253.jpg', 'other_cats_257.jpg', 'other_cats_259.jpg', 'other_cats_263.jpg', 'other_cats_265.jpg', 'other_cats_266.jpg', 'other_cats_268.jpg', 'other_cats_271.jpg', 'other_cats_273.jpg', 'other_cats_274.jpg', 'other_cats_276.jpg', 'other_cats_278.jpg', 'other_cats_283.jpg', 'other_cats_286.jpg', 'other_cats_291.jpg', 'other_cats_292.jpg', 'other_cats_293.jpg', 'other_cats_296.jpg', 'other_cats_298.jpg', 'other_cats_305.jpg', 'other_cats_306.jpg', 'other_cats_310.jpg', 'other_cats_311.jpg', 'other_cats_312.jpg', 'other_cats_313.jpg', 'other_cats_316.jpg', 'other_cats_317.jpg', 'other_cats_318.jpg', 'other_cats_319.jpg', 'other_cats_322.jpg', 'other_cats_323.jpg', 'other_cats_328.jpg', 'other_cats_329.jpg', 'other_cats_331.jpg', 'other_cats_333.jpg', 'other_cats_338.jpg', 'other_cats_339.jpg', 'other_cats_342.jpg', 'other_cats_345.jpg', 'other_cats_346.jpg', 'other_cats_349.jpg', 'other_cats_350.jpg', 'other_cats_351.jpg', 'other_cats_354.jpg', 'other_cats_356.jpg', 'other_cats_357.jpg', 'other_cats_358.jpg', 'other_cats_359.jpg', 'other_cats_360.jpg', 'other_cats_365.jpg', 'other_cats_368.jpg', 'other_cats_370.jpg', 'other_cats_371.jpg', 'other_cats_373.jpg', 'other_cats_376.jpg', 'other_cats_377.jpg', 'other_cats_379.jpg', 'other_cats_380.jpg', 'other_cats_384.jpg', 'other_cats_387.jpg', 'other_cats_388.jpg', 'other_cats_390.jpg', 'other_cats_392.jpg', 'other_cats_393.jpg', 'other_cats_396.jpg', 'other_cats_397.jpg', 'other_cats_398.jpg']\n",
            "flaekli count: 179, other_cats count: 179\n",
            "Images have been processed, balanced, and saved!\n"
          ]
        }
      ]
    }
  ]
}